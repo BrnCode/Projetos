{
  "cells": [
    {
      "cell_type": "markdown",
      "source": [
        "#Desafio Kaggle - Santander Customer Transaction Prediction"
      ],
      "metadata": {
        "id": "YQyMv6MgwkBZ"
      }
    },
    {
      "cell_type": "markdown",
      "source": [
        "> Desafio em que será necessário prever a variável target do dataset.\n",
        "\n",
        "> Aprendendo a criar um post no site com Jupyter Notebook\n",
        "\n",
        "* toc: true\n",
        #"* branch: master\n",
        "* badges: true\n",
        "* comments: true\n",
        "* author: brn\n",
        "* categores: [jupyter]\n"
        "* image: images/chart-preview.png\n"
      ],
      "metadata": {
        "id": "rF8EfejMwj6F"
      }
    },
    {
      "cell_type": "markdown",
      "metadata": {
        "id": "GepNAThxwDit"
      },
      "source": [
        "Para acessar esta competição no Kaggle [clique aqui](https://www.kaggle.com/c/santander-customer-transaction-prediction/overview)\n",
        "\n",
        "Para baixar os dados [clique aqui](https://www.kaggle.com/c/santander-customer-transaction-prediction/data)\n",
        "\n",
        "## Proposta do desafio\n",
        "\n",
        "Nossa equipe de ciência de dados está desafiando continuamente nossos algoritmos de aprendizado de máquina, trabalhando com a comunidade global de dados científicos para garantir que possamos identificar com mais precisão novas maneiras de resolver nosso desafio mais comum, problemas de classificação binária como: um cliente está satisfeito? Um cliente comprará este produto? Um cliente pode pagar este empréstimo?\n",
        "\n",
        "Neste desafio, convidamos a Kagglers a nos ajudar a identificar quais clientes farão uma transação específica no futuro, independentemente do volume de dinheiro transacionado. Os dados fornecidos para esta competição têm a mesma estrutura que os dados reais que temos disponíveis para resolver este problema."
      ]
    },
    {
      "cell_type": "code",
      "execution_count": null,
      "metadata": {
        "id": "Qw4acZ84ul85"
      },
      "outputs": [],
      "source": [
        "# Importando as bibliotecas\n",
        "import pandas as pd\n",
        "import numpy as np\n",
        "\n",
        "\n",
        "from sklearn.model_selection import train_test_split\n",
        "from sklearn.pipeline import make_pipeline\n",
        "from sklearn.preprocessing import StandardScaler\n",
        "\n",
        "# Modelos\n",
        "from sklearn.linear_model import LogisticRegression\n",
        "from sklearn.neighbors import KNeighborsClassifier\n",
        "from sklearn.svm import SVC\n",
        "from sklearn.tree import DecisionTreeClassifier\n",
        "\n",
        "from sklearn.ensemble import RandomForestClassifier\n",
        "from sklearn.ensemble import BaggingClassifier\n",
        "from sklearn.ensemble import GradientBoostingClassifier\n",
        "from sklearn.ensemble import AdaBoostClassifier\n",
        "from lightgbm import LGBMClassifier\n",
        "\n",
        "# Métricas e otimização\n",
        "from sklearn import metrics\n",
        "from sklearn.metrics import confusion_matrix, ConfusionMatrixDisplay\n",
        "from sklearn.metrics import accuracy_score, precision_score, recall_score, roc_auc_score\n",
        "from sklearn.metrics import  f1_score\n",
        "\n",
        "from sklearn.feature_selection import RFECV\n",
        "from sklearn.model_selection import GridSearchCV"
      ]
    },
    {
      "cell_type": "code",
      "source": [
        "#from google.colab import drive\n",
        "#drive.mount('/content/drive')"
      ],
      "metadata": {
        "id": "wav2dvJMon7x"
      },
      "execution_count": null,
      "outputs": []
    },
    {
      "cell_type": "code",
      "execution_count": null,
      "metadata": {
        "colab": {
          "base_uri": "https://localhost:8080/",
          "height": 235
        },
        "id": "SdRgeVJ7vhOb",
        "outputId": "1b233a53-abb9-47f2-eb03-e91b23fa36a5"
      },
      "outputs": [
        {
          "output_type": "execute_result",
          "data": {
            "text/plain": [
              "   ID_code  target    var_0   var_1    var_2   var_3    var_4   var_5   var_6  \\\n",
              "0  train_0       0   8.9255 -6.7863  11.9081  5.0930  11.4607 -9.2834  5.1187   \n",
              "1  train_1       0  11.5006 -4.1473  13.8588  5.3890  12.3622  7.0433  5.6208   \n",
              "2  train_2       0   8.6093 -2.7457  12.0805  7.8928  10.5825 -9.0837  6.9427   \n",
              "3  train_3       0  11.0604 -2.1518   8.9522  7.1957  12.5846 -1.8361  5.8428   \n",
              "4  train_4       0   9.8369 -1.4834  12.8746  6.6375  12.2772  2.4486  5.9405   \n",
              "\n",
              "     var_7  ...  var_190  var_191  var_192  var_193  var_194  var_195  \\\n",
              "0  18.6266  ...   4.4354   3.9642   3.1364   1.6910  18.5227  -2.3978   \n",
              "1  16.5338  ...   7.6421   7.7214   2.5837  10.9516  15.4305   2.0339   \n",
              "2  14.6155  ...   2.9057   9.7905   1.6704   1.6858  21.6042   3.1417   \n",
              "3  14.9250  ...   4.4666   4.7433   0.7178   1.4214  23.0347  -1.2706   \n",
              "4  19.2514  ...  -1.4905   9.5214  -0.1508   9.1942  13.2876  -1.5121   \n",
              "\n",
              "   var_196  var_197  var_198  var_199  \n",
              "0   7.8784   8.5635  12.7803  -1.0914  \n",
              "1   8.1267   8.7889  18.3560   1.9518  \n",
              "2  -6.5213   8.2675  14.7222   0.3965  \n",
              "3  -2.9275  10.2922  17.9697  -8.9996  \n",
              "4   3.9267   9.5031  17.9974  -8.8104  \n",
              "\n",
              "[5 rows x 202 columns]"
            ],
            "text/html": [
              "\n",
              "  <div id=\"df-86c961d8-e946-46d7-912e-abaecfaec926\">\n",
              "    <div class=\"colab-df-container\">\n",
              "      <div>\n",
              "<style scoped>\n",
              "    .dataframe tbody tr th:only-of-type {\n",
              "        vertical-align: middle;\n",
              "    }\n",
              "\n",
              "    .dataframe tbody tr th {\n",
              "        vertical-align: top;\n",
              "    }\n",
              "\n",
              "    .dataframe thead th {\n",
              "        text-align: right;\n",
              "    }\n",
              "</style>\n",
              "<table border=\"1\" class=\"dataframe\">\n",
              "  <thead>\n",
              "    <tr style=\"text-align: right;\">\n",
              "      <th></th>\n",
              "      <th>ID_code</th>\n",
              "      <th>target</th>\n",
              "      <th>var_0</th>\n",
              "      <th>var_1</th>\n",
              "      <th>var_2</th>\n",
              "      <th>var_3</th>\n",
              "      <th>var_4</th>\n",
              "      <th>var_5</th>\n",
              "      <th>var_6</th>\n",
              "      <th>var_7</th>\n",
              "      <th>...</th>\n",
              "      <th>var_190</th>\n",
              "      <th>var_191</th>\n",
              "      <th>var_192</th>\n",
              "      <th>var_193</th>\n",
              "      <th>var_194</th>\n",
              "      <th>var_195</th>\n",
              "      <th>var_196</th>\n",
              "      <th>var_197</th>\n",
              "      <th>var_198</th>\n",
              "      <th>var_199</th>\n",
              "    </tr>\n",
              "  </thead>\n",
              "  <tbody>\n",
              "    <tr>\n",
              "      <th>0</th>\n",
              "      <td>train_0</td>\n",
              "      <td>0</td>\n",
              "      <td>8.9255</td>\n",
              "      <td>-6.7863</td>\n",
              "      <td>11.9081</td>\n",
              "      <td>5.0930</td>\n",
              "      <td>11.4607</td>\n",
              "      <td>-9.2834</td>\n",
              "      <td>5.1187</td>\n",
              "      <td>18.6266</td>\n",
              "      <td>...</td>\n",
              "      <td>4.4354</td>\n",
              "      <td>3.9642</td>\n",
              "      <td>3.1364</td>\n",
              "      <td>1.6910</td>\n",
              "      <td>18.5227</td>\n",
              "      <td>-2.3978</td>\n",
              "      <td>7.8784</td>\n",
              "      <td>8.5635</td>\n",
              "      <td>12.7803</td>\n",
              "      <td>-1.0914</td>\n",
              "    </tr>\n",
              "    <tr>\n",
              "      <th>1</th>\n",
              "      <td>train_1</td>\n",
              "      <td>0</td>\n",
              "      <td>11.5006</td>\n",
              "      <td>-4.1473</td>\n",
              "      <td>13.8588</td>\n",
              "      <td>5.3890</td>\n",
              "      <td>12.3622</td>\n",
              "      <td>7.0433</td>\n",
              "      <td>5.6208</td>\n",
              "      <td>16.5338</td>\n",
              "      <td>...</td>\n",
              "      <td>7.6421</td>\n",
              "      <td>7.7214</td>\n",
              "      <td>2.5837</td>\n",
              "      <td>10.9516</td>\n",
              "      <td>15.4305</td>\n",
              "      <td>2.0339</td>\n",
              "      <td>8.1267</td>\n",
              "      <td>8.7889</td>\n",
              "      <td>18.3560</td>\n",
              "      <td>1.9518</td>\n",
              "    </tr>\n",
              "    <tr>\n",
              "      <th>2</th>\n",
              "      <td>train_2</td>\n",
              "      <td>0</td>\n",
              "      <td>8.6093</td>\n",
              "      <td>-2.7457</td>\n",
              "      <td>12.0805</td>\n",
              "      <td>7.8928</td>\n",
              "      <td>10.5825</td>\n",
              "      <td>-9.0837</td>\n",
              "      <td>6.9427</td>\n",
              "      <td>14.6155</td>\n",
              "      <td>...</td>\n",
              "      <td>2.9057</td>\n",
              "      <td>9.7905</td>\n",
              "      <td>1.6704</td>\n",
              "      <td>1.6858</td>\n",
              "      <td>21.6042</td>\n",
              "      <td>3.1417</td>\n",
              "      <td>-6.5213</td>\n",
              "      <td>8.2675</td>\n",
              "      <td>14.7222</td>\n",
              "      <td>0.3965</td>\n",
              "    </tr>\n",
              "    <tr>\n",
              "      <th>3</th>\n",
              "      <td>train_3</td>\n",
              "      <td>0</td>\n",
              "      <td>11.0604</td>\n",
              "      <td>-2.1518</td>\n",
              "      <td>8.9522</td>\n",
              "      <td>7.1957</td>\n",
              "      <td>12.5846</td>\n",
              "      <td>-1.8361</td>\n",
              "      <td>5.8428</td>\n",
              "      <td>14.9250</td>\n",
              "      <td>...</td>\n",
              "      <td>4.4666</td>\n",
              "      <td>4.7433</td>\n",
              "      <td>0.7178</td>\n",
              "      <td>1.4214</td>\n",
              "      <td>23.0347</td>\n",
              "      <td>-1.2706</td>\n",
              "      <td>-2.9275</td>\n",
              "      <td>10.2922</td>\n",
              "      <td>17.9697</td>\n",
              "      <td>-8.9996</td>\n",
              "    </tr>\n",
              "    <tr>\n",
              "      <th>4</th>\n",
              "      <td>train_4</td>\n",
              "      <td>0</td>\n",
              "      <td>9.8369</td>\n",
              "      <td>-1.4834</td>\n",
              "      <td>12.8746</td>\n",
              "      <td>6.6375</td>\n",
              "      <td>12.2772</td>\n",
              "      <td>2.4486</td>\n",
              "      <td>5.9405</td>\n",
              "      <td>19.2514</td>\n",
              "      <td>...</td>\n",
              "      <td>-1.4905</td>\n",
              "      <td>9.5214</td>\n",
              "      <td>-0.1508</td>\n",
              "      <td>9.1942</td>\n",
              "      <td>13.2876</td>\n",
              "      <td>-1.5121</td>\n",
              "      <td>3.9267</td>\n",
              "      <td>9.5031</td>\n",
              "      <td>17.9974</td>\n",
              "      <td>-8.8104</td>\n",
              "    </tr>\n",
              "  </tbody>\n",
              "</table>\n",
              "<p>5 rows × 202 columns</p>\n",
              "</div>\n",
              "      <button class=\"colab-df-convert\" onclick=\"convertToInteractive('df-86c961d8-e946-46d7-912e-abaecfaec926')\"\n",
              "              title=\"Convert this dataframe to an interactive table.\"\n",
              "              style=\"display:none;\">\n",
              "        \n",
              "  <svg xmlns=\"http://www.w3.org/2000/svg\" height=\"24px\"viewBox=\"0 0 24 24\"\n",
              "       width=\"24px\">\n",
              "    <path d=\"M0 0h24v24H0V0z\" fill=\"none\"/>\n",
              "    <path d=\"M18.56 5.44l.94 2.06.94-2.06 2.06-.94-2.06-.94-.94-2.06-.94 2.06-2.06.94zm-11 1L8.5 8.5l.94-2.06 2.06-.94-2.06-.94L8.5 2.5l-.94 2.06-2.06.94zm10 10l.94 2.06.94-2.06 2.06-.94-2.06-.94-.94-2.06-.94 2.06-2.06.94z\"/><path d=\"M17.41 7.96l-1.37-1.37c-.4-.4-.92-.59-1.43-.59-.52 0-1.04.2-1.43.59L10.3 9.45l-7.72 7.72c-.78.78-.78 2.05 0 2.83L4 21.41c.39.39.9.59 1.41.59.51 0 1.02-.2 1.41-.59l7.78-7.78 2.81-2.81c.8-.78.8-2.07 0-2.86zM5.41 20L4 18.59l7.72-7.72 1.47 1.35L5.41 20z\"/>\n",
              "  </svg>\n",
              "      </button>\n",
              "      \n",
              "  <style>\n",
              "    .colab-df-container {\n",
              "      display:flex;\n",
              "      flex-wrap:wrap;\n",
              "      gap: 12px;\n",
              "    }\n",
              "\n",
              "    .colab-df-convert {\n",
              "      background-color: #E8F0FE;\n",
              "      border: none;\n",
              "      border-radius: 50%;\n",
              "      cursor: pointer;\n",
              "      display: none;\n",
              "      fill: #1967D2;\n",
              "      height: 32px;\n",
              "      padding: 0 0 0 0;\n",
              "      width: 32px;\n",
              "    }\n",
              "\n",
              "    .colab-df-convert:hover {\n",
              "      background-color: #E2EBFA;\n",
              "      box-shadow: 0px 1px 2px rgba(60, 64, 67, 0.3), 0px 1px 3px 1px rgba(60, 64, 67, 0.15);\n",
              "      fill: #174EA6;\n",
              "    }\n",
              "\n",
              "    [theme=dark] .colab-df-convert {\n",
              "      background-color: #3B4455;\n",
              "      fill: #D2E3FC;\n",
              "    }\n",
              "\n",
              "    [theme=dark] .colab-df-convert:hover {\n",
              "      background-color: #434B5C;\n",
              "      box-shadow: 0px 1px 3px 1px rgba(0, 0, 0, 0.15);\n",
              "      filter: drop-shadow(0px 1px 2px rgba(0, 0, 0, 0.3));\n",
              "      fill: #FFFFFF;\n",
              "    }\n",
              "  </style>\n",
              "\n",
              "      <script>\n",
              "        const buttonEl =\n",
              "          document.querySelector('#df-86c961d8-e946-46d7-912e-abaecfaec926 button.colab-df-convert');\n",
              "        buttonEl.style.display =\n",
              "          google.colab.kernel.accessAllowed ? 'block' : 'none';\n",
              "\n",
              "        async function convertToInteractive(key) {\n",
              "          const element = document.querySelector('#df-86c961d8-e946-46d7-912e-abaecfaec926');\n",
              "          const dataTable =\n",
              "            await google.colab.kernel.invokeFunction('convertToInteractive',\n",
              "                                                     [key], {});\n",
              "          if (!dataTable) return;\n",
              "\n",
              "          const docLinkHtml = 'Like what you see? Visit the ' +\n",
              "            '<a target=\"_blank\" href=https://colab.research.google.com/notebooks/data_table.ipynb>data table notebook</a>'\n",
              "            + ' to learn more about interactive tables.';\n",
              "          element.innerHTML = '';\n",
              "          dataTable['output_type'] = 'display_data';\n",
              "          await google.colab.output.renderOutput(dataTable, element);\n",
              "          const docLink = document.createElement('div');\n",
              "          docLink.innerHTML = docLinkHtml;\n",
              "          element.appendChild(docLink);\n",
              "        }\n",
              "      </script>\n",
              "    </div>\n",
              "  </div>\n",
              "  "
            ]
          },
          "metadata": {},
          "execution_count": 3
        }
      ],
      "source": [
        "data = pd.read_csv(\"/content/drive/MyDrive/Awari/train.csv\")\n",
        "data.head()"
      ]
    },
    {
      "cell_type": "markdown",
      "metadata": {
        "id": "2uleCel6498l"
      },
      "source": [
        "Como o dataset foi distribuido de forma a ocultar o que são as variaveis, fica infactivel fazer uma engenharia de features."
      ]
    },
    {
      "cell_type": "code",
      "execution_count": null,
      "metadata": {
        "colab": {
          "base_uri": "https://localhost:8080/"
        },
        "id": "4ZsSgIzYvjtT",
        "outputId": "215ef73f-eb0b-4b03-d8dd-25c37b9b2822"
      },
      "outputs": [
        {
          "output_type": "execute_result",
          "data": {
            "text/plain": [
              "(200000, 202)"
            ]
          },
          "metadata": {},
          "execution_count": 4
        }
      ],
      "source": [
        "data.shape"
      ]
    },
    {
      "cell_type": "code",
      "execution_count": null,
      "metadata": {
        "colab": {
          "base_uri": "https://localhost:8080/"
        },
        "id": "r2gWTJnqvq8S",
        "outputId": "3a6f9f76-f89f-4893-eb26-2a68abd3bee2"
      },
      "outputs": [
        {
          "output_type": "stream",
          "name": "stdout",
          "text": [
            "<class 'pandas.core.frame.DataFrame'>\n",
            "RangeIndex: 200000 entries, 0 to 199999\n",
            "Columns: 202 entries, ID_code to var_199\n",
            "dtypes: float64(200), int64(1), object(1)\n",
            "memory usage: 308.2+ MB\n"
          ]
        }
      ],
      "source": [
        "data.info()"
      ]
    },
    {
      "cell_type": "markdown",
      "metadata": {
        "id": "OuCeiiYK2z8M"
      },
      "source": [
        "## Avaliando o target\n",
        "\n"
      ]
    },
    {
      "cell_type": "code",
      "execution_count": null,
      "metadata": {
        "colab": {
          "base_uri": "https://localhost:8080/"
        },
        "id": "ekm201iWxx52",
        "outputId": "03fbd697-8ecd-40d4-fe43-eecf3d8226b8"
      },
      "outputs": [
        {
          "output_type": "execute_result",
          "data": {
            "text/plain": [
              "0    179902\n",
              "1     20098\n",
              "Name: target, dtype: int64"
            ]
          },
          "metadata": {},
          "execution_count": 6
        }
      ],
      "source": [
        "data['target'].value_counts()"
      ]
    },
    {
      "cell_type": "markdown",
      "metadata": {
        "id": "Z8G1kF2E3SJd"
      },
      "source": [
        "Importante lembrar que em um problema de classificação caso os dados estejam desbalanceados, que é o caso, é preciso tomar alguma medidas para corrigir isso."
      ]
    },
    {
      "cell_type": "code",
      "execution_count": null,
      "metadata": {
        "id": "Rk9o76fr35oU"
      },
      "outputs": [],
      "source": [
        "X = data.drop(columns=['ID_code', 'target'])\n",
        "y = data['target']"
      ]
    },
    {
      "cell_type": "code",
      "execution_count": null,
      "metadata": {
        "id": "lZl2oc3z3Qo8"
      },
      "outputs": [],
      "source": [
        "X_train, X_test, y_train, y_test = train_test_split(X, y)"
      ]
    },
    {
      "cell_type": "markdown",
      "metadata": {
        "id": "oEpP3gN038sk"
      },
      "source": [
        "## 1 - Regressão Logistica"
      ]
    },
    {
      "cell_type": "code",
      "execution_count": null,
      "metadata": {
        "id": "_pP6aAZ43xjc"
      },
      "outputs": [],
      "source": [
        "pipe_reglog = make_pipeline(StandardScaler(), LogisticRegression())\n",
        "pipe_reglog.fit(X_train, y_train)\n",
        "y_pred = pipe_reglog.predict(X_test)"
      ]
    },
    {
      "cell_type": "code",
      "execution_count": null,
      "metadata": {
        "colab": {
          "base_uri": "https://localhost:8080/",
          "height": 279
        },
        "id": "vbL7_SVD8GM2",
        "outputId": "115d424c-c60a-4ac5-da67-83e3af5bbe6e"
      },
      "outputs": [
        {
          "data": {
            "image/png": "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\n",
            "text/plain": [
              "<Figure size 432x288 with 2 Axes>"
            ]
          },
          "metadata": {},
          "output_type": "display_data"
        }
      ],
      "source": [
        "ConfusionMatrixDisplay.from_predictions(y_test, y_pred);"
      ]
    },
    {
      "cell_type": "code",
      "execution_count": null,
      "metadata": {
        "colab": {
          "base_uri": "https://localhost:8080/"
        },
        "id": "bEjy45Zh8wkN",
        "outputId": "51b3da0f-40fd-410d-d67f-7bfe5b4fc3dc"
      },
      "outputs": [
        {
          "name": "stdout",
          "output_type": "stream",
          "text": [
            "Precision 0.6736465781409602\n",
            "Acuracia 0.9127\n",
            "Recall 0.26144697720515364\n",
            "Roc 0.6236163814954696\n",
            "f1 0.37669570184206774\n"
          ]
        }
      ],
      "source": [
        "print('Precision', precision_score(y_test, y_pred))\n",
        "print('Acuracia', accuracy_score(y_test, y_pred))\n",
        "print('Recall', recall_score(y_test, y_pred))\n",
        "print('Roc', roc_auc_score(y_test, y_pred))\n",
        "print('f1', f1_score(y_test, y_pred))"
      ]
    },
    {
      "cell_type": "markdown",
      "metadata": {
        "id": "O8hH98AcBNXW"
      },
      "source": [
        "A acurácia não é uma boa métrica para dados desbalanceados"
      ]
    },
    {
      "cell_type": "markdown",
      "metadata": {
        "id": "Dz3O2wvf_ViH"
      },
      "source": [
        "### Regressão Logistica + Balanceamento"
      ]
    },
    {
      "cell_type": "code",
      "execution_count": null,
      "metadata": {
        "id": "7vxn5P1x9uAe"
      },
      "outputs": [],
      "source": [
        "pipe_reglog = make_pipeline(StandardScaler(), LogisticRegression(class_weight='balanced'))\n",
        "pipe_reglog.fit(X_train, y_train)\n",
        "y_pred = pipe_reglog.predict(X_test)"
      ]
    },
    {
      "cell_type": "code",
      "execution_count": null,
      "metadata": {
        "colab": {
          "base_uri": "https://localhost:8080/",
          "height": 282
        },
        "id": "P_HvPotN_ct9",
        "outputId": "9ecc8476-95bf-4162-deb4-a95893dcb64a"
      },
      "outputs": [
        {
          "data": {
            "image/png": "iVBORw0KGgoAAAANSUhEUgAAAUUAAAEJCAYAAAAD7jVKAAAABHNCSVQICAgIfAhkiAAAAAlwSFlzAAALEgAACxIB0t1+/AAAADh0RVh0U29mdHdhcmUAbWF0cGxvdGxpYiB2ZXJzaW9uMy4yLjIsIGh0dHA6Ly9tYXRwbG90bGliLm9yZy+WH4yJAAAgAElEQVR4nO3deZxWZf3/8dd7hmERUUCW2NxJQwpUFLQ0slK0+or9rNz5lqUlmmWb1rcoze/XNk1LLU1SyzTckhQlQs2sVNAQBTVGQdkEWWWHmfn8/jjX4A3Oct84NzNzz/vZ4zzmnM+5zjnXYfIz13WusygiMDOzTFlzV8DMrCVxUjQzy+GkaGaWw0nRzCyHk6KZWQ4nRTOzHE6KZtYsJHWU9JSkZyXNkvSDFL9Z0lxJM9I0NMUl6RpJlZJmSjokZ19jJM1J05ic+KGSnkvbXCNJjdWrXTFO1swsD5uAYyJiraQK4HFJD6Z134iIu7YrfzwwME3DgeuB4ZK6A+OAYUAAT0uaGBErU5kvAE8Ck4BRwIM0oEUlxR7dy2PvARXNXQ0rwIuv9WzuKlgBNq1fwZZN6xptLTXkuA91juUrqvMq+/TMTZMjYlRd6yJ7cmRtWqxIU0NPk5wI3Jq2e0JSV0l9gJHAlIhYASBpCjBK0qPAbhHxRIrfCoymNSXFvQdU8NTkAc1dDSvAUeef29xVsAI8O/Xqd7yP5SuqeWrynnmVLe8zp0dD6yWVA08D+wPXRsSTkr4EXC7pe8BU4OKI2AT0A+bnbL4gxRqKL6gj3iBfUzSzggRQk+f/gB6SpudM52yzr4jqiBgK9AcOlzQYuAQ4EDgM6A58a2eeX4tqKZpZyxcEWyK/7jOwLCKGNbrPiFWSHgFGRcRPU3iTpN8CX0/LC4HcrmT/FFtI1oXOjT+a4v3rKN8gtxTNrGAFtBTrJamnpK5pvhPwUeDFdJ2QNFI8Gng+bTIROCuNQo8AVkfEYmAycKykbpK6AccCk9O6NyWNSPs6C7ivsXNzS9HMChIE1U3zdq0+wC3pumIZMCEi7pf0sKSegIAZwBdT+UnACUAlsB74LEBErJB0GTAtlbu0dtAFOA+4GehENsDS4CALOCma2Q6oaXCQOD8RMRM4uI74MfWUD2BsPevGA+PriE8HBhdSLydFMytIANVNkBRbKidFMytYU7QUWyonRTMrSABbSviN/U6KZlaQINx9NjPbKqC6dHOik6KZFSZ7oqV0OSmaWYFENe/onRItmpOimRUkG2hxUjQzA2rvU3RSNDPbqsYtRTOzjFuKZmY5AlFdwi/YclI0s4K5+2xmlgRic5Q3dzWKxknRzAqS3bzt7rOZ2VYeaDEzSyJEdbilaGa2VY1bimZmmWygpXRTR+memZkVhQdazMy2U+37FM3MMn6ixcxsOzUlPPpcumdmZkWRvRCiLK+pIZI6SnpK0rOSZkn6QYrvI+lJSZWS/iipfYp3SMuVaf3eOfu6JMVfknRcTnxUilVKujif83NSNLOCBGJLlOc1NWITcExEDAGGAqMkjQB+BFwVEfsDK4GzU/mzgZUpflUqh6RBwCnAQcAo4DpJ5ZLKgWuB44FBwKmpbIOcFM2sIBFQHWV5TQ3vJyIi1qbFijQFcAxwV4rfAoxO8yemZdL6D0tSit8REZsiYi5QCRyepsqIeCUiNgN3pLINclI0swKJmjynRveUtehmAEuBKcDLwKqIqEpFFgD90nw/YD5AWr8a2CM3vt029cUb5IEWMytIQCGP+fWQND1n+YaIuGHrviKqgaGSugL3Agc2WUV3kJOimRWsgFtylkXEsMYKRcQqSY8ARwBdJbVLrcH+wMJUbCEwAFggqR2wO7A8J14rd5v64vVy99nMChKImshvaoiknqmFiKROwEeBF4BHgJNTsTHAfWl+YlomrX84IiLFT0mj0/sAA4GngGnAwDSa3Z5sMGZiY+fnlqKZFST7xGmTpI4+wC1plLgMmBAR90uaDdwh6YfAv4GbUvmbgN9JqgRWkCU5ImKWpAnAbKAKGJu65Ug6H5gMlAPjI2JWY5VyUjSzAqlJ3qcYETOBg+uIv0I2crx9fCPwqXr2dTlweR3xScCkQurlpGhmBQlK+4kWJ0UzK5jfvG1mlkTILUUzs1rZQIu/5mdmlvgbLWZmW2UDLb6maGa2lV8ya2aW1D7RUqqcFM2sYP5wlZlZEgFbapwUzcyA2u6zk2Kbt3mj+Non92fL5jKqq+Coj63mrG+8zk+/sicz/9WZzl1qAPj6z19jv8EbePiebky4thcR0KlzDRdcMZ/9DtoIwLRHuvCr7/ajukYcf+pyPnPBUgBmPL4rN17aly1bxMD3beCin71GuX9DTebkkc/xiSNfRII//+NA7nz0vezfbxlfP+Vx2ldUU10jrvzjB3jh1V7s2XsVl5zxKO/uv4wb7z+MO6YO2bqfi09/lCMHv8bKNZ0Y8791Popb8vxEyw6SNAq4muwNFb+JiCuKebxiqugQ/PjOl+nUuYaqLXDR6IEcdsybAHzhu4s46uOrtynfe8AmfnJ3JV26VjPt4S5c/c0BXPPAHKqr4dpv9+f/7niZHn22cMEJ72bEcasZsP8mfnLhnvxowsv0328Tt/z4XUyZ0J1Rp61ojtMtOfv0WcEnjnyRc35yElXVZfz0vAf55/N78qXRT/LbBw/hydl7MmLQa3xp9JN8+epP8Oa6Dlx955EcNWTe2/b14BMHcM/fBvOdsx7Z+SfSApT6LTlFawPv6EdjWiopa/EBVG0R1VuEGvj/xUGHradL12oADjxkPcsWVwDw0r93oe/em+iz12Yq2gcjT1zJvybvzpsry6loH/TfbxMAh3xwDY9P6lrck2pD9nrXKmbP68WmLe2oriljRmUfPjh0LiA6d9wCQOdOm1m2ehcAVq3txIuv9aKq+u3/iTz7ch/eXN9hZ1a/hcm6z/lMrVExa71DH41pyaqr4UsfOYDPvG8wBx+9hgMPWQ/AzVf04YsfPoBfjevL5k1vz5QP3d6dwz60BoDlr1fQs++Wret69NnCssUV7N69muoq8Z9nOwHw+P1deWNRxU44q7Zh7qJuDNn/dXbrvJEOFVWMOOg1enVbxzV3HcF5o5/grstuY+xJT/Dr+972xiqrQ1N9o6UlKmb3ua6Pxgwv4vGKrrwcrv/rS6xdXc4Pzt6beS925LOXLKJ7ryq2bBZXf3MAE67txRkXLdm6zYx/7Mrk2/fgyj/NaXDfElxy/Tx+Na4fWzaLQz+4hrLW+Ye2RXp1STdumzKEK8dOYsPmdlQu2IPqGjH6qNn84p4j+NuMffnQwS9z8emP8dVffqy5q9uiZaPPpfvsc7P/ZyfpHEnTJU1/Y3l1c1cnL7vuXs2QI9cy7ZEu7NG7CgnadwiO/cwKXpqxy9Zyr8zuyM+/PoDv/3Yuu3XPzm2Pd23ZpgW4bHEFPfpkLcdBw9Zz5Z8q+cWkObx3+Dr67bdx555YiXvgXwfy+R9/kgt+/l+sWd+B+Ut3Z9Tw//C3GfsA8Mi/9+U9ey1t5lq2fE31OYKWqphJsaGPyWwVETdExLCIGNZzj5b712fV8nLWrs7qt2mDeOaxLgzYfxPLl2SN7Qj450O7s/cBWSJbuqCCSz+/D9+45tWt1wkBDhi6noVzO/D6a+3Zslk8el83RhybDdisWpbta/MmMeG6Xnz8zOU78xRLXtddNwDQq9tajh4yl79O359lqzszdOBiAA599yIWvLF7c1ax1XD3ecds/WgMWTI8BTitiMcrqhVLKvjphXtSUyNqauDoT6xixEff5Juf2o/Vy9sRAfsdtIEv/yj7D+y2q97FmpXl/PKS7O9Cebvglw/9h/J2MPbyBXz7tH2pqRbHnrJiayK987pePPnX3Yga+NiY5Qz9wNp662OF++Hnp7B7541UVZdx1YQPsHZDB378h6O58OR/Ul5Ww+aqcn58+1EAdO+ynhu/eS+dO26mJsSnRj7PmZd/ivUb2zPuv6dy8MBF7L7rRu6+7DbGTzqUB/7V7F/m3GlKffRZ2cewirRz6QTg57z10Zi3fUMh17AhHeOpyQMaKmItzFHnn9vcVbACPDv1ataunP+OMlr39/SMj47/f3mVnXDkr5/O5xOnLUlR71PckY/GmFnLFiGqWuntNvnw8xJmVrBS7j47KZpZQUr9mmLptoHNrGia4pYcSQMkPSJptqRZki5M8e9LWihpRppOyNnmEkmVkl6SdFxOfFSKVUq6OCe+j6QnU/yPkto3dm5OimZWkCa8T7EK+FpEDAJGAGNzHgW+KiKGpmkSQFp3CnAQMAq4TlJ5I48U/yjta39gJXB2Y5VyUjSzgjXFfYoRsTginknza4AXyJ6Eq8+JwB0RsSki5gKVZI8T1/lIsSQBxwB3pe1vAUY3dm5OimZWkAioqinLa8qXpL2Bg4EnU+h8STMljZfULcXqenS4XwPxPYBVEVG1XbxBTopmVrACus89ah/jTdM52+9L0q7A3cBXIuJN4HpgP2AosBj42U48NY8+m1lhCvxw1bKGbt6WVEGWEG+LiHsAImJJzvobgfvTYkOPDtcVXw50ldQutRbrfNR4e24pmlnBIpTX1JB0ze8m4IWIuDIn3ien2EnA82l+InCKpA7p8eGBwFPkPFKcRpdPASZG9rjeI8DJafsxwH2NnZtbimZWsCZ62cP7gTOB5yTNSLFvk40eDyW7JXIecC5ARMySNAGYTTZyPTYiqgEknQ9M5q1Himel/X0LuEPSD4F/kyXhBjkpmllBIprm5u2IeBzqzK71Phqc3p/wtnco1PdIcUS8QjY6nTcnRTMrkKj2J07NzN7S2PXC1sxJ0cwKUurPPjspmllhIruuWKqcFM2sYK31UwP5cFI0s4KEB1rMzLbl7rOZWQ6PPpuZJRFOimZm2/AtOWZmOXxN0cwsCUSNR5/NzN5Swg1FJ0UzK5AHWszMtlPCTUUnRTMrWJtsKUr6BQ38PYiILxelRmbWogVQU9MGkyIwfafVwsxajwDaYksxIm7JXZa0S0SsL36VzKylK+X7FBu92UjSEZJmAy+m5SGSrit6zcys5Yo8p1Yonzswfw4cR/YNVSLiWeDoYlbKzFqy/D5v2loHY/IafY6I+dknWreqLk51zKxVaKWtwHzkkxTnSzoSCEkVwIXAC8Wtlpm1WAFRwqPP+XSfvwiMBfoBi4ChadnM2izlOTWwB2mApEckzZY0S9KFKd5d0hRJc9LPbikuSddIqpQ0U9IhOfsak8rPkTQmJ36opOfSNtdouy5vXRpNihGxLCJOj4jeEdEzIs6IiOWNbWdmJaxpBlqqgK9FxCBgBDBW0iDgYmBqRAwEpqZlgOOBgWk6B7gesiQKjAOGk334flxtIk1lvpCz3ajGKpXP6PO+kv4s6Q1JSyXdJ2nfRk/XzEpXEyTFiFgcEc+k+TVkl+X6AScCtbcE3gKMTvMnArdG5gmgq6Q+ZAPBUyJiRUSsBKYAo9K63SLiiYgI4NacfdUrn+7zH4AJQB+gL3AncHse25lZKaq9eTufCXpImp4znVPXLiXtDRwMPAn0jojFadXrQO803w+Yn7PZghRrKL6gjniD8hlo2SUifpez/HtJ38hjOzMrUQXcvL0sIoY1VEDSrsDdwFci4s3cy34REZJ26lh3vS3FdLGzO/CgpIsl7S1pL0nfBCbtvCqaWYtTo/ymRqQ7Wu4GbouIe1J4Ser6kn4uTfGFwICczfunWEPx/nXEG9RQ9/lpsuefPw2cCzwCPAp8CfhMYzs2s9KlyG9qcB9Zk/Am4IWIuDJn1USgdgR5DHBfTvysNAo9AlidutmTgWMldUsDLMcCk9O6NyWNSMc6K2df9Wro2ed9GtvYzNqgpnuE7/3AmcBzkmak2LeBK4AJks4GXiVrmEHWQz0BqATWA58FiIgVki4DpqVyl0bEijR/HnAz0Al4ME0NyuuJFkmDgUFAx9pYRNyaz7ZmVmq2DqK8IxHxOPXfzPjhOsoH9dwjHRHjgfF1xKcDgwupV6NJUdI4YCRZUpxEdq/Q42TD22bWFpXwY3753JJzMlnWfj0iPgsMAXYvaq3MrGWryXNqhfLpPm+IiBpJVZJ2IxsJGtDYRmZWotrqS2ZzTJfUFbiRbER6LfCvotbKzFq0nXvn4M7VaFKMiPPS7K8kPUT22MzM4lbLzFq0tpgUc99AUde62mcWzcxKSUMtxZ81sC6AY5q4Lvxn5i4c13doU+/Wimi3/gsaL2QtRvm6zU2ynzbZfY6ID+3MiphZKxHk9Qhfa5XXzdtmZttoiy1FM7P6tMnus5lZvUo4Kebz5m1JOkPS99LynpIOL37VzKzFauPffb4OOAI4NS2vAa4tWo3MrEXL97VhrbWLnU/3eXhEHCLp3wARsVJS+yLXy8xasjY++rxFUjmpMSypJ632UW8zawqttRWYj3y6z9cA9wK9JF1O9tqw/y1qrcysZSvha4r5PPt8m6SnyV4fJmB0RLxQ9JqZWcvUiq8X5iOfl8zuSfbq7z/nxiLitWJWzMxasLacFIEHyP4JRPY5gn2Al4CDilgvM2vBVMKjCvl0n9+bu5zennNePcXNzFq1gp9oiYhnJA0vRmXMrJVoy91nSRflLJYBhwCLilYjM2vZ2vpAC9AlZ76K7Brj3cWpjpm1CiWcFBu8TzHdtN0lIn6Qpssj4raI2LiT6mdmLVET3acoabykpZKez4l9X9JCSTPSdELOukskVUp6SdJxOfFRKVYp6eKc+D6SnkzxP+bzNF69SVFSu4ioBt7f+KmZWVshstHnfKY83AyMqiN+VUQMTdMkAEmDgFPI7nwZBVwnqTw13q4l+yb9IODUVBbgR2lf+wMrgbMbq1BDLcWn0s8ZkiZKOlPSJ2unRk/VzEpTE74QIiIeA1bkeeQTgTsiYlNEzAUqgcPTVBkRr0TEZuAO4ERJIvtsyl1p+1uA0Y0dJJ9rih2B5WnntfcrBnBPnidiZqUm/2uKPSRNz1m+ISJuyGO78yWdBUwHvhYRK4F+wBM5ZRakGMD87eLDgT2AVRFRVUf5ejWUFHulkefneSsZ1irhy6xm1qj8M8CyiBhW4N6vBy5LR7mM7CN6nytwHzusoaRYDuzKtsmwlpOiWRtWzFtyImLJ1uNINwL3p8WFwICcov1TjHriy4GuaXykarvy9WooKS6OiEsbPQMza3uKmBQl9YmIxWnxJLLeKsBE4A+SrgT6AgPJxj4EDJS0D1nSOwU4LSJC0iPAyWTXGccA9zV2/IaSYum+RdLMdlw03bPPkm4HRpJde1wAjANGShqaHYl5wLkAETFL0gRgNtk902PTHTJIOh+YTNbDHR8Rs9IhvgXcIemHwL+BmxqrU0NJ8cOFnqCZtRFN1FKMiFPrCNebuCLicuDyOuKTgEl1xF8hG53OW71JMSLyHSY3szamrT/mZ2a2LSdFM7OkFX9qIB9OimZWEOHus5nZNpwUzcxyOSmameVwUjQzS/zmbTOz7Tgpmpm9pU1/4tTMbHvuPpuZ1fLN22Zm23FSNDPL+IkWM7PtqKZ0s6KTopkVxtcUzcy25e6zmVkuJ0Uzs7e4pWhmlstJ0cwsacKv+bVETopmVhDfp2hmtr0o3axY1twVMLPWR5Hf1Oh+pPGSlkp6PifWXdIUSXPSz24pLknXSKqUNFPSITnbjEnl50gakxM/VNJzaZtrJKmxOrmluAMuuvI1hn9kDauWtePcYw4A4KiPr+LMr73OgIGb+PIJA5kzc5dttunZbzM3PvoSv/9Zb+76VS969t3MN65+ja49qyBg0u/34E839WyO02kTKtpX86NfP0FF+xrKy4N/TH0Xt934boYctozPXfAiZWXBhvXtuOrS97F4QWeO/+SrfPzkV6mpERvWt+MX/zeY+XO7UF5ew5f/5zn2P2A15eXB1En9uPOW/Zv79Haupr15+2bgl8CtObGLgakRcYWki9Pyt4DjgYFpGg5cDwyX1B0YBwxLNXta0sSIWJnKfAF4EpgEjAIebKhCRWsp1vUXoFT85Y/d+c7p+2wTm/diRy79/N4890TnOrc5d9wipj3cZetydZW44dK+nDPyQC78+EA+8d/L2HPgxqLWuy3bsrmMb583nAtOP4oLTv8Ahx7xBgcMXsnYbz3PT783lAvOOIq/Te7LKZ+rBODRyX0Ze9rRXHDGUdz9u335wldeAOADH1lMRUUNY087mgvP+gDHnzSfXn3WN+epNQvV5Dc1JiIeA1ZsFz4RuCXN3wKMzonfGpkngK6S+gDHAVMiYkVKhFOAUWndbhHxREQEWeIdTSOK2X2+mSwrl5znn9yVNSu3bWTPr+zIgpc71ln+iFGreX1+e179z1vrVyytoPK5rDW5YV058ys70qPPluJVus0TGzdkv7N27YLydgEhIsQunasA2GXXLSx/I/sdbVhXsXXLjp2qiUi9rhAdO1VTVl5D+47VVFWJ9evaXoergKTYQ9L0nOmcPHbfOyIWp/nXgd5pvh8wP6fcghRrKL6gjniDivbbjIjHJO1drP23Fh13qebT5y3lklP25eQvvVFnmd79N7Pf4A28+Mwuda63plFWFlx96+P06b+eB+7ai5dmdeWay9/L938+jc0by1m/rh0XnX3E1vIfO3keJ502j3YVNXz7vOEAPD71XQw/egm/n/QwHTpWc+NV72Htm+2b65SaR1DIQMuyiBi2w4eKCGnnjnU3+0CLpHNq/4psYVNzV6fJnfn1Jdx7Y082ri+vc33HXar57m/m8avv9WX92rrLWNOoqREXnHEUYz5+DO8etIq99l3D6FPn8v2vHMaYTxzDlPv7b+0mAzxw1958/pMj+e0vD+AzqVv97oNWUVMjzjzhGD43eiQnnT6Xd/Vtg93nJhpoqceS1PUl/Vya4guBATnl+qdYQ/H+dcQb1OxJMSJuiIhhETGsgg7NXZ0md+DB6zn7fxZxy5OzOenzb3DKBUv5r88uA6C8XfDd38zj4Xu68Y8HuzZzTduOdWsrmPn0Hhx65BvsM3ANL83K/u3/PqUP73nvqreVf+wvfTnig0sAGHncIp7+V0+qq8tYvbIDs5/txv6DVu/U+rcIkee0YyYCtSPIY4D7cuJnpVHoEcDq1M2eDBwrqVsaqT4WmJzWvSlpRBp1PitnX/VqexdDdrKvnfTWyOQZX3udjevKmPjbHkBw0c/mM39OR+65waPOxbZb101UV5Wxbm0F7TtUM3T4Mu66dV922XULffdcy6LXduXg4cuYPy8bKOs7YB2L5mfzh71/KYvmZ5c23ljSiSHDlvHIg/3o0LGKAwev4r479m6u02oWTXnztqTbgZFk1x4XkI0iXwFMkHQ28Crw6VR8EnACUAmsBz4LEBErJF0GTEvlLo2I2sGb88jGNzqRjTo3OPIMToo75OLrXuV9R6xl9+5V/H76bH73s96sWdmO8364kN33qOKy383l5Vkd+c5p+9W7j4MOX8dHPrWSV2Z35LopLwHw2//rw7SHd9tZp9GmdO+xiYvGzaSsLFBZ8Phf+zDt8d784n/fy3eueIaaEGvfrODqy94HwMc/9SpDD19GdVUWv/IHQwC4/869+Or3ZnLdHY8hYMr9/ZlX2cZ+ZxFN9pLZiDi1nlUfrqNsAGPr2c94YHwd8enA4ELqpCjSnem5fwGAJcC4iLipoW12U/cYrrf9W1gL1q5/o4N51oL88/XbWb15SaM3MDekS9f+cfDRF+ZV9u9//ubT72SgpTkUc/S5vr8AZtbK+dlnM7NaAfgbLWZmOUo3Jzopmlnh3H02M8vhT5yamdXyJ07NzN6S3bxdulnRSdHMCudvtJiZvcUtRTOzWr6maGaWq+mefW6JnBTNrHDuPpuZJZHf91daKydFMyucW4pmZjlKNyc6KZpZ4VRTuv1nJ0UzK0zgm7fNzGqJ8M3bZmbbcFI0M8vhpGhmlviaopnZtkp59LmsuStgZq1NZN3nfKZGSJon6TlJMyRNT7HukqZImpN+dktxSbpGUqWkmZIOydnPmFR+jqQx7+TsnBTNrDBBkyXF5EMRMTTn+9AXA1MjYiAwNS0DHA8MTNM5wPWQJVFgHDAcOBwYV5tId4STopkVribPacecCNyS5m8BRufEb43ME0BXSX2A44ApEbEiIlYCU4BRO3pwJ0UzK5gi8pqAHpKm50znbLerAP4i6emcdb0jYnGafx3oneb7AfNztl2QYvXFd4gHWsyscPl3jZfldIvr8oGIWCipFzBF0ovbHiZC2rkfVHVL0cwKEwHVNflNje4qFqafS4F7ya4JLkndYtLPpan4QmBAzub9U6y++A5xUjSzwjXBQIukzpK61M4DxwLPAxOB2hHkMcB9aX4icFYahR4BrE7d7MnAsZK6pQGWY1Nsh7j7bGaFa5onWnoD90qCLBf9ISIekjQNmCDpbOBV4NOp/CTgBKASWA98NqtKrJB0GTAtlbs0IlbsaKWcFM2sMAE0wTdaIuIVYEgd8eXAh+uIBzC2nn2NB8a/40rhpGhmBQuI0n2ixUnRzAoT5DWI0lo5KZpZ4fyWHDOzHE6KZma1CnquudVxUjSzwgRQwq8Oc1I0s8K5pWhmVis8+mxmtlVA+D5FM7McTfBES0vlpGhmhfM1RTOzJMKjz2Zm23BL0cysVhDV1c1diaJxUjSzwjTRq8NaKidFMyucb8kxM8sEEG4pmpkl4ZfMmplto5QHWhQtaGhd0htkH6opNT2AZc1dCStIqf7O9oqInu9kB5IeIvv3yceyiBj1To63s7WopFiqJE1v5IPg1sL4d9Z2+bvPZmY5nBTNzHI4Ke4cNzR3Baxg/p21Ub6maGaWwy1FM7McTopFJGmUpJckVUq6uLnrY42TNF7SUknPN3ddrHk4KRaJpHLgWuB4YBBwqqRBzVsry8PNQKu6r86alpNi8RwOVEbEKxGxGbgDOLGZ62SNiIjHgBXNXQ9rPk6KxdMPmJ+zvCDFzKwFc1I0M8vhpFg8C4EBOcv9U8zMWjAnxeKZBgyUtI+k9sApwMRmrpOZNcJJsUgiogo4H5gMvABMiIhZzVsra4yk24F/AQdIWiDp7Oauk+1cfqLFzCyHW4pmZjmcFM3McjgpmpnlcFI0M8vhpGhmlv43a+gAAAMHSURBVMNJsRWRVC1phqTnJd0paZd3sK+bJZ2c5n/T0MsqJI2UdOQOHGOepLd94Ki++HZl1hZ4rO9L+nqhdTTbnpNi67IhIoZGxGBgM/DF3JWSduiTtRHx+YiY3UCRkUDBSdGsNXJSbL3+DuyfWnF/lzQRmC2pXNJPJE2TNFPSuQDK/DK93/GvQK/aHUl6VNKwND9K0jOSnpU0VdLeZMn3q6mVepSknpLuTseYJun9ads9JP1F0ixJvwHU2ElI+pOkp9M252y37qoUnyqpZ4rtJ+mhtM3fJR3YFP+YZrV2qGVhzSu1CI8HHkqhQ4DBETE3JZbVEXGYpA7APyT9BTgYOIDs3Y69gdnA+O322xO4ETg67at7RKyQ9CtgbUT8NJX7A3BVRDwuaU+yp3beA4wDHo+ISyV9DMjnaZDPpWN0AqZJujsilgOdgekR8VVJ30v7Pp/s2ylfjIg5koYD1wHH7MA/o1mdnBRbl06SZqT5vwM3kXVrn4qIuSl+LPC+2uuFwO7AQOBo4PaIqAYWSXq4jv2PAB6r3VdE1PdewY8Ag6StDcHdJO2ajvHJtO0DklbmcU5flnRSmh+Q6rocqAH+mOK/B+5JxzgSuDPn2B3yOIZZ3pwUW5cNETE0N5CSw7rcEHBBREzertwJTViPMmBERGysoy55kzSSLMEeERHrJT0KdKyneKTjrtr+38CsKfmaYumZDHxJUgWApHdL6gw8BnwmXXPsA3yojm2fAI6WtE/atnuKrwG65JT7C3BB7YKk2iT1GHBaih0PdGukrrsDK1NCPJCspVqrDKht7Z5G1i1/E5gr6VPpGJI0pJFjmBXESbH0/IbseuEz6eNLvybrEdwLzEnrbiV7E8w2IuIN4ByyruqzvNV9/TNwUu1AC/BlYFgayJnNW6PgPyBLqrPIutGvNVLXh4B2kl4AriBLyrXWAYenczgGuDTFTwfOTvWbhT/xYE3Mb8kxM8vhlqKZWQ4nRTOzHE6KZmY5nBTNzHI4KZqZ5XBSNDPL4aRoZpbDSdHMLMf/B/zgEpoqWm/BAAAAAElFTkSuQmCC\n",
            "text/plain": [
              "<Figure size 432x288 with 2 Axes>"
            ]
          },
          "metadata": {},
          "output_type": "display_data"
        }
      ],
      "source": [
        "ConfusionMatrixDisplay.from_predictions(y_test, y_pred);"
      ]
    },
    {
      "cell_type": "code",
      "execution_count": null,
      "metadata": {
        "colab": {
          "base_uri": "https://localhost:8080/"
        },
        "id": "R4W4Tx87_g5E",
        "outputId": "733c9bf2-1ff4-4871-93e0-a0afd0b4d787"
      },
      "outputs": [
        {
          "name": "stdout",
          "output_type": "stream",
          "text": [
            "Precision 0.28119276137445964\n",
            "Acuracia 0.78094\n",
            "Recall 0.7706827309236948\n",
            "Roc 0.7763786822099593\n",
            "f1 0.41204573514413007\n"
          ]
        }
      ],
      "source": [
        "print('Precision', precision_score(y_test, y_pred))\n",
        "print('Acuracia', accuracy_score(y_test, y_pred))\n",
        "print('Recall', recall_score(y_test, y_pred))\n",
        "print('Roc', roc_auc_score(y_test, y_pred))\n",
        "print('f1', f1_score(y_test, y_pred))"
      ]
    },
    {
      "cell_type": "markdown",
      "metadata": {
        "id": "BzM_rTVsD_Lo"
      },
      "source": [
        "### Regressão Logistica + Balanceamento + RFE"
      ]
    },
    {
      "cell_type": "code",
      "execution_count": null,
      "metadata": {
        "id": "1I1AJYgb_hyZ"
      },
      "outputs": [],
      "source": [
        "pipe_rfe_reglog = make_pipeline(StandardScaler(), RFECV(LogisticRegression(class_weight='balanced'), step=1, cv=5), LogisticRegression(class_weight='balanced') )\n",
        "pipe_rfe_reglog.fit(X_train, y_train)\n",
        "y_pred = pipe_rfe_reglog.predict(X_test)"
      ]
    },
    {
      "cell_type": "code",
      "execution_count": null,
      "metadata": {
        "colab": {
          "base_uri": "https://localhost:8080/",
          "height": 282
        },
        "id": "p6pYoUriELp2",
        "outputId": "db050566-c615-402b-c215-106dde0a5c6a"
      },
      "outputs": [
        {
          "data": {
            "image/png": "iVBORw0KGgoAAAANSUhEUgAAAUUAAAEJCAYAAAAD7jVKAAAABHNCSVQICAgIfAhkiAAAAAlwSFlzAAALEgAACxIB0t1+/AAAADh0RVh0U29mdHdhcmUAbWF0cGxvdGxpYiB2ZXJzaW9uMy4yLjIsIGh0dHA6Ly9tYXRwbG90bGliLm9yZy+WH4yJAAAgAElEQVR4nO3de5xVVf3/8dd7huGuXOQiCooiXtACDQUt/al9M7T6imVf0Up+ZmnesrKL9f190zTLyjQptUzJS6aZVmKhRKZfLwmCiih4YRQUUEGucoeZ+fz+2GvggHM5B+cwM2fezx77Med89tp7r83kZ9baa6+9FRGYmVmmrLkrYGbWkjgpmpnlcFI0M8vhpGhmlsNJ0cwsh5OimVkOJ0UzaxaSOkp6StJzkmZJ+kGK3yJprqQZaRmW4pI0TlKlpJmSDsnZ11hJc9IyNif+IUnPp23GSVJj9WpXjJM1M8vDBuDYiFgtqQJ4XNIDad23IuKebcofDwxOywjgBmCEpJ7AJcBwIICnJU2IiOWpzJeBqcBEYBTwAA1oUUmxV8/yGDigormrYQV46Y3ezV0FK8CGtcvYtGFNo62lhnz8mC6xdFl1XmWfnrlhUkSMqmtdZDNHVqevFWlpaDbJicBtabspkrpL6gccDUyOiGUAkiYDoyQ9AuwcEVNS/DZgNK0pKQ4cUMFTkwY0dzWsAEeef3ZzV8EK8NxD177vfSxdVs1Tk/bIq2x5vzm9GlovqRx4GtgHuC4ipko6B7hC0veBh4CLI2IDsDswP2fzBSnWUHxBHfEG+ZqimRUkgJo8/wf0kjQ9Zzlrq31FVEfEMKA/cJikg4DvAvsDhwI9ge/syPNrUS1FM2v5gmBT5Nd9BpZExPBG9xmxQtLDwKiIuCqFN0j6HfDN9H0hkNuV7J9iC8m60LnxR1K8fx3lG+SWopkVrICWYr0k9ZbUPX3uBHwMeCldJySNFI8GXkibTABOT6PQI4GVEfEWMAk4TlIPST2A44BJad27kkamfZ0O3NfYubmlaGYFCYLqpnm6Vj/g1nRdsQy4OyL+JulfknoDAmYAX0nlJwInAJXAWuAMgIhYJulyYFoqd1ntoAtwLnAL0IlsgKXBQRZwUjSz7VDT4CBxfiJiJnBwHfFj6ykfwHn1rBsPjK8jPh04qJB6OSmaWUECqG6CpNhSOSmaWcGaoqXYUjkpmllBAthUwk/sd1I0s4IE4e6zmdlmAdWlmxOdFM2sMNmMltLlpGhmBRLVvK9nSrRoTopmVpBsoMVJ0cwMqL1P0UnRzGyzGrcUzcwybimameUIRHUJP2DLSdHMCubus5lZEoiNUd7c1SgaJ0UzK0h287a7z2Zmm3mgxcwsiRDV4ZaimdlmNW4pmpllsoGW0k0dpXtmZlYUHmgxM9tGte9TNDPLeEaLmdk2akp49Ll0z8zMiiJ7IERZXktDJHWU9JSk5yTNkvSDFN9L0lRJlZL+KKl9indI3yvT+oE5+/puir8s6eM58VEpVinp4nzOz0nRzAoSiE1RntfSiA3AsRExFBgGjJI0EvgJcE1E7AMsB85M5c8Elqf4NakckoYAY4ADgVHA9ZLKJZUD1wHHA0OAU1PZBjkpmllBIqA6yvJaGt5PRESsTl8r0hLAscA9KX4rMDp9PjF9J63/qCSl+F0RsSEi5gKVwGFpqYyI1yJiI3BXKtsgJ0UzK5CoyXNpdE9Zi24GsBiYDLwKrIiIqlRkAbB7+rw7MB8grV8J7JIb32ab+uIN8kCLmRUkoJBpfr0kTc/5fmNE3Lh5XxHVwDBJ3YG/APs3WUW3k5OimRWsgFtylkTE8MYKRcQKSQ8DhwPdJbVLrcH+wMJUbCEwAFggqR3QDViaE6+Vu0198Xq5+2xmBQlETeS3NERS79RCRFIn4GPAi8DDwMmp2FjgvvR5QvpOWv+viIgUH5NGp/cCBgNPAdOAwWk0uz3ZYMyExs7PLUUzK0j2itMmSR39gFvTKHEZcHdE/E3SbOAuST8EngVuTuVvBm6XVAksI0tyRMQsSXcDs4Eq4LzULUfS+cAkoBwYHxGzGquUk6KZFUhN8jzFiJgJHFxH/DWykeNt4+uBz9azryuAK+qITwQmFlIvJ0UzK0hQ2jNanBTNrGB+8raZWRIhtxTNzGplAy1+m5+ZWeJ3tJiZbZYNtPiaopnZZn7IrJlZUjujpVQ5KZpZwfziKjOzJAI21TgpmpkBtd1nJ8U2b+N6cdGn92HTxjKqq+DIT6zk9G+9zVVf24OZT3ahy041AHzzF28w6KB1/OvPPbj7uj5EQKcuNVxw5XwGHbgegJ9/fQBT/7kz3XtVcePDL28+xqP3d+P2n+/K/DkdGTfxFfYduq5ZzrVUnXz083zqiJeQ4P4n9udPj3yAfXZfwjfHPE77imqqa8TVf/wIL77eBwguPPnfjDxwPhs2tuNHtx/NKwt6AfCVE6dy+IFvAHDrg4fwr2cGNeNZNQ/PaNlOkkYB15I9oeKmiLiymMcrpooOwU//9CqdutRQtQm+MXowhx77LgBf/p83OfKTK7cq33fABn52byU7da9m2r924tpvD2Dc3+cAcNwpy/jPM5bwswv32Gqbgfuv5/s3zWPcdwZgTWuvfsv41BEvcdbPTqKquoyrzn2Af7+wB+eMnsrvHjiEqbP3YOSQNzhn9FS+eu2nGDlkPv17v8upPziFIQMXc9GYxzj7qpM4/MA32HfAEr545WeoaFfNuAv/xpTZA1i7vn1zn+IOU+q35BStDby9L41pqaSsxQdQtUlUbxJq4P8XBx66lp26VwOw/yFrWfJWxeZ1Hxi5hp16VL9nmz0Gb2DAPhuatuIGwJ67rmD2vD5s2NSO6poyZlT24/8MmwuILh03AdCl00aWrOwMwEc+OI8HnxoMiNnz+tK100Z22XktA3ddznOV/aiuKWP9xgpeXdiTEQfMr//AJSnrPueztEbFrPV2vTSmJauuhnP+Yz9O+eBBHHzUKvY/ZC0At1zZj698dD9+fclubNzw3kz54J09OfSYVTu6upZj7ps9GLrP2+zcZT0dKqoYeeAb9OmxhnH3HM65o6dwz+V3cN5JU/jNfdkTq3p3X8vi5V03b//Oii706r6GyoW7MOKA+XSoqKJbl/Ucsu+b9OmxprlOq9k01TtaWqJidp/remnMiCIer+jKy+GGf77M6pXl/ODMgcx7qSNnfPdNevapYtNGce23B3D3dX34/DcWbd5mxhNdmXTnLlz91znNWHN7fVEP7pg8lKvPm8i6je2oXLAL1TVi9JGz+eWfD+d/Z+zNMQe/ysWfe5Sv/+oT9e5n2kv92X/Pxdxw0X2sWN2RF+b2paamdf7Hv72y0efSnfvc7O1bSWdJmi5p+jtL39ulbIm6dqtm6BGrmfbwTuzStwoJ2ncIjjtlGS/P6Ly53GuzO/KLbw7g0t/NZeeerePcStnfn9yfL/3001zwi/9k1doOzF/cjVEjXuF/Z+wFwMPP7s0Bey4G4J0VnenTY/XmbXt3X8OSFV0AuH3SIXzxys/wjV99AimYv7jbjj+ZZtRUryNoqYqZFBt6mcxmEXFjRAyPiOG9d2m5f31WLC1n9cqsfhvWiWce3YkB+2xg6aKssR0B/36wGwP3y0aYFy+o4LIv7cW3xr1O/0G+TtgSdO+ajeb36bGao4bO5Z/T92HJyi4MG/wWAB/a900WvJMluCeeH8iow+YAwZCBi1i9rj1L3+1MmWrYuUv2Ox6021IG7baMaS/1b5bzaU7uPm+fzS+NIUuGY4DTini8olq2qIKrLtyDmhpRUwNHfWoFIz/2Lt/+7CBWLm1HBAw6cB1f/Un2H9gd1+zKquXl/Oq72d+F8nbBrx58BYAfn7MnM5/syspl7fjch4bwhYveZtRpy3jigW5c//92Z+XSdvzPF/Zm0IHr+NGdrzXbOZeaH35pMt26rKequoxr7v4Iq9d14Kd/OIoLT/435WU1bKwq56d3HgnAk7MGMPLAN7jrkrtYv6kdP/790QC0K6/huq9l7z5as749l996DNUlfCNzXUp99FnZy7CKtHPpBOAXbHlpzHveoZBr+NCO8dQk347Smhx5/tnNXQUrwHMPXcvq5fPfV0breUDv+Nj4z+RV9u4jfvN0Pq84bUmKep/i9rw0xsxatghR1Upvt8mHZ7SYWcFKufvspGhmBSn1a4ql2wY2s6JpiltyJA2Q9LCk2ZJmSbowxS+VtFDSjLSckLPNdyVVSnpZ0sdz4qNSrFLSxTnxvSRNTfE/Smp0PqaTopkVpAnvU6wCLoqIIcBI4LycqcDXRMSwtEwESOvGAAcCo4DrJZU3MqX4J2lf+wDLgTMbq5STopkVrCnuU4yItyLimfR5FfAi2Uy4+pwI3BURGyJiLlBJNp24zinFkgQcC9yTtr8VGN3YuTkpmllBIqCqpiyvJV+SBgIHA1NT6HxJMyWNl9QjxeqaOrx7A/FdgBURUbVNvEFOimZWsAK6z71qp/Gm5axt9yWpK3Av8LWIeBe4ARgEDAPeAn6+A0/No89mVpgCX1y1pKGbtyVVkCXEOyLizwARsShn/W+Bv6WvDU0driu+FOguqV1qLdY51XhbbimaWcEilNfSkHTN72bgxYi4OifeL6fYScAL6fMEYIykDmn68GDgKXKmFKfR5THAhMim6z0MnJy2Hwvc19i5uaVoZgVrooc9fBj4AvC8pBkp9j2y0eNhZLdEzgPOBoiIWZLuBmaTjVyfFxHVAJLOByaxZUrxrLS/7wB3Sfoh8CxZEm6Qk6KZFSSiaW7ejojHoc7sWu/U4PT8hPc8Q6G+KcUR8RrZ6HTenBTNrEAq6ScDOSmaWcEau17YmjkpmllBSn3us5OimRUmsuuKpcpJ0cwK1lpfNZAPJ0UzK0h4oMXMbGvuPpuZ5fDos5lZEuGkaGa2Fd+SY2aWw9cUzcySQNR49NnMbIsSbig6KZpZgTzQYma2jRJuKjopmlnB2mRLUdIvaeDvQUR8tSg1MrMWLYCamjaYFIHpO6wWZtZ6BNAWW4oRcWvud0mdI2Jt8atkZi1dKd+n2OjNRpIOlzQbeCl9Hyrp+qLXzMxarshzaYXyuQPzF8DHyd6hSkQ8BxxVzEqZWUuW3+tNW+tgTF6jzxExP3tF62bVxamOmbUKrbQVmI98kuJ8SUcAIakCuBB4sbjVMrMWKyBKePQ5n+7zV4DzgN2BN4Fh6buZtVnKc2lgD9IASQ9Lmi1plqQLU7ynpMmS5qSfPVJcksZJqpQ0U9IhOfsam8rPkTQ2J/4hSc+nbcZpmy5vXRpNihGxJCI+FxF9I6J3RHw+IpY2tp2ZlbCmGWipAi6KiCHASOA8SUOAi4GHImIw8FD6DnA8MDgtZwE3QJZEgUuAEWQvvr+kNpGmMl/O2W5UY5XKZ/R5b0n3S3pH0mJJ90nau9HTNbPS1QRJMSLeiohn0udVZJfldgdOBGpvCbwVGJ0+nwjcFpkpQHdJ/cgGgidHxLKIWA5MBkaldTtHxJSICOC2nH3VK5/u8x+Au4F+wG7An4A789jOzEpR7c3b+SzQS9L0nOWsunYpaSBwMDAV6BsRb6VVbwN90+fdgfk5my1IsYbiC+qINyifgZbOEXF7zvffS/pWHtuZWYkq4ObtJRExvKECkroC9wJfi4h3cy/7RURI2qFj3fW2FNPFzp7AA5IuljRQ0p6Svg1M3HFVNLMWp0b5LY1Id7TcC9wREX9O4UWp60v6uTjFFwIDcjbvn2INxfvXEW9QQ93np8nmP/8XcDbwMPAIcA5wSmM7NrPSpchvaXAfWZPwZuDFiLg6Z9UEoHYEeSxwX0789DQKPRJYmbrZk4DjJPVIAyzHAZPSuncljUzHOj1nX/VqaO7zXo1tbGZtUNNN4fsw8AXgeUkzUux7wJXA3ZLOBF4na5hB1kM9AagE1gJnAETEMkmXA9NSucsiYln6fC5wC9AJeCAtDcprRoukg4AhQMfaWETcls+2ZlZqNg+ivC8R8Tj138z40TrKB/XcIx0R44HxdcSnAwcVUq9Gk6KkS4CjyZLiRLJ7hR4nG942s7aohKf55XNLzslkWfvtiDgDGAp0K2qtzKxlq8lzaYXy6T6vi4gaSVWSdiYbCRrQ2EZmVqLa6kNmc0yX1B34LdmI9GrgyaLWysxatB175+CO1WhSjIhz08dfS3qQbNrMzOJWy8xatLaYFHOfQFHXuto5i2ZmpaShluLPG1gXwLFNXBdemdmZj+82rKl3a0W0c/8FjReyFqN8zcYm2U+b7D5HxDE7siJm1koEeU3ha63yunnbzGwrbbGlaGZWnzbZfTYzq1cJJ8V8nrwtSZ+X9P30fQ9JhxW/ambWYrXx9z5fDxwOnJq+rwKuK1qNzKxFy/exYa21i51P93lERBwi6VmAiFguqX2R62VmLVkbH33eJKmc1BiW1JtWO9XbzJpCa20F5iOf7vM44C9AH0lXkD027EdFrZWZtWwlfE0xn7nPd0h6muzxYQJGR8SLRa+ZmbVMrfh6YT7yecjsHmSP/r4/NxYRbxSzYmbWgrXlpAj8neyfQGSvI9gLeBk4sIj1MrMWTCU8qpBP9/kDud/T03POrae4mVmrVvCMloh4RtKIYlTGzFqJttx9lvSNnK9lwCHAm0WrkZm1bG19oAXYKedzFdk1xnuLUx0zaxVKOCk2eJ9iuml7p4j4QVquiIg7ImL9DqqfmbVETXSfoqTxkhZLeiEndqmkhZJmpOWEnHXflVQp6WVJH8+Jj0qxSkkX58T3kjQ1xf+Yz2y8epOipHYRUQ18uPFTM7O2QmSjz/ksebgFGFVH/JqIGJaWiQCShgBjyO58GQVcL6k8Nd6uI3sn/RDg1FQW4CdpX/sAy4EzG6tQQy3Fp9LPGZImSPqCpE/XLo2eqpmVpiZ8IEREPAosy/PIJwJ3RcSGiJgLVAKHpaUyIl6LiI3AXcCJkkT22pR70va3AqMbO0g+1xQ7AkvTzmvvVwzgz3meiJmVmvyvKfaSND3n+40RcWMe250v6XRgOnBRRCwHdgem5JRZkGIA87eJjwB2AVZERFUd5evVUFLsk0aeX2BLMqxVwpdZzaxR+WeAJRExvMC93wBcno5yOdlL9L5Y4D62W0NJsRzoytbJsJaTolkbVsxbciJi0ebjSL8F/pa+LgQG5BTtn2LUE18KdE/jI1XblK9XQ0nxrYi4rNEzMLO2p4hJUVK/iHgrfT2JrLcKMAH4g6Srgd2AwWRjHwIGS9qLLOmNAU6LiJD0MHAy2XXGscB9jR2/oaRYuk+RNLPtF00391nSncDRZNceFwCXAEdLGpYdiXnA2QARMUvS3cBssnumz0t3yCDpfGASWQ93fETMSof4DnCXpB8CzwI3N1anhpLiRws9QTNrI5qopRgRp9YRrjdxRcQVwBV1xCcCE+uIv0Y2Op23epNiROQ7TG5mbUxbn+ZnZrY1J0Uzs6QVv2ogH06KZlYQ4e6zmdlWnBTNzHI5KZqZ5XBSNDNL/ORtM7NtOCmamW3Rpl9xama2LXefzcxq+eZtM7NtOCmamWU8o8XMbBuqKd2s6KRoZoXxNUUzs625+2xmlstJ0cxsC7cUzcxyOSmamSVN+Da/lshJ0cwK4vsUzcy2FaWbFcuauwJm1voo8lsa3Y80XtJiSS/kxHpKmixpTvrZI8UlaZykSkkzJR2Ss83YVH6OpLE58Q9Jej5tM06SGquTW4rb4RtXv8GI/1jFiiXtOPvY/QA48pMr+MJFbzNg8Aa+esJg5szsDMB+w9Zy4c/mA1m34/af78q/H+xG/0Hr+d6vX9+8z1332MjtP9uVv9zUe4efT1tQ0b6an/xmChXtaygvD554aFfu+O2+DD10CV+84CXKyoJ1a9txzWUf5K0FXTZvd8Qxb/HfP3mWC8ceQeWL3dl3yAou+N7z2UrBH347mCcf2bWZzqqZNO3N27cAvwJuy4ldDDwUEVdKujh9/w5wPDA4LSOAG4ARknoClwDDU82eljQhIpanMl8GpgITgVHAAw1VqGhJUdJ44JPA4og4qFjHaQ7/+GNPJvyuF9+6dv7m2LyXOnLZlwby1Z8s2KrsvJc7cv6ofampFj37bOKGf77ClMk7s+DVjpz7sSyhlpUFdzwzmyce6LZDz6Mt2bSxjO+dO4L169pRXl7Dz377JNOf7M1533mBy785nPnzuvKJz7zOmC9Wcs1lQwHo1LmKE8fM46Xnu2/ez+uv7sSFYz9MTXUZPXZZz6/ueJypj/WhprptdbqaaqAlIh6VNHCb8InA0enzrcAjZEnxROC2iAhgiqTukvqlspMjYhmApMnAKEmPADtHxJQUvw0YTSNJsZi/yVvIsnLJeWFqV1Yt3/rvyfzKjix4teN7ym5YV0ZNddZir+hQU+elmGFHruat19uzeGH7otTXAMT6ddnvrF27oLxdQIgI0blLFQCdu25i6TtbfoefP/sV7rltEBs3bvnPZMOG8s0JsH09v8+2QDX5LUAvSdNzlrPy2H3fiHgrfX4b6Js+7w7Mzym3IMUaii+oI96gorUU6/kL0Cbtd/AaLrp6Pn36b+KnF+yxOUnWOvrE5Tzy1x7NVLu2o6wsuPa2x+nXfy1/v2dPXp7VnXFXfIBLfzGNjevLWbumHd8483AABu23kt591zHtiT58+vOvbbWf/Q5cwYX/M5M+u67j55cObXOtxKz7nPdfgyURMXy7DxUR0o4d627236aks2r/imxiQ3NXpyhefrYLZx2zPxccP5gxFyyiosOWvke7ihpGHvcuj97vrnOx1dSICz5/JGM/eSz7DlnBnnuvYvSpc7n0a4cy9lPHMvlv/fny115ECr70tRe56doD6tzPy7O6c+6Yo/j6//0wnx37KhXtq3fwmTS/phpoqcei1C0m/Vyc4guBATnl+qdYQ/H+dcQb1OxJMSJujIjhETG8gg7NXZ2iml/ZkXVryhm43/rNsUOPXUXl851YsaSiGWvWtqxZXcHMp3fhQ0e8w16DV/HyrOya4WOT+3HAB1bQqXMVew5axZU3TGX8Xx9m/4NW8P2rnmafA1ZstZ/587qyfl079hy0qjlOo3lFnsv2mQDUjiCPBe7LiZ+eRqFHAitTN3sScJykHmmk+jhgUlr3rqSRadT59Jx91cujz0XWd8AG3nmzPTXVos/uGxmwz3oWLdhy7fDo0Svcdd4Bdu6+geqqMtasrqB9h2qGjVjCPbftTeeum9htj9W8+UZXDh6xhPnzurB2TQWnHfexzdv++IYp3Dxufypf7E7f3dbyzqKO1FSX0XvXdfTfczWL3+zcjGe24zXlzduS7iQbKOklaQHZKPKVwN2SzgReB/4rFZ8InABUAmuBMwAiYpmky4FpqdxltYMuwLlk4xudyAZYGhxkASfF7XLx9a/zwcNX061nFb+fPpvbf96XVcvbce4PF9Jtlyouv30ur87qyH+fNoiDDlvDKefPpapK1NSIX36vP+8uy/7ZO3Sq5pAjV3Htt/s3ckR7v3r22sA3LplJWVmgsuDxf/Zj2uN9+eWPPsB/X/kMNSFWv1vBtZd/sMH9DBm6nM+OfZXq9Pu8/qcH8u7KNjZAFtFkD5mNiFPrWfXROsoGcF49+xkPjK8jPh0o6O4XRZGGz3L/AgCLgEsi4uaGttlZPWOE3vNvYS1Yu/6NDuZZC/Lvt+9k5cZFjd7A3JCduvePg4+6MK+yj93/7affz0BLcyjm6HN9fwHMrJXz3Gczs1oB+B0tZmY5SjcnOimaWeHcfTYzy+FXnJqZ1fIrTs3Mtshu3i7drOikaGaF8ztazMy2cEvRzKyWrymameVqurnPLZGTopkVzt1nM7Mkmu4dLS2Rk6KZFc4tRTOzHKWbE50Uzaxwqind/rOTopkVJvDN22ZmtUT45m0zs604KZqZ5XBSNDNLfE3RzGxrpTz6XNbcFTCz1iay7nM+SyMkzZP0vKQZkqanWE9JkyXNST97pLgkjZNUKWmmpENy9jM2lZ8jaez7OTsnRTMrTNBkSTE5JiKG5bwf+mLgoYgYDDyUvgMcDwxOy1nADZAlUeASYARwGHBJbSLdHk6KZla4mjyX7XMicGv6fCswOid+W2SmAN0l9QM+DkyOiGURsRyYDIza3oM7KZpZwRSR1wL0kjQ9Zzlrm10F8A9JT+es6xsRb6XPbwN90+fdgfk52y5Isfri28UDLWZWuPy7xktyusV1+UhELJTUB5gs6aWtDxMh7dgXqrqlaGaFiYDqmvyWRncVC9PPxcBfyK4JLkrdYtLPxan4QmBAzub9U6y++HZxUjSzwjXBQIukLpJ2qv0MHAe8AEwAakeQxwL3pc8TgNPTKPRIYGXqZk8CjpPUIw2wHJdi28XdZzMrXNPMaOkL/EUSZLnoDxHxoKRpwN2SzgReB/4rlZ8InABUAmuBM7KqxDJJlwPTUrnLImLZ9lbKSdHMChNAE7yjJSJeA4bWEV8KfLSOeADn1bOv8cD4910pnBTNrGABUbozWpwUzawwQV6DKK2Vk6KZFc5PyTEzy+GkaGZWq6B5za2Ok6KZFSaAEn50mJOimRXOLUUzs1rh0Wczs80CwvcpmpnlaIIZLS2Vk6KZFc7XFM3MkgiPPpuZbcUtRTOzWkFUVzd3JYrGSdHMCtNEjw5rqZwUzaxwviXHzCwTQLilaGaWhB8ya2a2lVIeaFG0oKF1Se+Qvaim1PQCljR3Jawgpfo72zMier+fHUh6kOzfJx9LImLU+znejtaikmKpkjS9kReCWwvj31nb5fc+m5nlcFI0M8vhpLhj3NjcFbCC+XfWRvmaoplZDrcUzcxyOCkWkaRRkl6WVCnp4uaujzVO0nhJiyW90Nx1sebhpFgkksqB64DjgSHAqZKGNG+tLA+3AK3qvjprWk6KxXMYUBkRr0XERuAu4MRmrpM1IiIeBZY1dz2s+TgpFs/uwPyc7wtSzMxaMCdFM7McTorFsxAYkPO9f4qZWQvmpFg804DBkvaS1B4YA0xo5jqZWSOcFIskIqqA84FJwIvA3RExq3lrZY2RdCfwJLCfpAWSzmzuOtmO5RktZmY53FI0M8vhpGhmlsNJ0cwsh5OimVkOJ0UzsxxOiq2IpGpJMyS9IOlPkjq/j4J9tCIAAAL1SURBVH3dIunk9Pmmhh5WIeloSUdsxzHmSXrPC47qi29TZnWBx7pU0jcLraPZtpwUW5d1ETEsIg4CNgJfyV0pabteWRsRX4qI2Q0UORooOCmatUZOiq3XY8A+qRX3mKQJwGxJ5ZJ+JmmapJmSzgZQ5lfp+Y7/BPrU7kjSI5KGp8+jJD0j6TlJD0kaSJZ8v55aqUdK6i3p3nSMaZI+nLbdRdI/JM2SdBOgxk5C0l8lPZ22OWubddek+EOSeqfYIEkPpm0ek7R/U/xjmtXarpaFNa/UIjweeDCFDgEOioi5KbGsjIhDJXUAnpD0D+BgYD+yZzv2BWYD47fZb2/gt8BRaV89I2KZpF8DqyPiqlTuD8A1EfG4pD3IZu0cAFwCPB4Rl0n6BJDPbJAvpmN0AqZJujcilgJdgOkR8XVJ30/7Pp/s3SlfiYg5kkYA1wPHbsc/o1mdnBRbl06SZqTPjwE3k3Vrn4qIuSl+HPDB2uuFQDdgMHAUcGdEVANvSvpXHfsfCTxau6+IqO+5gv8BDJE2NwR3ltQ1HePTadu/S1qexzl9VdJJ6fOAVNelQA3wxxT/PfDndIwjgD/lHLtDHscwy5uTYuuyLiKG5QZScliTGwIuiIhJ25Q7oQnrUQaMjIj1ddQlb5KOJkuwh0fEWkmPAB3rKR7puCu2/Tcwa0q+plh6JgHnSKoAkLSvpC7Ao8Ap6ZpjP+CYOradAhwlaa+0bc8UXwXslFPuH8AFtV8k1SapR4HTUux4oEcjde0GLE8JcX+ylmqtMqC2tXsaWbf8XWCupM+mY0jS0EaOYVYQJ8XScxPZ9cJn0suXfkPWI/gLMCetu43sSTBbiYh3gLPIuqrPsaX7ej9wUu1AC/BVYHgayJnNllHwH5Al1Vlk3eg3Gqnrg0A7SS8CV5Il5VprgMPSORwLXJbinwPOTPWbhV/xYE3MT8kxM8vhlqKZWQ4nRTOzHE6KZmY5nBTNzHI4KZqZ5XBSNDPL4aRoZpbDSdHMLMf/B11l+exEMIlJAAAAAElFTkSuQmCC\n",
            "text/plain": [
              "<Figure size 432x288 with 2 Axes>"
            ]
          },
          "metadata": {},
          "output_type": "display_data"
        }
      ],
      "source": [
        "ConfusionMatrixDisplay.from_predictions(y_test, y_pred);"
      ]
    },
    {
      "cell_type": "code",
      "execution_count": null,
      "metadata": {
        "colab": {
          "base_uri": "https://localhost:8080/"
        },
        "id": "uk9oSB3-ErgO",
        "outputId": "db055746-8e67-4c87-cecf-69df521f9780"
      },
      "outputs": [
        {
          "name": "stdout",
          "output_type": "stream",
          "text": [
            "Precision 0.2814972165250513\n",
            "Acuracia 0.78108\n",
            "Recall 0.7716867469879518\n",
            "Roc 0.7769029025921546\n",
            "f1 0.41251610133104333\n"
          ]
        }
      ],
      "source": [
        "print('Precision', precision_score(y_test, y_pred))\n",
        "print('Acuracia', accuracy_score(y_test, y_pred))\n",
        "print('Recall', recall_score(y_test, y_pred))\n",
        "print('Roc', roc_auc_score(y_test, y_pred))\n",
        "print('f1', f1_score(y_test, y_pred))"
      ]
    },
    {
      "cell_type": "markdown",
      "metadata": {
        "id": "Nz07zRGKgobf"
      },
      "source": [
        "## 2 - KNeighbors"
      ]
    },
    {
      "cell_type": "code",
      "source": [
        "for i in range(1, 10):\n",
        "    pipe_neigh = make_pipeline(KNeighborsClassifier(n_neighbors=i))\n",
        "    pipe_neigh.fit(X_train, y_train)\n",
        "    y_pred = pipe_neigh.predict(X_test)\n",
        "    print(i)\n",
        "    print('Roc', roc_auc_score(y_test, y_pred))\n",
        "    print('----------------------------------')"
      ],
      "metadata": {
        "id": "MlLuKZo9TNPf"
      },
      "execution_count": null,
      "outputs": []
    },
    {
      "cell_type": "code",
      "execution_count": null,
      "metadata": {
        "id": "xDSQGZ-uhhtN"
      },
      "outputs": [],
      "source": [
        "pipe_neigh = make_pipeline(KNeighborsClassifier(n_neighbors=3))\n",
        "pipe_neigh.fit(X_train, y_train)\n",
        "y_pred = pipe_neigh.predict(X_test)"
      ]
    },
    {
      "cell_type": "code",
      "execution_count": null,
      "metadata": {
        "colab": {
          "base_uri": "https://localhost:8080/",
          "height": 279
        },
        "id": "7_jQIVOnhknQ",
        "outputId": "8d354dda-fae9-4596-bf63-43a22e62261c"
      },
      "outputs": [
        {
          "data": {
            "image/png": "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\n",
            "text/plain": [
              "<Figure size 432x288 with 2 Axes>"
            ]
          },
          "metadata": {},
          "output_type": "display_data"
        }
      ],
      "source": [
        "ConfusionMatrixDisplay.from_predictions(y_test, y_pred);"
      ]
    },
    {
      "cell_type": "code",
      "execution_count": null,
      "metadata": {
        "colab": {
          "base_uri": "https://localhost:8080/"
        },
        "id": "mvRfrUuAhlsy",
        "outputId": "a1a7e875-a422-4f8e-cba8-0b3528c58c8a"
      },
      "outputs": [
        {
          "name": "stdout",
          "output_type": "stream",
          "text": [
            "Precision 0.20738636363636365\n",
            "Acuracia 0.89572\n",
            "Recall 0.01457667731629393\n",
            "Roc 0.504187787449043\n",
            "f1 0.027238805970149257\n"
          ]
        }
      ],
      "source": [
        "print('Precision', precision_score(y_test, y_pred))\n",
        "print('Acuracia', accuracy_score(y_test, y_pred))\n",
        "print('Recall', recall_score(y_test, y_pred))\n",
        "print('Roc', roc_auc_score(y_test, y_pred))\n",
        "print('f1', f1_score(y_test, y_pred))"
      ]
    },
    {
      "cell_type": "markdown",
      "metadata": {
        "id": "g_os7uXChWaT"
      },
      "source": [
        "## 3 - SVM/SVC"
      ]
    },
    {
      "cell_type": "code",
      "execution_count": null,
      "metadata": {
        "id": "KaCh8SVoiF0n"
      },
      "outputs": [],
      "source": [
        "pipe_svc = make_pipeline(StandardScaler(), SVC())\n",
        "pipe_svc.fit(X_train, y_train)\n",
        "y_pred = pipe_svc.predict(X_test)"
      ]
    },
    {
      "cell_type": "code",
      "execution_count": null,
      "metadata": {
        "colab": {
          "base_uri": "https://localhost:8080/",
          "height": 279
        },
        "id": "_8i7yaDciKoJ",
        "outputId": "223b708a-12af-4c94-d9df-4d06b1d7bf44"
      },
      "outputs": [
        {
          "data": {
            "image/png": "iVBORw0KGgoAAAANSUhEUgAAAUUAAAEGCAYAAADyuIefAAAABHNCSVQICAgIfAhkiAAAAAlwSFlzAAALEgAACxIB0t1+/AAAADh0RVh0U29mdHdhcmUAbWF0cGxvdGxpYiB2ZXJzaW9uMy4yLjIsIGh0dHA6Ly9tYXRwbG90bGliLm9yZy+WH4yJAAAgAElEQVR4nO3de5xVVf3/8ddnhhnuMNxE5BKkqJEGKomXMsUUtAv2zUyrX2QkldjdSrp8Nc3Syrx9lfJCiGVoWYlXJNRQk6sKAkpMIHKV+12GmTmf3x97DZzBmTN7wzmcmTPv5+OxH3P22mvvvc4AH9bea+/1MXdHREQiRflugIhIY6KgKCKSRkFRRCSNgqKISBoFRRGRNC3y3YB0XTsXe9/eJfluhiTwn/lt8t0ESWA3O9njFXYwxxh2VlvfuKk6Vt258yumuPvwgznfodaogmLf3iXMmtI7382QBIYdMSjfTZAEZvq0gz7Gxk3VzJrSJ1bd4h5Luh70CQ+xRhUURaTxcyBFKt/NyBkFRRFJxHEqPd7lc1OkoCgiiamnKCISOE51Ab8erKAoIomlUFAUEQGigZZqBUURkX3UUxQRCRyo1D1FEZGI47p8FhHZy6G6cGOigqKIJBO90VK4FBRFJCGjmoOaU6JRU1AUkUSigRYFRRERoOY5RQVFEZG9UuopiohE1FMUEUnjGNUFnMlEQVFEEivky+fCDfcikhOOsceLYy1xmFmxmb1iZo+F9X5mNtPMys3sQTMrDeUtw3p52N437RhjQ/liMxuWVj48lJWb2VVx2qOgKCKJRA9vF8VaYvoW8Hra+o3Aze5+FLAZGBXKRwGbQ/nNoR5mNgC4GHg/MBy4MwTaYuAO4DxgAHBJqJuRgqKIJFYdHuBuaGmImfUCPgbcE9YNGAr8NVS5D7ggfB4R1gnbzw71RwCT3L3C3ZcB5cDJYSl396XuvgeYFOpmpHuKIpKIu1HtsftTXc1sTtr6Xe5+V9r6LcAPgPZhvQuwxd2rwvpKoGf43BNYEbXBq8xsa6jfE5iRdsz0fVbsVz6koQYrKIpIYqn4j+RscPfBdW0ws48D69x9rpmdma22HSwFRRFJJBpoyUroOB34pJmdD7QCOgC3AmVm1iL0FnsBq0L9VUBvYKWZtQA6AhvTymuk71Nfeb10T1FEEsnWQIu7j3X3Xu7el2ig5Bl3/zzwLHBhqDYSeCR8nhzWCdufcXcP5ReH0el+QH9gFjAb6B9Gs0vDOSY39P3UUxSRxKpz+5ziD4FJZvZz4BXg3lB+L3C/mZUDm4iCHO6+0MweAhYBVcAY9ygxtZldAUwBioHx7r6woZMrKIpIIrl4o8XdnwOeC5+XEo0c719nN/CZeva/Hri+jvIngCeStEVBUUQSS8UffW5yFBRFJJFoQggFRRERILp8roz5Cl9TpKAoIom4k+Th7SZHQVFEErIkD283OQqKIpKIo56iiEgtGmgREQkcK+hJZhUURSSRKMVp4YaOwv1mIpIj8eZKbKoUFEUkEUdvtIiI1KKeoohI4G7qKYqI1IgGWvSan4hIkChHS5OjoCgiiUQDLYV7T7Fww72I5Ew1RbGWTMyslZnNMrN5ZrbQzH4WyieY2TIzezUsg0K5mdltIbH9fDM7Me1YI81sSVhGppWfZGavhX1uCylRM1JPUUQSyeIbLRXAUHffYWYlwAtm9mTY9n13/+t+9c8jyr/SnyhV6ThgiJl1Bq4GBhN1ZOea2WR33xzqXAbMJJqBezjwJBmopygiiWUpcZW7+46wWhIWz7DLCGBi2G8GUda/HsAwYKq7bwqBcCowPGzr4O4zQoKricAFDX03BUURScQdKlNFsRagq5nNSVtGpx/LzIrN7FVgHVFgmxk2XR8ukW82s5ahrCfvTm7fs4HylXWUZ6TLZxFJJLp8jt2f2uDug+s9VpR1b5CZlQF/N7PjgLHAWqAUuIsou9+1B9fq+NRTFJHEqsP7zw0tcbn7FqJ8z8PdfU24RK4A/sC+zH71Jb3PVN6rjvKM1FNMqLoavjH8aLr0qOS6icv2lt/5k55MmdSZR8pf21v2r8ll/PGmw8Gc9w7Yzdg7lwNwz3U9mDmtA54yTjxjO1+/bhXv7Cziexf037vvhjUlDP30Zr5+bYN/hpJQScsUN/2tnJJSp7iF8/zjZdz/m8Pp3ruCH417iw6dqljyWmt+9Y0+VFUWcc5Fm/jKT1ezcW0JAJP/0JWnHuiS52+RP9l6JMfMugGV7r7FzFoD5wA3mlkPd18TRoovABaEXSYDV5jZJKKBlq2h3hTgF2bWKdQ7Fxjr7pvMbJuZnUI00PJF4PaG2pXToGhmw4FbiRJR3+PuN+TyfIfCP+7pRu/+Fezasa+T/Z95rdmxtfYT/quWlvLg7Yfx20eW0L6smi0bol/1wtltWDi7Lb+bthiA713Qn/kvtWPgaTsY98/Fe/cfM+xoPnT+lkPwjZqfygrjB585kt27iilu4fz2H+XMfqY9nx69nr/d3ZV/PdKJb96wkuGXbOKxiV0BmD65jDt+3KuBIzcXWXvNrwdwn5kVE121PuTuj5nZMyFgGvAq8LVQ/wngfKAc2AVcChCC33XA7FDvWnffFD5fDkwAWhONOmcceYYcBsXwRe8giv4rgdlhmHxRrs6Za+tXlzBrWgcu+ebbPHxXNyDqOd593RFcdcdyXnyy4966T/6pC5/40gbal1UDUNa1CgAz2FNRRNUewx2qKo1O3SprnWflf1uyZUMLjhuy8xB9s+bG2L0r+k+sRYlTXOK4w8AP7eCXY94DwNS/dOIL31u7NyhKbdnI0eLu84ET6igfWk99B8bUs208ML6O8jnAcUnalcue4slAubsvBQhd3hFAkw2Kv7u6J1/5yWp27djXK5z8h66ceu42unSvqlV35dJWAHznk0eRShlf+N5aPnjWdgYM3sXA03ZwyQnH4Q6fvHQ9ffpX1Nr3uUfK+Mgnt9DwY6ZyoIqKnP+b8h+O6LuHRyd0Yc3yluzcWkyqOvqlb1hTQtfD9/2Znn7+Vo4bspNVS1vy+2uOYP3q0nw1Pe+i0efCffc5lwMt9Q2T12Jmo2uG69dvrM5hcw7OjKkdKOtaRf8PvLO3bOPaFjz/aBkjvrz+XfWrq2HVspb8+uFyxt65nFuu7M2OrcWsWlbKivKW/GnuQh54eSHzXmzPazPb1tr3X4904qxPbc75d2rOUinj8nOO4fMnDeCYQbvofdTueuvOmNqBkUPex9c/egwvT2/PlbesqLduc1Dz8HacpSnK+0CLu99FNOzO4IGtMj24mVeLZrdlxtMdmD1tAHsqjF3bixl91rGUlDqXnjYAgIp3ivjSae9jwr9fp2uPSo49YRctSuDwPnvodWQFq5aVMv/f7Tj2xF20bpsCYPBZ23h9TluOD5fK/13YiupqagVfyZ2d24qZ9+92vO+kXbTtWE1RsZOqNrr2qGTD2uifx/bN+/6ZPPVAZ77yk9X5am6jUcgpTnPZU6xvmLxJ+vKP1vCnuYuYOGsRY8ctZ+CHtvPw6wuYNG8hE2dF5S1bp5jw79cBOG34Vua/1A6ArRuLWfnflvTos4duPSuZ/1I7qqugqhJem9GOPv339VKe+0cnzhyhAZZc6ti5irYdoquS0lYpTjxjByuWtGLei+348Mej3/05n9nMS1Oie8SdD9t3z/eUc7fx1pJWh77RjUjN6LN6isnNBvqbWT+iYHgx8Lkcnq9RGXzmdl7+V3su+8ixFBU7l/10NR06V/Phj29h3ovt+OrQYzGLeoqnnLtt737THy3juvuX5rHlha9z90quvPUtioqgqAimP9qRmf/swPL/tORH45bzpR+spXxBa6b8uTMAI0Zt4NRzt1JdZWzfUsxN3+ndwBkKXyFPMmvRgE6ODm52PnAL0SM54939+kz1Bw9s5bOm6C9cUzLsiEH5boIkMNOnsc03HVQXrtOxh/nQ8RfGqvu308fNzfRGS2OU03uK7v4E0bNFIlJAmuqlcRx5H2gRkaal0CeZVVAUkcQUFEVEgixOMtsoKSiKSGKF/JyigqKIJOIOVanCfSRHQVFEEtPls4hIoHuKIiL78QIOioV7Y0BEciaFxVoyyZD3uZ+ZzQy5mh80s9JQ3jKsl4ftfdOONTaULzazYWnlw0NZuZldFee7KSiKSCLuWZsQoibv80BgEFFa0lOAG4Gb3f0oYDMwKtQfBWwO5TeHepjZAKK5Fd5PlNf5zpAlsGai6/OAAcAloW5GCooikpBRnSqKtWSSIe/zUOCvofw+9uVqHhHWCdvPDnlcRgCT3L3C3ZcRpSs4mbSJrt19D1Az0XVGCooikpi7xVpImPcZ+C+wxd1rpj1Pn5x678TVYftWoAvJ80FnpIEWEUkk4bvPifI+A8cefAsPjoKiiCTj0X3FrB4ySnP6LHAqUGZmLUJvMH1y6pqJq1eaWQugI7CRzBNaJ57oWpfPIpJYlkafu4UeIml5n18HngVqJmwcCTwSPk8O64Ttz4QMf5OBi8PodD+gPzCLtImuwwj2xaFuRuopikgiHgZasqC+vM+LgElm9nPgFeDeUP9e4H4zKwc2EQU53H2hmT1ElCm0ChgTLssxsyuAKeyb6HphQ41SUBSRxLJx+Zwh7/NSopHj/ct3A5+p51jXA++a2f9AJrpWUBSRxAr5jRYFRRFJxF1BUUSkFk0IISKSJodJQPNOQVFEEnGMlCaZFRHZp4A7igqKIpKQBlpERPZTwF1FBUURSaxZ9hTN7HYy/H/g7t/MSYtEpFFzIJVqhkERmHPIWiEiTYcDzbGn6O73pa+bWRt335X7JolIY1fIzyk2+LCRmZ0aZq14I6wPNLM7c94yEWm8PObSBMV5AvMWYBjRZI64+zzgjFw2SkQas3ipCJrqYEys0Wd3XxHlh9mrOjfNEZEmoYn2AuOIExRXmNlpgJtZCfAtotlxRaQ5cvACHn2Oc/n8NWAMURas1UT5WcfkslEi0thZzCXDEcx6m9mzZrbIzBaa2bdC+TVmtsrMXg3L+Wn7JEp6H1IRzAzlD4a0BBk12FN09w3A5xuqJyLNSHYun6uA77n7y2bWHphrZlPDtpvd/TfplfdLen8E8E8zOzpsvoMox8tKYLaZTXb3RcCN4ViTzOx3wChgXKZGxRl9fq+ZPWpm681snZk9Ymbvjf21RaTwZGH02d3XuPvL4fN2ottymfIyJ0p6b9FAyFDgr2H/+4ALGvpqcS6fHwAeIkoycwTwF+DPMfYTkUJU8/B2nAW6mtmctGV0XYc0s75E+VpmhqIrzGy+mY03s06hLGnS+y7AlpAqNb08ozhBsY273+/uVWH5I9Aqxn4iUqDc4y3ABncfnLbctf+xzKwd8DDwbXffRnR5eyTR+MUa4KZD980yv/vcOXx8Mty4nET0f8RnSZgdS0QKTJZGn8MTLQ8Df3L3vwG4+9tp2+8GHgurSZPebwTKzKxF6C2m169XpoGWuURBsObbfzVtmwNjGzq4iBQmy8JAS7jndy/wurv/Nq28h7uvCaufAhaEz5OBB8zst0S38mqS3hsh6T1R0LsY+Jy7u5k9C1xI1KkbCTzSULsyvfvcL9lXFJFmIXuv8J0O/D/gNTN7NZT9CLjEzAaFs7xJ6JAdYNL7HwKTzOznwCtEQTijWG+0mNlxwADS7iW6+8Q4+4pIodk7iHJQ3P0F6n6Ysd7bc0mT3rv7UqLR6dgaDIpmdjVwJlFQfAI4D3gBUFAUaa4K+DW/OKPPFwJnA2vd/VJgINAxp60SkcYtFXNpguJcPr/j7ikzqzKzDsA6ao/0iEhz0lwnmU0zx8zKgLuJRqR3AC/ltFUi0qhlY/S5sYrz7vPl4ePvzOwpoIO7z89ts0SkUWuOQdHMTsy0readRRGRQpKpp5jp1RonetE6q5a83pGPnfyxbB9Wcshabsh3EySJiiy9idIce4ruftahbIiINBFO1l7za4xiPbwtIlJLc+wpiojUp1lePouI1KuAg2KcmbfNzL5gZv8b1vuYWaJ3CUWkwDTzvM93AqcCl4T17UT5EESkGTKPvzRFcS6fh7j7iWb2CoC7b46TEUtEClgzH32uNLNiQmfYzLrRZF/1FpFsaKq9wDjiXD7fBvwdOMzMrieaNuwXOW2ViDRuWbinmCHvc2czm2pmS8LPTqHczOy2kMN5fvpbd2Y2MtRfYmYj08pPMrPXwj63hdm+M2owKLr7n4AfAL8kSiJzgbv/paH9RKRAZe+eYk3e5wHAKcCYkNv5KmCau/cHpoV1iOZy7R+W0YT8zSGf1NXAEKIJZa9OywA4Drgsbb/hDTUqzuhzH2AX8ChRjoSdoUxEmqvc5n0eQZSjGWrnah4BTPTIDKKkVD2AYcBUd9/k7puBqcDwsK2Du89wdyeaGLvBvM9x7ik+zr4EVq2AfsBi4P0x9hWRAmTxRxW6mtmctPW76klz2pd9eZ+7pyWuWgt0D5+T5n3uGT7vX55RnKnDjt+v8ScCl9dTXUQk3QZ3H5ypwv55n9Nv+4WMfId0WCfOQEstobs7JAdtEZGmIksPb9eV9xl4O1z6En6uC+X15X3OVN6rjvKM4iSu+m7aahFwIrC6of1EpEBl6cHs+vI+E41djARuoHau5snAFWY2iahjttXd15jZFOAXaYMr5wJj3X2TmW0zs1OILsu/CNzeULvi3FNsn/a5iuge48Mx9hORQpXbvM83AA+Z2ShgOXBR2PYEcD5QTjT4eylACH7XAbNDvWvdfVP4fDkwAWgNPBmWjDIGxfDQdnt3vzLGFxSR5iILQTFD3meIMojuX9+BMfUcazwwvo7yOcBxSdqVKR1BC3evMrPTkxxQRAqbkWj0ucnJ1FOcRXT/8FUzmwz8BdhZszHtpqiINCdNeLKHOOLcU2wFbCTKyVLzvKIDCooizVUzDYqHhZHnBewLhjUK+FciIg0q4AiQKSgWA+2o+0ZoAf9KRKQhzfXyeY27X3vIWiIiTUczDYqFO4ukiBw4b76jz+96TkhEBGiePcW0J8JFRGpprvcURUTqpqAoIhI04fSlcSgoikgihi6fRURqUVAUEUmnoCgikkZBUUQkKPBZchLnaBERyWKOlvFmts7MFqSVXWNmq8zs1bCcn7ZtbEhsv9jMhqWVDw9l5WZ2VVp5PzObGcofNLPShtqkoCgiiVkq3hLDBOpOUH+zuw8KyxMAZjYAuJgovfJw4E4zKw4ZAu4AzgMGAJeEugA3hmMdBWwGRjXUIAVFEUnMPN7SEHefDsR9e24EMMndK9x9GVGulpPDUu7uS919DzAJGBESYw0F/hr2vw+4oKGTKCiKSDJxL52joNjVzOakLaNjnuUKM5sfLq9rsvRlSnpfV3kXYIu7V+1XnpGCoogkFz8obnD3wWnLXTGOPg44EhgErAFuynr7M9Dos4gkkus3Wtz97b3nMrsbeCys1pf0nnrKNwJlNUn49qtfL/UURSQxS3ms5YCObdYjbfVTRClRACYDF5tZSzPrB/QnSrA3G+gfRppLiQZjJoeUqM8CF4b9RwKPNHR+9RRFJJksTghhZn8GziS697gSuBo408wGhbO8CXwVwN0XmtlDwCKgChjj7tXhOFcAU4jSqIx394XhFD8EJpnZz4FXgHsbapOCoogklq3LZ3e/pI7iegOXu18PXF9H+RPAE3WULyUanY5NQVFEkivgN1oUFEUksUJ+zU9BUUSSU1AUEQmacTY/EZF30czbIiL788KNigqKIpKYeopSS0lpNTf+fgYlpSmKi50Xpx3On+4+moEf3MCXv/EGRUXOO7tacPO1H2DNyra0KKnme9fM56hjt7J9awk3/PgE1q1pA0Dfo7ZxxdgFtGlbhafg2186nco9xXn+hoXnOzcuZcjQLWzZWMLXhh8PwFfGvsWQs7dQVWmsXt6K336/Hzu3R/8kPvv11Qy7aD2plDHuZ32YO72Mrj0q+P5NSynrWgluPPHnbjwy4fB8fq38UDa/A2Nm44GPA+vc/bhcnScfKvcU8aPLh7D7nRYUF6f49d0vMeelboz54QKuu3IwK95sx8c+vZyLv1zOzdcOZNgnV7Jjewsu+/SZnHHOai69YjE3/vgEiopTXPmzedx0zUCWLelA+457qK7Sm5e5MPXhrjw6sTtX3rR0b9nLL3Rk/K96k6o2vvzDFXz28jWMv7E3fY56h498YiNfHXY8nQ+r5Jd/fIOvDO1Iqsq4+/o+lC9sS+u21dz+6AJeeaEjb5W3zuM3y49CHmjJ5b/ACdQ9eWQBMHa/E/1/0qKFU9zCwQ13o03baJaiNu0q2bi+FQBDPvI20x7vBcALzxzOwA9uAJwTh2zgzfL2LFvSAYDtW0tJpezQf51mYMGsDmzfUrsP8PLzHUlVR7/vN15pS9fD9wBw6jmb+dejXajcU8TbK1uyZnlLjhm4g03rSylf2BaAd3YWs6K8NV3CPs1NFieZbXRy1lN09+lm1jdXx8+3oiLn1okv0KPXLh7/63tYvLCM264/nmtumc2e3cXs2tmC7446FYAu3Xaz/u0oQKaqi9i1o4QOHSvp2Wcn7nDtbbPoWLaH6VN78PD9R+bzazVb5160gemPdQagy+F7eOOVdnu3bVhTSpfDK2vV796zgiMH7GLxq+1odpyCHmjJ+7WamY2umYByT+qdfDcntlTK+MYXPszIjw/l6AFbeM97t3PBJcu45tsfZOQnhjL1sV5c9u3XMx6juNgZMGgzv/npIH5w2amceubboRcph9LFY1ZTXWU8848useq3alPNT8Yt4ffX9WHXjuZ5/zdbM283RnkPiu5+V80ElKVFTe/ezM4dJcyf24WTTltPv/7bWbywDIDnp/bgfcdvAWDj+lZ0674bgKLiFG3aVbJtawkb1rViwSud2ba1lIqKYua82I0jj9mWt+/SHJ3z6fUMGbqZX337vURP4MHGtaV067Hvsrhrjz1sXFsCQHGLFD8dt4RnH+nCi1M656PJjUOWElc1RnkPik1Rh7IK2raLLqdKW1YzaMgGVrzZljbtKjmizw4ATghlADOnH8bZH1sJwIeGrmX+nC6A8fKMbvQ9cjstW1ZTVJzi+BM3sWJZM7wcy5OTztjChV9dwzWXHU3F7n09vhn/LOMjn9hISWmK7r0qOKJvBYvntQOc79y4jLfKW/O3e3vUf+ACV/PwdqH2FPVIzgHo3LWC7149n6Iix4qcF/7Zg9kvdOf2XxzPj294mZQbO7aVcOt1HwDg6cm9ufJn87j74efYvq2EX/34BAB2bC/hHw/04+b7XsQd5vz7MGa/eFg+v1rBuurWcj5wynY6dKri/n+/wh9v6cVnv76aklLnF/cvBqLBltt/0o/lS9ow/fEu/P7p10hVG3f873tIpYz3D97OR/9nI8veaM0dj0fznk74dS9mP1eWz6926PmBTyDbFJjn6IZp+uSRwNvA1e6ecYLHjqXd/bTD65peTRqr6vW6B9qUzKh4km2pjQf1iEP7sl5+whnfilX3+Ud/MNfdB9e3va5H98ysM/Ag0JdoktmL3H1zyM53K3A+sAv4kru/HPYZCfwkHPbn7n5fKD+J6EmY1kTzLX7LGwh6Obt8dvdL3L2Hu5e4e6+GAqKINB1ZvHyewLsf3bsKmObu/YFpYR2ivM79wzKaKMFVTRC9GhhCNKHs1WkZAMcBl6Xt1+BjgrqnKCLJOJDyeEtDh6o77/MIohzNUDtX8whgokdmECWl6gEMA6a6+yZ33wxMBYaHbR3cfUboHU4kRt5n3VMUkeTi33XramZz0tbvipHmtLu7rwmf1wLdw+ekeZ97hs/7l2ekoCgiiSUYWd6Q6Z5iQ9zdzQ7tOLYun0UksVymOAXerklzGn6uC+X15X3OVN6rjvKMFBRFJJm4D24feP9uMlGOZqidq3ky8EWLnAJsDZfZU4BzzaxTGGA5F5gStm0zs1PCyPUXUd5nEcm26OHt7FzR1pP3+QbgITMbBSwHLgrVnyB6HKec6JGcSwHcfZOZXQfMDvWudfeawZvL2fdIzpNhyUhBUUSSy9IMOPXkfQY4u466Doyp5zjjgfF1lM8BEk1dqKAoIollq6fYGCkoikgyTXiyhzgUFEUkocJ+91lBUUSS0+WziEjgTTfVQBwKiiKSnHqKIiJpCjcmKiiKSHKWKtzrZwVFEUnGydrD242RgqKIJGK4Ht4WEalFQVFEJI2CoohIoHuKIiK1afRZRGQv1+WziMheTkEHRaUjEJHkUjGXBpjZm2b2mpm9WpP1z8w6m9lUM1sSfnYK5WZmt5lZuZnNN7MT044zMtRfYmYj6ztfHAqKIpKYucdaYjrL3QelZf27Cpjm7v2BaWEd4Dz2JbUfTZToHjPrTJTGYAhwMnB1TSA9EAqKIpKce7zlwIwA7guf72NfAvsRwESPzADKQra/YcBUd9/k7puBqcDwAz25gqKIJOMO1al4S5SQak7aMnr/owFPm9nctG3dQyY+gLVA9/A5U9L7usoPiAZaRCS5+L3ADWmXxXX5kLuvMrPDgKlm9kbt07ib2SEd1VFPUUSSy9Lls7uvCj/XAX8nuif4drgsJvxcF6pnSnpfV/kBUVAUkWQcSHm8JQMza2tm7Ws+EyWxX0CU9L5mBHkk+xLYTwa+GEahTwG2hsvsKcC5ZtYpDLCcG8oOiC6fRSQhB8/KGy3dgb+bGUSx6AF3f8rMZgMPmdkoYDlwUaj/BHA+UA7sAi4FcPdNZnYdMDvUu9bdNx1ooxQURSQZp2YQ5eAO474UGFhH+Ubg7DrKHRhTz7HGA+MPulEoKIrIgSjgN1oUFEUkOQVFEZEamhBCRGQfBzR1mIhIGvUURURqeFZGnxsrBUURScbBs/OcYqOkoCgiyTXwtkpTpqAoIsnpnqKISOCu0WcRkVrUUxQRqeF4dXW+G5EzCooikkzN1GEFSkFRRJLTIzkiIhEHXD1FEZHAszbJbKOkoCgiiRXyQIt5IxpaN7P1RNOPF5quwIZ8N0ISKdQ/s/e4e7eDOYCZPUX0+4ljg7sfcA7mfGhUQbFQmdmcBtI8SiOjP7PmS9n8RETSKCiKiKRRUDw07sp3AyQx/Zk1U7qnKCKSRj1FEZE0CooiImkUFHPIzIab2WIzKzezq/LdHr+fzowAAAPZSURBVGmYmY03s3VmtiDfbZH8UFDMETMrBu4AzgMGAJeY2YD8tkpimAA0qYeNJbsUFHPnZKDc3Ze6+x5gEjAiz22SBrj7dGBTvtsh+aOgmDs9gRVp6ytDmYg0YgqKIiJpFBRzZxXQO229VygTkUZMQTF3ZgP9zayfmZUCFwOT89wmEWmAgmKOuHsVcAUwBXgdeMjdF+a3VdIQM/sz8BJwjJmtNLNR+W6THFp6zU9EJI16iiIiaRQURUTSKCiKiKRRUBQRSaOgKCKSRkGxCTGzajN71cwWmNlfzKzNQRxrgpldGD7fk2myCjM708xOO4BzvGlm78r6Vl/5fnV2JDzXNWZ2ZdI2iuxPQbFpecfdB7n7ccAe4GvpG83sgPJ4u/tX3H1RhipnAomDokhTpKDYdD0PHBV6cc+b2WRgkZkVm9mvzWy2mc03s68CWOT/wvyO/wQOqzmQmT1nZoPD5+Fm9rKZzTOzaWbWlyj4fif0Uj9sZt3M7OFwjtlmdnrYt4uZPW1mC83sHsAa+hJm9g8zmxv2Gb3ftptD+TQz6xbKjjSzp8I+z5vZsdn4ZYrUOKCeheRX6BGeBzwVik4EjnP3ZSGwbHX3D5pZS+BFM3saOAE4hmhux+7AImD8fsftBtwNnBGO1dndN5nZ74Ad7v6bUO8B4GZ3f8HM+hC9tfM+4GrgBXe/1sw+BsR5G+TL4Rytgdlm9rC7bwTaAnPc/Ttm9r/h2FcQJZT6mrsvMbMhwJ3A0AP4NYrUSUGxaWltZq+Gz88D9xJd1s5y92Wh/FzgAzX3C4GOQH/gDODP7l4NrDazZ+o4/inA9JpjuXt98wp+FBhgtrcj2MHM2oVz/E/Y93Ez2xzjO33TzD4VPvcObd0IpIAHQ/kfgb+Fc5wG/CXt3C1jnEMkNgXFpuUddx+UXhCCw870IuAb7j5lv3rnZ7EdRcAp7r67jrbEZmZnEgXYU919l5k9B7Sqp7qH827Z/3cgkk26p1h4pgBfN7MSADM72szaAtOBz4Z7jj2As+rYdwZwhpn1C/t2DuXbgfZp9Z4GvlGzYmY1QWo68LlQdh7QqYG2dgQ2h4B4LFFPtUYRUNPb/RzRZfk2YJmZfSacw8xsYAPnEElEQbHw3EN0v/DlkHzp90RXBH8HloRtE4lmgqnF3dcDo4kuVeex7/L1UeBTNQMtwDeBwWEgZxH7RsF/RhRUFxJdRr/VQFufAlqY2evADURBucZO4OTwHYYC14byzwOjQvsWohQPkmWaJUdEJI16iiIiaRQURUTSKCiKiKRRUBQRSaOgKCKSRkFRRCSNgqKISJr/D6EoHF8MxD4eAAAAAElFTkSuQmCC\n",
            "text/plain": [
              "<Figure size 432x288 with 2 Axes>"
            ]
          },
          "metadata": {},
          "output_type": "display_data"
        }
      ],
      "source": [
        "ConfusionMatrixDisplay.from_predictions(y_test, y_pred);"
      ]
    },
    {
      "cell_type": "code",
      "execution_count": null,
      "metadata": {
        "colab": {
          "base_uri": "https://localhost:8080/"
        },
        "id": "xVyz2F0SiLWL",
        "outputId": "a99e35f1-ab11-4303-c7ba-48eb0f105f32"
      },
      "outputs": [
        {
          "name": "stdout",
          "output_type": "stream",
          "text": [
            "Precision 0.7976111479761114\n",
            "Acuracia 0.91778\n",
            "Recall 0.24001597444089456\n",
            "Roc 0.6166184957552979\n",
            "f1 0.36899462778204145\n"
          ]
        }
      ],
      "source": [
        "print('Precision', precision_score(y_test, y_pred))\n",
        "print('Acuracia', accuracy_score(y_test, y_pred))\n",
        "print('Recall', recall_score(y_test, y_pred))\n",
        "print('Roc', roc_auc_score(y_test, y_pred))\n",
        "print('f1', f1_score(y_test, y_pred))"
      ]
    },
    {
      "cell_type": "markdown",
      "metadata": {
        "id": "O-oWoOomPWXH"
      },
      "source": [
        "### SVM/SVC + Balanceamento"
      ]
    },
    {
      "cell_type": "code",
      "execution_count": null,
      "metadata": {
        "id": "WOgHdUqDPdvB"
      },
      "outputs": [],
      "source": [
        "pipe_svc = make_pipeline(StandardScaler(), SVC(class_weight='balanced'))\n",
        "pipe_svc.fit(X_train, y_train)\n",
        "y_pred = pipe_svc.predict(X_test)"
      ]
    },
    {
      "cell_type": "code",
      "execution_count": null,
      "metadata": {
        "colab": {
          "base_uri": "https://localhost:8080/",
          "height": 279
        },
        "id": "bkzMRxldPdl7",
        "outputId": "e68aaee2-54a8-421a-9c3b-465144e6808b"
      },
      "outputs": [
        {
          "data": {
            "image/png": "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\n",
            "text/plain": [
              "<Figure size 432x288 with 2 Axes>"
            ]
          },
          "metadata": {},
          "output_type": "display_data"
        }
      ],
      "source": [
        "ConfusionMatrixDisplay.from_predictions(y_test, y_pred);"
      ]
    },
    {
      "cell_type": "code",
      "execution_count": null,
      "metadata": {
        "colab": {
          "base_uri": "https://localhost:8080/"
        },
        "id": "RhEItrOGPc2d",
        "outputId": "54e57890-62cb-48fd-d002-cda8fd7650c6"
      },
      "outputs": [
        {
          "name": "stdout",
          "output_type": "stream",
          "text": [
            "Precision 0.4462006079027356\n",
            "Acuracia 0.88442\n",
            "Recall 0.5789785052257937\n",
            "Roc 0.7489363803032528\n",
            "f1 0.5039910737275771\n"
          ]
        }
      ],
      "source": [
        "print('Precision', precision_score(y_test, y_pred))\n",
        "print('Acuracia', accuracy_score(y_test, y_pred))\n",
        "print('Recall', recall_score(y_test, y_pred))\n",
        "print('Roc', roc_auc_score(y_test, y_pred))\n",
        "print('f1', f1_score(y_test, y_pred))"
      ]
    },
    {
      "cell_type": "markdown",
      "metadata": {
        "id": "JHabZdRlZCcJ"
      },
      "source": [
        "## 4 - Árvore de Decisão"
      ]
    },
    {
      "cell_type": "code",
      "execution_count": null,
      "metadata": {
        "id": "lWTp8CoJEsx1"
      },
      "outputs": [],
      "source": [
        "tree = DecisionTreeClassifier()\n",
        "tree.fit(X_train, y_train)\n",
        "y_pred = tree.predict(X_test)"
      ]
    },
    {
      "cell_type": "code",
      "execution_count": null,
      "metadata": {
        "colab": {
          "base_uri": "https://localhost:8080/",
          "height": 282
        },
        "id": "9OF6q1eFZd55",
        "outputId": "f3da00fd-dad3-4cfc-e697-8ecd0e3ff5ce"
      },
      "outputs": [
        {
          "data": {
            "image/png": "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\n",
            "text/plain": [
              "<Figure size 432x288 with 2 Axes>"
            ]
          },
          "metadata": {},
          "output_type": "display_data"
        }
      ],
      "source": [
        "ConfusionMatrixDisplay.from_predictions(y_test, y_pred);"
      ]
    },
    {
      "cell_type": "code",
      "execution_count": null,
      "metadata": {
        "colab": {
          "base_uri": "https://localhost:8080/"
        },
        "id": "J2TNC8--ZnuB",
        "outputId": "6f1fff06-b936-4ee1-acf5-932b9cf6e6e2"
      },
      "outputs": [
        {
          "name": "stdout",
          "output_type": "stream",
          "text": [
            "Precision 0.2814972165250513\n",
            "Acuracia 0.78108\n",
            "Recall 0.7716867469879518\n",
            "Roc 0.7769029025921546\n",
            "f1 0.41251610133104333\n"
          ]
        }
      ],
      "source": [
        "print('Precision', precision_score(y_test, y_pred))\n",
        "print('Acuracia', accuracy_score(y_test, y_pred))\n",
        "print('Recall', recall_score(y_test, y_pred))\n",
        "print('Roc', roc_auc_score(y_test, y_pred))\n",
        "print('f1', f1_score(y_test, y_pred))"
      ]
    },
    {
      "cell_type": "markdown",
      "metadata": {
        "id": "wKytYcb6Qq_K"
      },
      "source": [
        "### Árvore de Decisão + Balanceamento"
      ]
    },
    {
      "cell_type": "code",
      "execution_count": null,
      "metadata": {
        "id": "ZQUwoCvcQv6x"
      },
      "outputs": [],
      "source": [
        "tree = DecisionTreeClassifier(class_weight='balanced')\n",
        "tree.fit(X_train, y_train)\n",
        "y_pred = tree.predict(X_test)"
      ]
    },
    {
      "cell_type": "code",
      "execution_count": null,
      "metadata": {
        "colab": {
          "base_uri": "https://localhost:8080/",
          "height": 281
        },
        "id": "vkBXblbGQv3h",
        "outputId": "bd1ef678-afdd-40e7-e957-4e3cf0edb72f"
      },
      "outputs": [
        {
          "output_type": "display_data",
          "data": {
            "text/plain": [
              "<Figure size 432x288 with 2 Axes>"
            ],
            "image/png": "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\n"
          },
          "metadata": {
            "needs_background": "light"
          }
        }
      ],
      "source": [
        "ConfusionMatrixDisplay.from_predictions(y_test, y_pred);"
      ]
    },
    {
      "cell_type": "code",
      "execution_count": null,
      "metadata": {
        "colab": {
          "base_uri": "https://localhost:8080/"
        },
        "id": "_NTpW6etQqWp",
        "outputId": "86ad1239-6bc4-4c3e-c021-a3a0b10c4f9e"
      },
      "outputs": [
        {
          "output_type": "stream",
          "name": "stdout",
          "text": [
            "Precision 0.1629139072847682\n",
            "Acuracia 0.82554\n",
            "Recall 0.16686046511627908\n",
            "Roc 0.5340992780532332\n",
            "f1 0.16486357108664434\n"
          ]
        }
      ],
      "source": [
        "print('Precision', precision_score(y_test, y_pred))\n",
        "print('Acuracia', accuracy_score(y_test, y_pred))\n",
        "print('Recall', recall_score(y_test, y_pred))\n",
        "print('Roc', roc_auc_score(y_test, y_pred))\n",
        "print('f1', f1_score(y_test, y_pred))"
      ]
    },
    {
      "cell_type": "markdown",
      "metadata": {
        "id": "85e-QYODmGHu"
      },
      "source": [
        "## 6 - Árvore de Decisão + Otimização de Hiperparametros (ROC)"
      ]
    },
    {
      "cell_type": "code",
      "execution_count": null,
      "metadata": {
        "id": "lHeS-sbeQ_e4"
      },
      "outputs": [],
      "source": [
        "from sklearn import metrics\n",
        "\n",
        "metrics.SCORERS.keys() # Nome dos parametros de socring"
      ]
    },
    {
      "cell_type": "code",
      "execution_count": null,
      "metadata": {
        "colab": {
          "base_uri": "https://localhost:8080/"
        },
        "id": "syPiUAvQlxSM",
        "outputId": "c2f1cf87-51e9-43b9-847c-8b1b3554e587"
      },
      "outputs": [
        {
          "data": {
            "text/plain": [
              "GridSearchCV(estimator=DecisionTreeClassifier(),\n",
              "             param_grid={'max_depth': [10, 11, 12, 13, 14, 15, 16, 17, 18, 19,\n",
              "                                       20],\n",
              "                         'min_samples_split': [40, 60, 80, 100]},\n",
              "             scoring='roc_auc')"
            ]
          },
          "execution_count": 19,
          "metadata": {},
          "output_type": "execute_result"
        }
      ],
      "source": [
        "params = {\n",
        "    #'splitter': ['best', 'random'],\n",
        "    'max_depth': [10, 11, 12, 13, 14, 15, 16, 17, 18, 19, 20], #3, 4, 5, 6, 7, 8, 9, \n",
        "    'min_samples_split': [40, 60, 80, 100]#,2, 10, 20,\n",
        "    #'class_weight': ['balanced', None]\n",
        "}\n",
        "#Por padrão o modelo escolhe a métrica acurácia para escolher os parametros\n",
        "grid = GridSearchCV(DecisionTreeClassifier(), params, scoring='roc_auc')\n",
        "grid.fit(X_train, y_train)"
      ]
    },
    {
      "cell_type": "markdown",
      "metadata": {
        "id": "th-wH1864iSv"
      },
      "source": [
        "Na primeira rodada do grid tivemos {'max_depth': 10, 'min_samples_split': 40} como melhores parametros, então decidi aumentar esses parametros e rodar de novo"
      ]
    },
    {
      "cell_type": "code",
      "execution_count": null,
      "metadata": {
        "colab": {
          "base_uri": "https://localhost:8080/"
        },
        "id": "3CEiJce2mZYb",
        "outputId": "4d730aa0-d606-4d84-ffae-1ff28e2cb259"
      },
      "outputs": [
        {
          "data": {
            "text/plain": [
              "{'max_depth': 13, 'min_samples_split': 100}"
            ]
          },
          "execution_count": 22,
          "metadata": {},
          "output_type": "execute_result"
        }
      ],
      "source": [
        "grid.best_params_"
      ]
    },
    {
      "cell_type": "code",
      "execution_count": null,
      "metadata": {
        "id": "J1HRvo8_maZr"
      },
      "outputs": [],
      "source": [
        "modelo = grid.best_estimator_\n",
        "y_pred = modelo.predict(X_test)"
      ]
    },
    {
      "cell_type": "code",
      "execution_count": null,
      "metadata": {
        "colab": {
          "base_uri": "https://localhost:8080/",
          "height": 279
        },
        "id": "sDn-CM_xmbcC",
        "outputId": "935429be-9852-451a-fdd9-df4f6a801e98"
      },
      "outputs": [
        {
          "data": {
            "image/png": "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\n",
            "text/plain": [
              "<Figure size 432x288 with 2 Axes>"
            ]
          },
          "metadata": {},
          "output_type": "display_data"
        }
      ],
      "source": [
        "ConfusionMatrixDisplay.from_predictions(y_test, y_pred);"
      ]
    },
    {
      "cell_type": "code",
      "execution_count": null,
      "metadata": {
        "colab": {
          "base_uri": "https://localhost:8080/"
        },
        "id": "KhqKh06emciC",
        "outputId": "5d764482-1ee1-4dc3-9e44-a7bfedf121b4"
      },
      "outputs": [
        {
          "name": "stdout",
          "output_type": "stream",
          "text": [
            "Precision 0.31109550561797755\n",
            "Acuracia 0.8895\n",
            "Recall 0.08883096049729296\n",
            "Roc 0.5335186282281191\n",
            "f1 0.1381999688036188\n"
          ]
        }
      ],
      "source": [
        "print('Precision', precision_score(y_test, y_pred))\n",
        "print('Acuracia', accuracy_score(y_test, y_pred))\n",
        "print('Recall', recall_score(y_test, y_pred))\n",
        "print('Roc', roc_auc_score(y_test, y_pred))\n",
        "print('f1', f1_score(y_test, y_pred))"
      ]
    },
    {
      "cell_type": "markdown",
      "metadata": {
        "id": "iRwzmOMi72Z9"
      },
      "source": [
        "Melhores parametros {'max_depth': 10, 'min_samples_split': 40}\n",
        "* Precision 0.3295099061522419\n",
        "* Acuracia 0.89372\n",
        "* Recall 0.06336474834569882\n",
        "* Roc 0.524539993082942\n",
        "* f1 0.10628994281870163"
      ]
    },
    {
      "cell_type": "markdown",
      "metadata": {
        "id": "QuoMDvjMRcDV"
      },
      "source": [
        "## 5 - Bagging (Árvore de Decisão)"
      ]
    },
    {
      "cell_type": "code",
      "execution_count": null,
      "metadata": {
        "id": "DdLgq11jRSbf"
      },
      "outputs": [],
      "source": [
        "bdt = BaggingClassifier(DecisionTreeClassifier(max_depth=13, min_samples_split=100)).fit(X_train, y_train)\n",
        "y_pred = bdt.predict(X_test)"
      ]
    },
    {
      "cell_type": "code",
      "execution_count": null,
      "metadata": {
        "id": "KovudKJlRh9h",
        "colab": {
          "base_uri": "https://localhost:8080/",
          "height": 279
        },
        "outputId": "75fd6824-7ad4-43bf-fad1-578a9fec59c4"
      },
      "outputs": [
        {
          "output_type": "display_data",
          "data": {
            "text/plain": [
              "<Figure size 432x288 with 2 Axes>"
            ],
            "image/png": "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\n"
          },
          "metadata": {
            "needs_background": "light"
          }
        }
      ],
      "source": [
        "ConfusionMatrixDisplay.from_predictions(y_test, y_pred);"
      ]
    },
    {
      "cell_type": "code",
      "execution_count": null,
      "metadata": {
        "id": "RY8NGdKzRjzF",
        "colab": {
          "base_uri": "https://localhost:8080/"
        },
        "outputId": "18c56b61-a974-4fd2-dc6f-17534fe682dd"
      },
      "outputs": [
        {
          "output_type": "stream",
          "name": "stdout",
          "text": [
            "Precision 0.6455696202531646\n",
            "Acuracia 0.89726\n",
            "Recall 0.009883720930232558\n",
            "Roc 0.5046296392340726\n",
            "f1 0.019469364382515744\n"
          ]
        }
      ],
      "source": [
        "print('Precision', precision_score(y_test, y_pred))\n",
        "print('Acuracia', accuracy_score(y_test, y_pred))\n",
        "print('Recall', recall_score(y_test, y_pred))\n",
        "print('Roc', roc_auc_score(y_test, y_pred))\n",
        "print('f1', f1_score(y_test, y_pred))"
      ]
    },
    {
      "cell_type": "markdown",
      "metadata": {
        "id": "YRSJzqJIRdLR"
      },
      "source": [
        "### Bagging (Árvore de Decisão + Balanceamento)"
      ]
    },
    {
      "cell_type": "code",
      "execution_count": null,
      "metadata": {
        "id": "1OCJa9WlRleY"
      },
      "outputs": [],
      "source": [
        "bdt = BaggingClassifier(DecisionTreeClassifier(max_depth=13, min_samples_split=100, class_weight='balanced')).fit(X_train, y_train)\n",
        "y_pred = bdt.predict(X_test)"
      ]
    },
    {
      "cell_type": "code",
      "execution_count": null,
      "metadata": {
        "id": "oGPP8Tn9Rm9G",
        "colab": {
          "base_uri": "https://localhost:8080/",
          "height": 282
        },
        "outputId": "2baaae2b-5d67-4176-9813-204fd2af3a93"
      },
      "outputs": [
        {
          "output_type": "display_data",
          "data": {
            "text/plain": [
              "<Figure size 432x288 with 2 Axes>"
            ],
            "image/png": "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\n"
          },
          "metadata": {
            "needs_background": "light"
          }
        }
      ],
      "source": [
        "ConfusionMatrixDisplay.from_predictions(y_test, y_pred);"
      ]
    },
    {
      "cell_type": "code",
      "execution_count": null,
      "metadata": {
        "id": "8I_YNd4CRoGb",
        "colab": {
          "base_uri": "https://localhost:8080/"
        },
        "outputId": "5981175e-ade6-4cd0-dc08-00dd3c4adff9"
      },
      "outputs": [
        {
          "output_type": "stream",
          "name": "stdout",
          "text": [
            "Precision 0.2717852096090438\n",
            "Acuracia 0.83866\n",
            "Recall 0.3354651162790698\n",
            "Roc 0.6160153413687945\n",
            "f1 0.30028623471246424\n"
          ]
        }
      ],
      "source": [
        "print('Precision', precision_score(y_test, y_pred))\n",
        "print('Acuracia', accuracy_score(y_test, y_pred))\n",
        "print('Recall', recall_score(y_test, y_pred))\n",
        "print('Roc', roc_auc_score(y_test, y_pred))\n",
        "print('f1', f1_score(y_test, y_pred))"
      ]
    },
    {
      "cell_type": "code",
      "execution_count": null,
      "metadata": {
        "id": "AYU8DVE7Iiq9"
      },
      "outputs": [],
      "source": [
        "bdt = BaggingClassifier(DecisionTreeClassifier(max_depth=13, min_samples_split=100)).fit(X_train, y_train)\n",
        "y_pred = bdt.predict(X_test)"
      ]
    },
    {
      "cell_type": "code",
      "execution_count": null,
      "metadata": {
        "colab": {
          "base_uri": "https://localhost:8080/",
          "height": 283
        },
        "id": "sWAOcITdJAjW",
        "outputId": "a7eafb1e-8568-464f-e0a9-ec49911158fe"
      },
      "outputs": [
        {
          "data": {
            "image/png": "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\n",
            "text/plain": [
              "<Figure size 432x288 with 2 Axes>"
            ]
          },
          "metadata": {},
          "output_type": "display_data"
        }
      ],
      "source": [
        "ConfusionMatrixDisplay.from_predictions(y_test, y_pred);"
      ]
    },
    {
      "cell_type": "code",
      "execution_count": null,
      "metadata": {
        "colab": {
          "base_uri": "https://localhost:8080/"
        },
        "id": "8gMky3O6JCG-",
        "outputId": "f6a175ee-b836-4a2b-ba9d-d93a15dba232"
      },
      "outputs": [
        {
          "name": "stdout",
          "output_type": "stream",
          "text": [
            "Precision 0.6842105263157895\n",
            "Acuracia 0.90054\n",
            "Recall 0.005213555243633447\n",
            "Roc 0.5024734827958776\n",
            "f1 0.010348258706467661\n"
          ]
        }
      ],
      "source": [
        "print('Precision', precision_score(y_test, y_pred))\n",
        "print('Acuracia', accuracy_score(y_test, y_pred))\n",
        "print('Recall', recall_score(y_test, y_pred))\n",
        "print('Roc', roc_auc_score(y_test, y_pred))\n",
        "print('f1', f1_score(y_test, y_pred))"
      ]
    },
    {
      "cell_type": "markdown",
      "metadata": {
        "id": "A74BDjWuH_ON"
      },
      "source": [
        "## 6 - Floresta Randomica"
      ]
    },
    {
      "cell_type": "code",
      "execution_count": null,
      "metadata": {
        "id": "HNBjrFEzJQW_"
      },
      "outputs": [],
      "source": [
        "rf = RandomForestClassifier().fit(X_train, y_train)\n",
        "y_pred = rf.predict(X_test)"
      ]
    },
    {
      "cell_type": "code",
      "execution_count": null,
      "metadata": {
        "colab": {
          "base_uri": "https://localhost:8080/",
          "height": 279
        },
        "id": "GYwWp2_oJqqW",
        "outputId": "fb4efe4e-0068-4468-eaa7-5880fcab1164"
      },
      "outputs": [
        {
          "data": {
            "image/png": "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\n",
            "text/plain": [
              "<Figure size 432x288 with 2 Axes>"
            ]
          },
          "metadata": {},
          "output_type": "display_data"
        }
      ],
      "source": [
        "ConfusionMatrixDisplay.from_predictions(y_test, y_pred);"
      ]
    },
    {
      "cell_type": "code",
      "execution_count": null,
      "metadata": {
        "colab": {
          "base_uri": "https://localhost:8080/"
        },
        "id": "I_0GmtFdJrl-",
        "outputId": "799593f8-d98c-4d45-ad06-5a0b70c52e6e"
      },
      "outputs": [
        {
          "name": "stdout",
          "output_type": "stream",
          "text": [
            "Precision 0.0\n",
            "Acuracia 0.90026\n",
            "Recall 0.0\n",
            "Roc 0.5\n",
            "f1 0.0\n"
          ]
        },
        {
          "name": "stderr",
          "output_type": "stream",
          "text": [
            "/usr/local/lib/python3.7/dist-packages/sklearn/metrics/_classification.py:1318: UndefinedMetricWarning: Precision is ill-defined and being set to 0.0 due to no predicted samples. Use `zero_division` parameter to control this behavior.\n",
            "  _warn_prf(average, modifier, msg_start, len(result))\n"
          ]
        }
      ],
      "source": [
        "print('Precision', precision_score(y_test, y_pred))\n",
        "print('Acuracia', accuracy_score(y_test, y_pred))\n",
        "print('Recall', recall_score(y_test, y_pred))\n",
        "print('Roc', roc_auc_score(y_test, y_pred))\n",
        "print('f1', f1_score(y_test, y_pred))"
      ]
    },
    {
      "cell_type": "markdown",
      "metadata": {
        "id": "1K6dHToQSBx6"
      },
      "source": [
        "### Floresta Randomica + Balanceamento"
      ]
    },
    {
      "cell_type": "code",
      "execution_count": null,
      "metadata": {
        "id": "H2TrZxPgSA88"
      },
      "outputs": [],
      "source": [
        "rf = RandomForestClassifier(class_weight='balanced').fit(X_train, y_train)\n",
        "y_pred = rf.predict(X_test)"
      ]
    },
    {
      "cell_type": "code",
      "execution_count": null,
      "metadata": {
        "id": "VzQq0rxSSH1o",
        "colab": {
          "base_uri": "https://localhost:8080/",
          "height": 279
        },
        "outputId": "94050bb9-bdc1-4170-92e2-c5e4e4f0bc9b"
      },
      "outputs": [
        {
          "output_type": "display_data",
          "data": {
            "text/plain": [
              "<Figure size 432x288 with 2 Axes>"
            ],
            "image/png": "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\n"
          },
          "metadata": {
            "needs_background": "light"
          }
        }
      ],
      "source": [
        "ConfusionMatrixDisplay.from_predictions(y_test, y_pred);"
      ]
    },
    {
      "cell_type": "code",
      "execution_count": null,
      "metadata": {
        "id": "JVjT6Jw4SJbJ",
        "colab": {
          "base_uri": "https://localhost:8080/"
        },
        "outputId": "b026f164-ee1f-4bb4-aa99-38a191387546"
      },
      "outputs": [
        {
          "output_type": "stream",
          "name": "stdout",
          "text": [
            "Precision 0.0\n",
            "Acuracia 0.8968\n",
            "Recall 0.0\n",
            "Roc 0.5\n",
            "f1 0.0\n"
          ]
        },
        {
          "output_type": "stream",
          "name": "stderr",
          "text": [
            "/usr/local/lib/python3.7/dist-packages/sklearn/metrics/_classification.py:1318: UndefinedMetricWarning: Precision is ill-defined and being set to 0.0 due to no predicted samples. Use `zero_division` parameter to control this behavior.\n",
            "  _warn_prf(average, modifier, msg_start, len(result))\n"
          ]
        }
      ],
      "source": [
        "print('Precision', precision_score(y_test, y_pred))\n",
        "print('Acuracia', accuracy_score(y_test, y_pred))\n",
        "print('Recall', recall_score(y_test, y_pred))\n",
        "print('Roc', roc_auc_score(y_test, y_pred))\n",
        "print('f1', f1_score(y_test, y_pred))"
      ]
    },
    {
      "cell_type": "markdown",
      "metadata": {
        "id": "sYw1gbLxK1eP"
      },
      "source": [
        "## 7 - AdaBoost"
      ]
    },
    {
      "cell_type": "code",
      "execution_count": null,
      "metadata": {
        "id": "4N6rmpDFgy_h"
      },
      "outputs": [],
      "source": [
        "ada = AdaBoostClassifier( DecisionTreeClassifier() )\n",
        "ada.fit(X_train, y_train)\n",
        "y_pred = ada.predict(X_test)"
      ]
    },
    {
      "cell_type": "code",
      "execution_count": null,
      "metadata": {
        "colab": {
          "base_uri": "https://localhost:8080/",
          "height": 279
        },
        "id": "ZFYtolRXLQiN",
        "outputId": "d50c608d-4151-454e-f451-d034ba27933a"
      },
      "outputs": [
        {
          "data": {
            "image/png": "iVBORw0KGgoAAAANSUhEUgAAAUUAAAEGCAYAAADyuIefAAAABHNCSVQICAgIfAhkiAAAAAlwSFlzAAALEgAACxIB0t1+/AAAADh0RVh0U29mdHdhcmUAbWF0cGxvdGxpYiB2ZXJzaW9uMy4yLjIsIGh0dHA6Ly9tYXRwbG90bGliLm9yZy+WH4yJAAAgAElEQVR4nO3deZxX1X3/8debAQVlF0RAjURBgwuIKKipMWoUaX4li0kw9qc1tJi6xDZtE03TaIkmxiQaTVyCStSkEbekIQmKBLUuUQQVUXFhirvINsgmssx8+sc9A18mM9/5XphhZr7zfj4e9zHfe+52vjPy8Zx77j0fRQRmZpbp0NIVMDNrTRwUzcwKOCiamRVwUDQzK+CgaGZWoGNLV6BQn94Vsd8+nVq6GpbDq/N3a+kqWA4fso6NsUE7co5TPrl7rKiqLmnfp+dvmBERY3bkejtbqwqK++3Tiadm7NPS1bAcThkwvKWrYDnMjlk7fI4VVdU8NWPfkvat6L+wzw5fcCdrVUHRzFq/AGqoaelqNBsHRTPLJQg2RWnd57bIQdHMcnNL0cwsCYLqMn492EHRzHKrwUHRzAzIBlqqHRTNzLZyS9HMLAlgk+8pmpllgnD32cxsi4Dq8o2JDopmlk/2Rkv5clA0s5xENTs0p0Sr5qBoZrlkAy0OimZmQO1zig6KZmZb1LilaGaWcUvRzKxAIKrLOJOJg6KZ5ebus5lZEoiNUdHS1Wg25dsGNrNmkT283aGkpRSSKiQ9K+kPaX2QpNmSKiXdKWmXVL5rWq9M2/crOMfFqfwVSacUlI9JZZWSLiqlPg6KZpZbdXqAu7GlRBcCLxWs/wC4OiIOAFYCE1L5BGBlKr867YekocB44GBgDHB9CrQVwHXAqcBQ4PS0b1EOimaWS4Sojg4lLY2RtDfw18DNaV3ACcA9aZfbgM+kz+PSOmn7iWn/ccDUiNgQEa8BlcBRaamMiEURsRGYmvYtykHRzHKrQSUtQB9JcwuWiXVO9RPgG2x9nXoP4P2I2JzW3wYGps8DgbcA0vZVaf8t5XWOaai8KA+0mFku2UBLyaFjeUSMrG+DpE8DSyPiaUnHN1X9dpSDopnlUjvQ0gSOBf5G0ligM9AduAboKaljag3uDbyT9n8H2Ad4W1JHoAewoqC8VuExDZU3yN1nM8utOlTSUkxEXBwRe0fEfmQDJQ9GxBnAQ8BpabezgN+lz9PSOmn7gxERqXx8Gp0eBAwGngLmAIPTaPYu6RrTGvtubimaWS474Y2WbwJTJV0GPAvckspvAX4pqRKoIgtyRMSLku4CFgCbgfMiohpA0vnADKACmBIRLzZ2cQdFM8utpoSR5Twi4mHg4fR5EdnIcd19PgS+0MDxlwOX11M+HZiepy4OimaWSzYhRPneeXNQNLNcArGpjF/zc1A0s1wiKOnB7LbKQdHMctryYHZZclA0s1wCtxTNzLbhgRYzsySQJ5k1M6uVpTgt39BRvt/MzJpJrrkS2xwHRTPLJWj6N1paEwdFM8vNLUUzsyRCbimamdXKBlr8mp+ZWSI/vG1mVisbaCnfe4rlG+7NrNlU06GkpRhJnSU9Jek5SS9K+s9Ufquk1yTNS8vwVC5J16YczvMljSg411mSFqblrILyIyQ9n465NmX/K8otRTPLpQnfaNkAnBARayV1Ah6TdF/a9m8RcU+d/U8lSzUwGBgF3ACMktQbuAQYSdaQfVrStIhYmfb5B2A22WSzY4D7KMItRTPLrYYOJS3FRGZtWu2UlihyyDjg9nTck2QJrvoDpwAzI6IqBcKZwJi0rXtEPJlyudzO1hzSDXJQNLNcImBTTYeSFhrJ+yypQtI8YClZYJudNl2eushXS9o1leXN7zwwfa5bXpS7z2aWS9Z9Lrk91WDeZ4CUYGq4pJ7AbyUdAlwMvAfsAkwmS2Q1acdqXTq3FM0st+r0/nNjS6ki4n2y1KZjImJx6iJvAH7B1iRWDeV3Lla+dz3lRTko5lRdDed+agj/ceagbcqv//ZAxh1w6Jb1JW934ptf3J+vnngg//b5A1j2bqct22be1Yuzj/0YZx/7MWbe1WtL+aaN4if/tjdf+fhBTPirg3j0jz2a/wu1c30HbOTKuyuZ/PDLTH7oZT4zYdk22z9/zlJmvPsc3XtvbqEatj61j+SUshQjqW9qISKpC/Ap4OV0L5A0UvwZ4IV0yDTgzDQKPRpYFRGLyVKYniypl6RewMnAjLRttaTR6VxnsjWHdIOatfssaQxwDVnO1Zsj4ormvN7O8N8392WfwRv4YO3W/5+8+lwX1q7a9gn/myYN5KTTqvjUF1cy77Gu/OL7/fnGT99k9coKfnXVXvz0vleR4PwxQxh98mq69azmjmv60bPPZqY89jI1NbBmZfm+NdBaVG8WkycNoPL53eiyezU/u/9VnnmkG28u7EzfARsZ8Yk1LHm7U+Mnalea7DW//sBtkirIGmh3RcQfJD0oqS8gYB7w1bT/dGAsUAl8AJwNEBFVkr4LzEn7TYqIqvT5XOBWoAvZqHPRkWdoxpZi+qLXkQ2jDwVOlzS0ua63Myx7txNPzerOqV9esaWsuhpu+u4AJnz73W32fePVXRl2bDawNuzYtTwxI2v1Pf1wN0Yct4buvarp1rOaEcetYe5D3QCYMbU34y9YCkCHDtBjj+qd8bXataqlnah8fjcA1q+r4K3KzvTpvwmAcy59l1suG0AUGw9tp2pSnpbGlmIiYn5EHB4Rh0XEIRExKZWfEBGHprK/rR2hTl3q8yJi/7R9bsG5pkTEAWn5RUH53HSe/SPi/DQKXVRzdp+PAiojYlFEbASmkg2pt1k3XjKQv//2u6jgtzbtF304+uTV7NFv2+7VR4d+yOP3ZYHw8ft68MHaClZXVbD8vU70HbBpy359+m9i+XudtrQ0b7tyL847eQiXTdyPlcs8DrYz9dt7I/sfsp6Xn9mNo09ZxfL3OrFoQZeWrlark40+V5S0tEXNGRQbGibfhqSJtcP1y1a03pbRkzO707PPZgYftn5L2Yr3OvLo73sy7ivL/mL/id95h+ef6Mq5nxrC8090pU//jXQo8t9I9WZYvngXho5cx3UPvMrHjljHTZMGNMdXsXp03q2a/7j5dW78zgCqq8X4C5Zy+w/3aulqtUq1D2/v6D3F1qrFmyIRMZls2J2Rwzq32o7Kgjm78+QD3ZkzaygbN4gP1lQw8ZMH0WmX4OxjsrsCG9Z34O+O+Ri3/vkl9thrM9+55XUA1q/rwGPTe9C1RzV99trE/Ce6bjnv8sWdOOzotXTvXc2uXao5duwqAP7q0+9z/x29d/r3bI8qOgb/cfPrPPibXjx+X0/2O2g9e+27kRv+9AoAfftv4roZr/K1sYNZucz3FwGnON1ODQ2Tt0lf+dZivvKtxQA89+eu3HNjX757+2vb7DPugEO59c8vAbBqRQXdelXToQNM/emenPyl7L7vEcev4RdX9GfN+1mz8en/6cbZFy9GgtGfWs38P3dl+MfXMu+xbnxkyIad+A3bq+DrP36LtxZ25jeT+wLw+std+NJhB2/Z47bZC7jg1CGsrmrxNkSrUO4TQjTnX3kOMFjSILJgOB74cjNer1WZ/0RXpnx/AFJw6Kh1nPe97MH67r2qOeOflnDB2CEAnPHPS+jeK7ttMOHb73LlBR/hxksq6LHHZv7lqjdbrP7txcFHreOkL6xk0YLOXD8zaxn+4vv9mfNg9xauWetWzpPMqoTBmO0/uTQW+AnZIzlTIuLyYvuPHNY5npqxT7FdrJU5ZcDwlq6C5TA7ZrE6qnaomdfroD3jhCmnlbTvb4694elib7S0Rs3aH4iI6WTPFplZGXH32cws8T1FM7M6HBTNzJImnGS2VXJQNLPc/JyimVkSAZtryveRHAdFM8vN3Wczs8T3FM3M6ogyDorle2PAzJpNU8ynWCTv8yBJs1Ou5jsl7ZLKd03rlWn7fgXnujiVvyLplILyMamsUtJFpXw3B0UzyyWiadIRsDXv8zBgOFla0tHAD4CrI+IAYCUwIe0/AViZyq9O+5Emrx4PHEyW1/n6lCVwuya6dlA0s5xEdU2HkpZiiuR9PgG4J5XfxtZczePSOmn7iSn3yjhgakRsiIjXyNIVHMV2TnTtoGhmuUWopKUxdfM+A/8LvB8RtVPZF05OvWXi6rR9FbAH+fNBF+WBFjPLJee7z30kzS1Yn5wmls7OVSfvM3BQk1V0Ozkomlk+QZ5kXstLmTosIt6X9BBwNNBTUsfUGiycnLp24uq3JXUEegArKD6hde6Jrt19NrPcmmj0ub68zy8BDwG1EzaexdZczdPSOmn7gyk73zRgfBqdHgQMBp6iYKLrNII9Pu1blFuKZpZLpIGWJtBQ3ucFwFRJlwHPArek/W8BfimpEqgiC3JExIuS7gIWAJuB81K3HEnnAzPYOtH1i41VykHRzHJrign7I2I+cHg95YvIRo7rln8IfKGBc10O/MXM/tsz0bWDopnlVs5vtDgomlkuEQ6KZmbb8IQQZmYFmjEJaItzUDSzXAJR40lmzcy2KuOGooOimeXkgRYzszrKuKnooGhmubXLlqKkn1Lk/wcR8bVmqZGZtWoB1NS0w6AIzC2yzczaqwDaY0sxIm4rXJe0W0R80PxVMrPWrpyfU2z0YSNJR6dZK15O68MkXd/sNTOz1itKXNqgUp7A/AlwCtlkjkTEc8BxzVkpM2vNSktF0FYHY0oafY6It7L8MFtUN091zKxNaKOtwFKUEhTfknQMEJI6AReSzY5rZu1RQJTx6HMp3eevAueRZcF6lyw/63nNWSkza+1U4lLkDNI+kh6StEDSi5IuTOWXSnpH0ry0jC04JlfS+5SKYHYqvzOlJSiq0ZZiRCwHzmhsPzNrR5qm+7wZ+JeIeEZSN+BpSTPTtqsj4keFO9dJej8A+JOkIWnzdWQ5Xt4G5kiaFhELgB+kc02VdCMwAbihWKVKGX3+qKTfS1omaamk30n6aMlf28zKTxOMPkfE4oh4Jn1eQ3Zbrlhe5lxJ75UNhJwA3JOOvw34TGNfrZTu86+Bu8iSzAwA7gbuKOE4MytHtQ9vl7KkvM8Fy8T6TilpP7J8LbNT0fmS5kuaIqlXKsub9H4P4P2UKrWwvKhSguJuEfHLiNicll8BnUs4zszKVERpCynvc8Eyue65JHUF7gX+KSJWk3Vv9ycbv1gM/HjnfbPi7z73Th/vSzcup5L9P+JL5MyOZWZlpolGn9MTLfcC/xURvwGIiCUF228C/pBW8ya9XwH0lNQxtRYL929QsYGWp8mCYO23P6dgWwAXN3ZyMytPaoKBlnTP7xbgpYi4qqC8f0QsTqufBV5In6cBv5Z0FdmtvNqk9yIlvScLeuOBL0dESHoIOI2sUXcW8LvG6lXs3edB+b6imbULTfcK37HA/weelzQvlX0LOF3S8HSV10kNsu1Mev9NYKqky4BnyYJwUSW90SLpEGAoBfcSI+L2Uo41s3KzZRBlh0TEY9T/MGODt+fyJr2PiEVko9MlazQoSroEOJ4sKE4HTgUeAxwUzdqrMn7Nr5TR59OAE4H3IuJsYBjQo1lrZWatW02JSxtUSvd5fUTUSNosqTuwlG1HesysPWmvk8wWmCupJ3AT2Yj0WuCJZq2VmbVqTTH63FqV8u7zuenjjZLuB7pHxPzmrZaZtWrtMShKGlFsW+07i2Zm5aRYS7HYqzVB9qJ1k1r4Sk/GfuJzTX1aa1aLWroC1gLaZfc5Ij65MytiZm1E0GSv+bVGJT28bWa2jfbYUjQza0i77D6bmTWojINiKTNvS9LfSvpOWt9XUq53Cc2szLTzvM/XA0cDp6f1NWT5EMysHVKUvrRFpXSfR0XECEnPAkTEylIyYplZGWvno8+bJFWQGsOS+tJmX/U2s6bQVluBpSil+3wt8FtgT0mXk00b9r1mrZWZtW5NcE+xSN7n3pJmSlqYfvZK5ZJ0bcrhPL/wrTtJZ6X9F0o6q6D8CEnPp2OuTbN9F9VoUIyI/wK+AXyfLInMZyLi7saOM7My1XT3FGvzPg8FRgPnpdzOFwGzImIwMCutQzaX6+C0TCTlb075pC4BRpFNKHtJQQbAG4B/KDhuTGOVKmX0eV/gA+D3ZDkS1qUyM2uvmjfv8ziyHM2wba7mccDtkXmSLClVf+AUYGZEVEXESmAmMCZt6x4RT0ZEkE2M3Wje51LuKf6RrQmsOgODgFeAg0s41szKkEofVegjaW7B+uQG0pzux9a8z/0KEle9B/RLn/PmfR6YPtctL6qUqcMOrVP5EcC5DexuZlZoeUSMLLZD3bzPhbf9Uka+nTqsU8pAyzZSc3dUM9TFzNqKJnp4u768z8CS1PUl/VyayhvK+1ysfO96yosqJXHV1wtWOwAjgHcbO87MylQTPZjdUN5nsrGLs4Ar2DZX8zTgfElTyRpmqyJisaQZwPcKBldOBi6OiCpJqyWNJuuWnwn8tLF6lXJPsVvB581k9xjvLeE4MytXzZv3+QrgLkkTgDeAL6Zt04GxQCXZ4O/ZACn4fReYk/abFBFV6fO5wK1AF+C+tBRVNCimh7a7RcS/lvAFzay9aIKgWCTvM2QZROvuH8B5DZxrCjClnvK5wCF56lUsHUHHiNgs6dg8JzSz8iZyjT63OcVaik+R3T+cJ2kacDewrnZjwU1RM2tP2vBkD6Uo5Z5iZ2AFWU6W2ucVA3BQNGuv2mlQ3DONPL/A1mBYq4x/JWbWqDKOAMWCYgXQlfpvhJbxr8TMGtNeu8+LI2LSTquJmbUd7TQolu8skma2/aL9jj7/xXNCZmZA+2wpFjwRbma2jfZ6T9HMrH4OimZmSRtOX1oKB0Uzy0W4+2xmtg0HRTOzQg6KZmYFyjgo5k5HYGbtXNOlOEXSFElLJb1QUHappHckzUvL2IJtF6cczq9IOqWgfEwqq5R0UUH5IEmzU/mdknZprE4OimaWXxPlaCGbFbu+XMxXR8TwtEwHSDmhx5NlEh0DXC+pIk2GfR1ZXuihwOlpX4AfpHMdAKwEJjRWIQdFM8tNNaUtjYmIR4BSXxQZB0yNiA0R8RpZWoKj0lIZEYsiYiMwFRiXcsCcANyTji/MId0gB0Uzyy1H97mPpLkFy8QSL3G+pPmpe12bkCpv3uc9gPcjYnOd8qIcFM0sn1K7zllQXB4RIwuWySVc4QZgf2A4sBj4cVN/hWI8+mxm+TXj6HNELKn9LOkm4A9ptaH8zjRQvgLoWZtvihLzPrulaGa51L7R0hSjz/WeX+pfsPpZstn/Icv7PF7SrpIGAYPJcknNAQankeZdyAZjpqXsfw8Bp6XjC3NIN8gtRTPLTTVN01SUdAdwPNm9x7eBS4DjJQ0na4++DpwDEBEvSroLWECWg/68iKhO5zkfmEGWMWBKRLyYLvFNYKqky4BngVsaq5ODopnl04QTQkTE6fUUNxi4IuJy4PJ6yqcD0+spX0Q2Ol0yB0Uzy83vPpuZFXJQNDPbyi1FM7NCDopmZkk7zuZnZvYXPPO2mVldUb5R0UHRzHJzS9Hq1aFDcM3kh1ixrDOXXnwMww5fxoRzn6djxxoqX+3JT64cQU11ByA452vzOXLUEjZsqOCq7x/B/y7sCcCkKx/noKErWfB8by69+JiW/ULtxNevepNRJ63h/eUdOeeEA7eU/81XlvE3f7eCmmqYPas7t1w2gI6darjwyrcZfNh6ogZu+M5A5j/RtQVr3wqUeTa/Znv3ub4ZdcvNuNMqeeuNbgBIwde/9TQ/+M8jOffsk1i6ZDdOOuVNAEaOWsLAvdfx92d8imt/dDjnf33elnPcO3UwP/reES1S//bqgTt78+9nDNqmbNgxaznmlNX840lDmPjJg7jnhr4AnHpGNtXfV088kIvGf5SJl7yLyrmZVKKmmk+xNWrOCSFupf4ZdcvCHn3Xc+ToJcz4w34AdOu+kc2bOvDO21mQfHbunhz7iXcBGP3xxcyasQ8gXlnQm927bqJX7w8BeO6ZPVn/gRvsO9MLs7uyZuW2v/NPn7mcO3+2J5s2Zv8kVq3oBMC+Qz5k3mNdt5StXVXBkGHrd26FWyEHxe2Qc0bdNuec8+cz5caDqX0vfvWqXaioqGHwgSsB+Pgn3qXvntk/nj591rNsaZctxy5f1oU+ff0PqzUZuP8GDhm1jmv+sJAf3lvJkGEfALDoxS6MPnk1HSqCfvtsYPBhH9B3wMYWrm0LC7KBllKWNqjFmyhpJt6JAJ07dm/h2pTmqKMX8/77u1L5ai8OHb4slYorJh3JP5z/PJ061fDsnD2prlaL1tNKV1EB3Xpu5sJPH8CBw9fz7z9/g7NGH8SMqb3Zd/CH/Oz+V1n69i4smLs71TX+u5bzHYQWD4ppJt7JAD0679UmftVDD6li9DGLOXLUEjrtUs1uu2/mX/99Lj+6fCTfuOA4AA4fuYSB+6wFYPnyLltajQB9+q5n+bIu9Z7bWsbyxZ14fHpPQLwybzdqaqBH72pWVXXk55duncH+6mkLeed/d225irYWbeJf6vZp8aDYFt1608HcetPBABw6fBmf/9JCfnT5SHr03MCq93elY6dqvvDlhdz5y2xkc/bj/fl/n1vE/8zamwOHrmTduk6srOrckl/B6vjz/d0ZduxanvtzVwZ+dAOddglWVVWwa5caINiwvoIRx62herN4c2H7/tv54W0r2efHv8pRx7xHB8EffzeI557NRjDnPNmPI0e/xy2/nsmGDRVcfcWILcdc+dNH2GffNXTuspnb776Pn1w5gmfm9Gupr9AuXHT9Gxx29Fp69N7Mr+Yu4Jc/7seMqb35+lVv8fMHX2HTJvHDC7OBsZ57bOLyOxYRNbDivU5cecG+LV39lhfRlJPMTgE+DSyNiENSWW/gTmA/sklmvxgRK1N2vmuAscAHwN9FxDPpmLOAb6fTXhYRt6XyI8gGfbuQzbd4YZqRu+E6NbJ9uxXOqAssAS6JiKKz3vbovFcc/ZGzmqU+1jyqFy5q6SpYDrNjFqujaoduinbruXccftyFJe376O+/8XREjGxou6TjgLXA7QVB8UqgKiKuSInte0XENyWNBS4gC4qjgGsiYlQKonOBkWQd+6eBI1IgfQr4GjCbLCheGxH3Fatzs7UUG5hR18zKQFN1nyPiEUn71SkeR9aggixX88NkaQXGkQXPAJ6U1DPlczkemBkRVQCSZgJjJD0MdI+IJ1P57WR5n1smKJpZmQqg9O5zH0lzC9Ynl5DmtF9ELE6f3wNq7yflzfs8MH2uW16Ug6KZ5Vd6S3F5se5zo5eJCO3kV4ic4tTMcmvOFKfAkto0p+nn0lTeUN7nYuV711NelIOimeWmmihp2U7TyHI0w7a5mqcBZyozGliVutkzgJMl9ZLUCzgZmJG2rZY0Oo1cn4nzPptZk2vCWXIayPt8BXCXpAnAG8AX0+7TyUaeK8keyTkbICKqJH0XmJP2m1Q76AKcy9ZHcu6jkUEWcFA0s5yyh7ebJioWeUrlxHr2DeC8Bs4zBZhST/lc4JA8dXJQNLP82ugMOKVwUDSz3JqqpdgaOSiaWT5lPvO2g6KZ5dR07z63Rg6KZpafu89mZkm03VQDpXBQNLP83FI0MytQvjHRQdHM8lNN+fafHRTNLJ/AD2+bmdUS4Ye3zcy24aBoZlbAQdHMLPE9RTOzbXn02cxsiyjr7rPTEZhZPkEWFEtZGiHpdUnPS5pXm/VPUm9JMyUtTD97pXJJulZSpaT5kkYUnOestP9CSTuUPN5B0czyqylxKc0nI2J4Qda/i4BZETEYmJXWAU4FBqdlInADZEGULI3BKOAo4JLaQLo9HBTNLDdFlLRsp3HAbenzbWQJ7GvLb4/Mk0DPlO3vFGBmRFRFxEpgJjBmey/uoGhm+ZXefe4jaW7BMrHumYAHJD1dsK1fysQH8B7QL30ulvS+vvLt4oEWM8snAqpL7hsvL+gW1+fjEfGOpD2BmZJe3vZSEdIOZJDeDm4pmll+TTTQEhHvpJ9Lgd+S3RNckrrFpJ9L0+7Fkt7XV75dHBTNLL8mCIqSdpfUrfYzWRL7F8iS3teOIJ/F1gT204Az0yj0aGBV6mbPAE6W1CsNsJycyraLu89mlk8ATZOjpR/wW0mQxaJfR8T9kuYAd0maALwBfDHtPx0YC1QCHwBnA0RElaTvAnPSfpMiomp7K+WgaGY5BcSOv9ESEYuAYfWUrwBOrKc8gPMaONcUYMoOVwoHRTPLK8gz0NLmOCiaWX5l/Jqfg6KZ5eegaGZWq7wnhHBQNLN8AvDUYWZmBdxSNDOrles1vzbHQdHM8gmIJnhOsbVyUDSz/JrmjZZWyUHRzPLzPUUzsyTCo89mZttwS9HMrFYQ1dUtXYlm46BoZvk03dRhrZKDopnl50dyzMwyAYRbimZmSTTNJLOtlYOimeVWzgMtilY0tC5pGVlOhnLTB1je0pWwXMr1b/aRiOi7IyeQdD/Z76cUyyNiuxPTt4RWFRTLlaS5jeS+tVbGf7P2yylOzcwKOCiamRVwUNw5Jrd0BSw3/83aKd9TNDMr4JaimVkBB0UzswIOis1I0hhJr0iqlHRRS9fHGidpiqSlkl5o6bpYy3BQbCaSKoDrgFOBocDpkoa2bK2sBLcCbephY2taDorN5yigMiIWRcRGYCowroXrZI2IiEeAqpauh7UcB8XmMxB4q2D97VRmZq2Yg6KZWQEHxebzDrBPwfreqczMWjEHxeYzBxgsaZCkXYDxwLQWrpOZNcJBsZlExGbgfGAG8BJwV0S82LK1ssZIugN4AjhQ0tuSJrR0nWzn8mt+ZmYF3FI0MyvgoGhmVsBB0cysgIOimVkBB0UzswIOim2IpGpJ8yS9IOluSbvtwLlulXRa+nxzsckqJB0v6ZjtuMbrkv4i61tD5XX2WZvzWpdK+te8dTSry0GxbVkfEcMj4hBgI/DVwo2StiuPd0T8fUQsKLLL8UDuoGjWFjkotl2PAgekVtyjkqYBCyRVSPqhpDmS5ks6B0CZn6X5Hf8E7Fl7IkkPSxqZPo+R9Iyk5yTNkrQfWfD959RK/StJfSXdm64xR9Kx6dg9JD0g6UVJNwNq7EtI+m9JT6djJtbZdsP97ckAAAI/SURBVHUqnyWpbyrbX9L96ZhHJR3UFL9Ms1rb1bKwlpVahKcC96eiEcAhEfFaCiyrIuJISbsCj0t6ADgcOJBsbsd+wAJgSp3z9gVuAo5L5+odEVWSbgTWRsSP0n6/Bq6OiMck7Uv21s7HgEuAxyJikqS/Bkp5G+Qr6RpdgDmS7o2IFcDuwNyI+GdJ30nnPp8sodRXI2KhpFHA9cAJ2/FrNKuXg2Lb0kXSvPT5UeAWsm7tUxHxWio/GTis9n4h0AMYDBwH3BER1cC7kh6s5/yjgUdqzxURDc0reBIwVNrSEOwuqWu6xufSsX+UtLKE7/Q1SZ9Nn/dJdV0B1AB3pvJfAb9J1zgGuLvg2ruWcA2zkjkoti3rI2J4YUEKDusKi4ALImJGnf3GNmE9OgCjI+LDeupSMknHkwXYoyPiA0kPA50b2D3Sdd+v+zswa0q+p1h+ZgD/KKkTgKQhknYHHgG+lO459gc+Wc+xTwLHSRqUju2dytcA3Qr2ewC4oHZFUm2QegT4cio7FejVSF17ACtTQDyIrKVaqwNQ29r9Mlm3fDXwmqQvpGtI0rBGrmGWi4Ni+bmZ7H7hMyn50s/JegS/BRambbeTzQSzjYhYBkwk66o+x9bu6++Bz9YOtABfA0amgZwFbB0F/0+yoPoiWTf6zUbqej/QUdJLwBVkQbnWOuCo9B1OACal8jOACal+L+IUD9bEPEuOmVkBtxTNzAo4KJqZFXBQNDMr4KBoZlbAQdHMrICDoplZAQdFM7MC/wdFlI3IYD73SwAAAABJRU5ErkJggg==\n",
            "text/plain": [
              "<Figure size 432x288 with 2 Axes>"
            ]
          },
          "metadata": {},
          "output_type": "display_data"
        }
      ],
      "source": [
        "ConfusionMatrixDisplay.from_predictions(y_test, y_pred);"
      ]
    },
    {
      "cell_type": "code",
      "execution_count": null,
      "metadata": {
        "colab": {
          "base_uri": "https://localhost:8080/"
        },
        "id": "-bnByrEsLRUy",
        "outputId": "8a040bca-d382-4cf0-a15b-6f160f7b2e55"
      },
      "outputs": [
        {
          "name": "stdout",
          "output_type": "stream",
          "text": [
            "Precision 0.8756476683937824\n",
            "Acuracia 0.9015\n",
            "Recall 0.03333333333333333\n",
            "Roc 0.5163995845389124\n",
            "f1 0.06422192665779973\n"
          ]
        }
      ],
      "source": [
        "print('Precision', precision_score(y_test, y_pred))\n",
        "print('Acuracia', accuracy_score(y_test, y_pred))\n",
        "print('Recall', recall_score(y_test, y_pred))\n",
        "print('Roc', roc_auc_score(y_test, y_pred))\n",
        "print('f1', f1_score(y_test, y_pred))"
      ]
    },
    {
      "cell_type": "markdown",
      "metadata": {
        "id": "M2cnqIO6K3it"
      },
      "source": [
        "## 8 - Gradient Boosting"
      ]
    },
    {
      "cell_type": "code",
      "execution_count": null,
      "metadata": {
        "id": "10wJszDktcai"
      },
      "outputs": [],
      "source": [
        "gbm = GradientBoostingClassifier()\n",
        "gbm.fit(X_train, y_train)\n",
        "y_pred = gbm.predict(X_test)"
      ]
    },
    {
      "cell_type": "code",
      "execution_count": null,
      "metadata": {
        "colab": {
          "base_uri": "https://localhost:8080/",
          "height": 279
        },
        "id": "d7OFf2LJKyHr",
        "outputId": "39994c13-a518-4c75-db2d-e6907a2a1455"
      },
      "outputs": [
        {
          "data": {
            "image/png": "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\n",
            "text/plain": [
              "<Figure size 432x288 with 2 Axes>"
            ]
          },
          "metadata": {},
          "output_type": "display_data"
        }
      ],
      "source": [
        "ConfusionMatrixDisplay.from_predictions(y_test, y_pred);"
      ]
    },
    {
      "cell_type": "code",
      "execution_count": null,
      "metadata": {
        "colab": {
          "base_uri": "https://localhost:8080/"
        },
        "id": "dEX2U0cYLRtK",
        "outputId": "58641441-887c-49a9-af79-d431c45aa180"
      },
      "outputs": [
        {
          "name": "stdout",
          "output_type": "stream",
          "text": [
            "Precision 0.8756476683937824\n",
            "Acuracia 0.9015\n",
            "Recall 0.03333333333333333\n",
            "Roc 0.5163995845389124\n",
            "f1 0.06422192665779973\n"
          ]
        }
      ],
      "source": [
        "print('Precision', precision_score(y_test, y_pred))\n",
        "print('Acuracia', accuracy_score(y_test, y_pred))\n",
        "print('Recall', recall_score(y_test, y_pred))\n",
        "print('Roc', roc_auc_score(y_test, y_pred))\n",
        "print('f1', f1_score(y_test, y_pred))"
      ]
    },
    {
      "cell_type": "markdown",
      "metadata": {
        "id": "gtZgOFdLAPzV"
      },
      "source": [
        "## 9 - Lightgbm"
      ]
    },
    {
      "cell_type": "code",
      "execution_count": null,
      "metadata": {
        "id": "_f71Zpy0AXZX"
      },
      "outputs": [],
      "source": [
        "light = LGBMClassifier()\n",
        "light.fit(X_train, y_train)\n",
        "y_pred = light.predict(X_test)"
      ]
    },
    {
      "cell_type": "code",
      "execution_count": null,
      "metadata": {
        "id": "PRIIM_TpAsEW",
        "colab": {
          "base_uri": "https://localhost:8080/",
          "height": 279
        },
        "outputId": "718dcb44-7c6a-4161-f761-55e65258b154"
      },
      "outputs": [
        {
          "output_type": "display_data",
          "data": {
            "text/plain": [
              "<Figure size 432x288 with 2 Axes>"
            ],
            "image/png": "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\n"
          },
          "metadata": {
            "needs_background": "light"
          }
        }
      ],
      "source": [
        "ConfusionMatrixDisplay.from_predictions(y_test, y_pred);"
      ]
    },
    {
      "cell_type": "code",
      "execution_count": null,
      "metadata": {
        "id": "2klVQ4P4Askw",
        "colab": {
          "base_uri": "https://localhost:8080/"
        },
        "outputId": "42b4aaf0-b500-486d-b893-4566c5e6c8a4"
      },
      "outputs": [
        {
          "output_type": "stream",
          "name": "stdout",
          "text": [
            "Precision 0.8605042016806723\n",
            "Acuracia 0.90538\n",
            "Recall 0.09922480620155039\n",
            "Roc 0.5486868901658957\n",
            "f1 0.17793223284100781\n"
          ]
        }
      ],
      "source": [
        "print('Precision', precision_score(y_test, y_pred))\n",
        "print('Acuracia', accuracy_score(y_test, y_pred))\n",
        "print('Recall', recall_score(y_test, y_pred))\n",
        "print('Roc', roc_auc_score(y_test, y_pred))\n",
        "print('f1', f1_score(y_test, y_pred))"
      ]
    },
    {
      "cell_type": "code",
      "source": [
        "light = LGBMClassifier(\n",
        "        metric = 'auc',\n",
        "        objective = 'binary',\n",
        "    )\n",
        "light.fit(X_train, y_train)\n",
        "y_pred = light.predict(X_test)"
      ],
      "metadata": {
        "id": "RxwNBxa3C9iv"
      },
      "execution_count": null,
      "outputs": []
    },
    {
      "cell_type": "code",
      "source": [
        "print('Precision', precision_score(y_test, y_pred))\n",
        "print('Acuracia', accuracy_score(y_test, y_pred))\n",
        "print('Recall', recall_score(y_test, y_pred))\n",
        "print('Roc', roc_auc_score(y_test, y_pred))\n",
        "print('f1', f1_score(y_test, y_pred))"
      ],
      "metadata": {
        "colab": {
          "base_uri": "https://localhost:8080/"
        },
        "id": "ow_MWfwXDD4J",
        "outputId": "dbd55240-9c6d-4bc7-df19-05dff4403ea7"
      },
      "execution_count": null,
      "outputs": [
        {
          "output_type": "stream",
          "name": "stdout",
          "text": [
            "Precision 0.8641975308641975\n",
            "Acuracia 0.9082\n",
            "Recall 0.0979412352588447\n",
            "Roc 0.548115005033027\n",
            "f1 0.17594254937163376\n"
          ]
        }
      ]
    },
    {
      "cell_type": "code",
      "source": [
        "light = LGBMClassifier(\n",
        "        metric = 'auc',\n",
        "        objective = 'binary',\n",
        "        is_unbalance = True,\n",
        "        n_jobs = -1, \n",
        "        verbose = -1,\n",
        "        # Parâmetros de https://www.kaggle.com/code/dott1718/922-in-3-minutes/notebook\n",
        "        learning_rate = 0.05,\n",
        "        max_bin = 165,\n",
        "        max_depth = 5,\n",
        "        min_child_samples = 150,\n",
        "        min_child_weight = 0.1,\n",
        "        min_split_gain = 0.0018,\n",
        "        n_estimators = 41,\n",
        "        num_leaves = 6,\n",
        "        reg_alpha = 2.0,\n",
        "        reg_lambda = 2.54,\n",
        "    )\n",
        "light.fit(X_train, y_train)\n",
        "y_pred = light.predict(X_test)"
      ],
      "metadata": {
        "id": "4ydNZJt8CpFV"
      },
      "execution_count": null,
      "outputs": []
    },
    {
      "cell_type": "code",
      "source": [
        "print('Precision', precision_score(y_test, y_pred))\n",
        "print('Acuracia', accuracy_score(y_test, y_pred))\n",
        "print('Recall', recall_score(y_test, y_pred))\n",
        "print('Roc', roc_auc_score(y_test, y_pred))\n",
        "print('f1', f1_score(y_test, y_pred))"
      ],
      "metadata": {
        "colab": {
          "base_uri": "https://localhost:8080/"
        },
        "id": "rLaa7kFgCs4a",
        "outputId": "93db2b36-4028-4d5f-8750-9a05f0ae6b09"
      },
      "execution_count": null,
      "outputs": [
        {
          "output_type": "stream",
          "name": "stdout",
          "text": [
            "Precision 0.2912285042682172\n",
            "Acuracia 0.83244\n",
            "Recall 0.4705176893863682\n",
            "Roc 0.6715990451509923\n",
            "f1 0.35977380406541337\n"
          ]
        }
      ]
    },
    {
      "cell_type": "code",
      "source": [
        "msg = \"Terminou de calcular o modelo tudo\"\n",
        "\n",
        "# enviar a mensagem\n",
        "send_message(token1, id1, msg)"
      ],
      "metadata": {
        "id": "3034Ga_umbdz"
      },
      "execution_count": null,
      "outputs": []
    },
    {
      "cell_type": "markdown",
      "source": [
        "## Minha abordagem"
      ],
      "metadata": {
        "id": "Nzqr94ICryEo"
      }
    },
    {
      "cell_type": "markdown",
      "metadata": {
        "id": "LogmT89nSuYM"
      },
      "source": [
        "### Adicionando uma nova coluna com clusterização"
      ]
    },
    {
      "cell_type": "code",
      "source": [
        "from sklearn.cluster import KMeans\n",
        "from sklearn.preprocessing import StandardScaler\n",
        "import matplotlib.pyplot as plt\n",
        "import seaborn as sns\n",
        "from sklearn.metrics import  silhouette_score\n",
        "from yellowbrick.cluster import KElbowVisualizer, SilhouetteVisualizer\n",
        "from sklearn.cluster import SpectralClustering\n",
        "from sklearn.cluster import AgglomerativeClustering\n",
        "from sklearn.mixture import GaussianMixture"
      ],
      "metadata": {
        "id": "mPhn1sl7ywit"
      },
      "execution_count": null,
      "outputs": []
    },
    {
      "cell_type": "code",
      "source": [
        "data1 = data\n",
        "data1.head()"
      ],
      "metadata": {
        "colab": {
          "base_uri": "https://localhost:8080/",
          "height": 299
        },
        "id": "kqjAIw_Iy5hK",
        "outputId": "50ad9a3f-b66d-47ab-8e9a-74931f1b1a74"
      },
      "execution_count": null,
      "outputs": [
        {
          "output_type": "execute_result",
          "data": {
            "text/plain": [
              "   ID_code  target    var_0   var_1    var_2   var_3    var_4   var_5   var_6  \\\n",
              "0  train_0       0   8.9255 -6.7863  11.9081  5.0930  11.4607 -9.2834  5.1187   \n",
              "1  train_1       0  11.5006 -4.1473  13.8588  5.3890  12.3622  7.0433  5.6208   \n",
              "2  train_2       0   8.6093 -2.7457  12.0805  7.8928  10.5825 -9.0837  6.9427   \n",
              "3  train_3       0  11.0604 -2.1518   8.9522  7.1957  12.5846 -1.8361  5.8428   \n",
              "4  train_4       0   9.8369 -1.4834  12.8746  6.6375  12.2772  2.4486  5.9405   \n",
              "\n",
              "     var_7  ...  var_190  var_191  var_192  var_193  var_194  var_195  \\\n",
              "0  18.6266  ...   4.4354   3.9642   3.1364   1.6910  18.5227  -2.3978   \n",
              "1  16.5338  ...   7.6421   7.7214   2.5837  10.9516  15.4305   2.0339   \n",
              "2  14.6155  ...   2.9057   9.7905   1.6704   1.6858  21.6042   3.1417   \n",
              "3  14.9250  ...   4.4666   4.7433   0.7178   1.4214  23.0347  -1.2706   \n",
              "4  19.2514  ...  -1.4905   9.5214  -0.1508   9.1942  13.2876  -1.5121   \n",
              "\n",
              "   var_196  var_197  var_198  var_199  \n",
              "0   7.8784   8.5635  12.7803  -1.0914  \n",
              "1   8.1267   8.7889  18.3560   1.9518  \n",
              "2  -6.5213   8.2675  14.7222   0.3965  \n",
              "3  -2.9275  10.2922  17.9697  -8.9996  \n",
              "4   3.9267   9.5031  17.9974  -8.8104  \n",
              "\n",
              "[5 rows x 202 columns]"
            ],
            "text/html": [
              "\n",
              "  <div id=\"df-4d2be756-e1a0-40fd-a965-71a0013f2e87\">\n",
              "    <div class=\"colab-df-container\">\n",
              "      <div>\n",
              "<style scoped>\n",
              "    .dataframe tbody tr th:only-of-type {\n",
              "        vertical-align: middle;\n",
              "    }\n",
              "\n",
              "    .dataframe tbody tr th {\n",
              "        vertical-align: top;\n",
              "    }\n",
              "\n",
              "    .dataframe thead th {\n",
              "        text-align: right;\n",
              "    }\n",
              "</style>\n",
              "<table border=\"1\" class=\"dataframe\">\n",
              "  <thead>\n",
              "    <tr style=\"text-align: right;\">\n",
              "      <th></th>\n",
              "      <th>ID_code</th>\n",
              "      <th>target</th>\n",
              "      <th>var_0</th>\n",
              "      <th>var_1</th>\n",
              "      <th>var_2</th>\n",
              "      <th>var_3</th>\n",
              "      <th>var_4</th>\n",
              "      <th>var_5</th>\n",
              "      <th>var_6</th>\n",
              "      <th>var_7</th>\n",
              "      <th>...</th>\n",
              "      <th>var_190</th>\n",
              "      <th>var_191</th>\n",
              "      <th>var_192</th>\n",
              "      <th>var_193</th>\n",
              "      <th>var_194</th>\n",
              "      <th>var_195</th>\n",
              "      <th>var_196</th>\n",
              "      <th>var_197</th>\n",
              "      <th>var_198</th>\n",
              "      <th>var_199</th>\n",
              "    </tr>\n",
              "  </thead>\n",
              "  <tbody>\n",
              "    <tr>\n",
              "      <th>0</th>\n",
              "      <td>train_0</td>\n",
              "      <td>0</td>\n",
              "      <td>8.9255</td>\n",
              "      <td>-6.7863</td>\n",
              "      <td>11.9081</td>\n",
              "      <td>5.0930</td>\n",
              "      <td>11.4607</td>\n",
              "      <td>-9.2834</td>\n",
              "      <td>5.1187</td>\n",
              "      <td>18.6266</td>\n",
              "      <td>...</td>\n",
              "      <td>4.4354</td>\n",
              "      <td>3.9642</td>\n",
              "      <td>3.1364</td>\n",
              "      <td>1.6910</td>\n",
              "      <td>18.5227</td>\n",
              "      <td>-2.3978</td>\n",
              "      <td>7.8784</td>\n",
              "      <td>8.5635</td>\n",
              "      <td>12.7803</td>\n",
              "      <td>-1.0914</td>\n",
              "    </tr>\n",
              "    <tr>\n",
              "      <th>1</th>\n",
              "      <td>train_1</td>\n",
              "      <td>0</td>\n",
              "      <td>11.5006</td>\n",
              "      <td>-4.1473</td>\n",
              "      <td>13.8588</td>\n",
              "      <td>5.3890</td>\n",
              "      <td>12.3622</td>\n",
              "      <td>7.0433</td>\n",
              "      <td>5.6208</td>\n",
              "      <td>16.5338</td>\n",
              "      <td>...</td>\n",
              "      <td>7.6421</td>\n",
              "      <td>7.7214</td>\n",
              "      <td>2.5837</td>\n",
              "      <td>10.9516</td>\n",
              "      <td>15.4305</td>\n",
              "      <td>2.0339</td>\n",
              "      <td>8.1267</td>\n",
              "      <td>8.7889</td>\n",
              "      <td>18.3560</td>\n",
              "      <td>1.9518</td>\n",
              "    </tr>\n",
              "    <tr>\n",
              "      <th>2</th>\n",
              "      <td>train_2</td>\n",
              "      <td>0</td>\n",
              "      <td>8.6093</td>\n",
              "      <td>-2.7457</td>\n",
              "      <td>12.0805</td>\n",
              "      <td>7.8928</td>\n",
              "      <td>10.5825</td>\n",
              "      <td>-9.0837</td>\n",
              "      <td>6.9427</td>\n",
              "      <td>14.6155</td>\n",
              "      <td>...</td>\n",
              "      <td>2.9057</td>\n",
              "      <td>9.7905</td>\n",
              "      <td>1.6704</td>\n",
              "      <td>1.6858</td>\n",
              "      <td>21.6042</td>\n",
              "      <td>3.1417</td>\n",
              "      <td>-6.5213</td>\n",
              "      <td>8.2675</td>\n",
              "      <td>14.7222</td>\n",
              "      <td>0.3965</td>\n",
              "    </tr>\n",
              "    <tr>\n",
              "      <th>3</th>\n",
              "      <td>train_3</td>\n",
              "      <td>0</td>\n",
              "      <td>11.0604</td>\n",
              "      <td>-2.1518</td>\n",
              "      <td>8.9522</td>\n",
              "      <td>7.1957</td>\n",
              "      <td>12.5846</td>\n",
              "      <td>-1.8361</td>\n",
              "      <td>5.8428</td>\n",
              "      <td>14.9250</td>\n",
              "      <td>...</td>\n",
              "      <td>4.4666</td>\n",
              "      <td>4.7433</td>\n",
              "      <td>0.7178</td>\n",
              "      <td>1.4214</td>\n",
              "      <td>23.0347</td>\n",
              "      <td>-1.2706</td>\n",
              "      <td>-2.9275</td>\n",
              "      <td>10.2922</td>\n",
              "      <td>17.9697</td>\n",
              "      <td>-8.9996</td>\n",
              "    </tr>\n",
              "    <tr>\n",
              "      <th>4</th>\n",
              "      <td>train_4</td>\n",
              "      <td>0</td>\n",
              "      <td>9.8369</td>\n",
              "      <td>-1.4834</td>\n",
              "      <td>12.8746</td>\n",
              "      <td>6.6375</td>\n",
              "      <td>12.2772</td>\n",
              "      <td>2.4486</td>\n",
              "      <td>5.9405</td>\n",
              "      <td>19.2514</td>\n",
              "      <td>...</td>\n",
              "      <td>-1.4905</td>\n",
              "      <td>9.5214</td>\n",
              "      <td>-0.1508</td>\n",
              "      <td>9.1942</td>\n",
              "      <td>13.2876</td>\n",
              "      <td>-1.5121</td>\n",
              "      <td>3.9267</td>\n",
              "      <td>9.5031</td>\n",
              "      <td>17.9974</td>\n",
              "      <td>-8.8104</td>\n",
              "    </tr>\n",
              "  </tbody>\n",
              "</table>\n",
              "<p>5 rows × 202 columns</p>\n",
              "</div>\n",
              "      <button class=\"colab-df-convert\" onclick=\"convertToInteractive('df-4d2be756-e1a0-40fd-a965-71a0013f2e87')\"\n",
              "              title=\"Convert this dataframe to an interactive table.\"\n",
              "              style=\"display:none;\">\n",
              "        \n",
              "  <svg xmlns=\"http://www.w3.org/2000/svg\" height=\"24px\"viewBox=\"0 0 24 24\"\n",
              "       width=\"24px\">\n",
              "    <path d=\"M0 0h24v24H0V0z\" fill=\"none\"/>\n",
              "    <path d=\"M18.56 5.44l.94 2.06.94-2.06 2.06-.94-2.06-.94-.94-2.06-.94 2.06-2.06.94zm-11 1L8.5 8.5l.94-2.06 2.06-.94-2.06-.94L8.5 2.5l-.94 2.06-2.06.94zm10 10l.94 2.06.94-2.06 2.06-.94-2.06-.94-.94-2.06-.94 2.06-2.06.94z\"/><path d=\"M17.41 7.96l-1.37-1.37c-.4-.4-.92-.59-1.43-.59-.52 0-1.04.2-1.43.59L10.3 9.45l-7.72 7.72c-.78.78-.78 2.05 0 2.83L4 21.41c.39.39.9.59 1.41.59.51 0 1.02-.2 1.41-.59l7.78-7.78 2.81-2.81c.8-.78.8-2.07 0-2.86zM5.41 20L4 18.59l7.72-7.72 1.47 1.35L5.41 20z\"/>\n",
              "  </svg>\n",
              "      </button>\n",
              "      \n",
              "  <style>\n",
              "    .colab-df-container {\n",
              "      display:flex;\n",
              "      flex-wrap:wrap;\n",
              "      gap: 12px;\n",
              "    }\n",
              "\n",
              "    .colab-df-convert {\n",
              "      background-color: #E8F0FE;\n",
              "      border: none;\n",
              "      border-radius: 50%;\n",
              "      cursor: pointer;\n",
              "      display: none;\n",
              "      fill: #1967D2;\n",
              "      height: 32px;\n",
              "      padding: 0 0 0 0;\n",
              "      width: 32px;\n",
              "    }\n",
              "\n",
              "    .colab-df-convert:hover {\n",
              "      background-color: #E2EBFA;\n",
              "      box-shadow: 0px 1px 2px rgba(60, 64, 67, 0.3), 0px 1px 3px 1px rgba(60, 64, 67, 0.15);\n",
              "      fill: #174EA6;\n",
              "    }\n",
              "\n",
              "    [theme=dark] .colab-df-convert {\n",
              "      background-color: #3B4455;\n",
              "      fill: #D2E3FC;\n",
              "    }\n",
              "\n",
              "    [theme=dark] .colab-df-convert:hover {\n",
              "      background-color: #434B5C;\n",
              "      box-shadow: 0px 1px 3px 1px rgba(0, 0, 0, 0.15);\n",
              "      filter: drop-shadow(0px 1px 2px rgba(0, 0, 0, 0.3));\n",
              "      fill: #FFFFFF;\n",
              "    }\n",
              "  </style>\n",
              "\n",
              "      <script>\n",
              "        const buttonEl =\n",
              "          document.querySelector('#df-4d2be756-e1a0-40fd-a965-71a0013f2e87 button.colab-df-convert');\n",
              "        buttonEl.style.display =\n",
              "          google.colab.kernel.accessAllowed ? 'block' : 'none';\n",
              "\n",
              "        async function convertToInteractive(key) {\n",
              "          const element = document.querySelector('#df-4d2be756-e1a0-40fd-a965-71a0013f2e87');\n",
              "          const dataTable =\n",
              "            await google.colab.kernel.invokeFunction('convertToInteractive',\n",
              "                                                     [key], {});\n",
              "          if (!dataTable) return;\n",
              "\n",
              "          const docLinkHtml = 'Like what you see? Visit the ' +\n",
              "            '<a target=\"_blank\" href=https://colab.research.google.com/notebooks/data_table.ipynb>data table notebook</a>'\n",
              "            + ' to learn more about interactive tables.';\n",
              "          element.innerHTML = '';\n",
              "          dataTable['output_type'] = 'display_data';\n",
              "          await google.colab.output.renderOutput(dataTable, element);\n",
              "          const docLink = document.createElement('div');\n",
              "          docLink.innerHTML = docLinkHtml;\n",
              "          element.appendChild(docLink);\n",
              "        }\n",
              "      </script>\n",
              "    </div>\n",
              "  </div>\n",
              "  "
            ]
          },
          "metadata": {},
          "execution_count": 11
        }
      ]
    },
    {
      "cell_type": "code",
      "source": [
        "data1.isna().sum()"
      ],
      "metadata": {
        "colab": {
          "base_uri": "https://localhost:8080/"
        },
        "id": "aZKE7DLXzA0W",
        "outputId": "f2550106-22e8-4c92-a3c6-2088bf80f64d"
      },
      "execution_count": null,
      "outputs": [
        {
          "output_type": "execute_result",
          "data": {
            "text/plain": [
              "ID_code    0\n",
              "target     0\n",
              "var_0      0\n",
              "var_1      0\n",
              "var_2      0\n",
              "          ..\n",
              "var_195    0\n",
              "var_196    0\n",
              "var_197    0\n",
              "var_198    0\n",
              "var_199    0\n",
              "Length: 202, dtype: int64"
            ]
          },
          "metadata": {},
          "execution_count": 12
        }
      ]
    },
    {
      "cell_type": "code",
      "source": [
        "data1 = data1.drop(columns=['ID_code'])"
      ],
      "metadata": {
        "id": "4yOWlPonzgL4"
      },
      "execution_count": null,
      "outputs": []
    },
    {
      "cell_type": "code",
      "source": [
        "# kmeans precisa que os dados estejam no mesmo range de valores\n",
        "# pois é um algoritmo baseado em distância.\n",
        "scaler = StandardScaler()\n",
        "X = scaler.fit_transform(data1)"
      ],
      "metadata": {
        "id": "XcWkH2-ozWw2"
      },
      "execution_count": null,
      "outputs": []
    },
    {
      "cell_type": "code",
      "source": [
        "# vamos criar um kmeans, usei 2 clusters a principio\n",
        "kmeans = KMeans(n_clusters=2, random_state=0)\n",
        "kmeans.fit(X)"
      ],
      "metadata": {
        "colab": {
          "base_uri": "https://localhost:8080/"
        },
        "id": "ha5lcYNDz1My",
        "outputId": "9aacd93a-c38b-4107-90e9-3b01656177f0"
      },
      "execution_count": null,
      "outputs": [
        {
          "output_type": "execute_result",
          "data": {
            "text/plain": [
              "KMeans(n_clusters=2, random_state=0)"
            ]
          },
          "metadata": {},
          "execution_count": 15
        }
      ]
    },
    {
      "cell_type": "code",
      "source": [
        "# será que é bom?\n",
        "kmeans.inertia_"
      ],
      "metadata": {
        "colab": {
          "base_uri": "https://localhost:8080/"
        },
        "id": "OC2RGRAxz80k",
        "outputId": "3f35dbb9-2007-48f9-9602-666c163c339a"
      },
      "execution_count": null,
      "outputs": [
        {
          "output_type": "execute_result",
          "data": {
            "text/plain": [
              "39955764.096667096"
            ]
          },
          "metadata": {},
          "execution_count": 16
        }
      ]
    },
    {
      "cell_type": "code",
      "source": [
        "# testando de 2 até 11 clusters\n",
        "# aparentemente com 4 clusters tem a meior queda no erro\n",
        "erro = []\n",
        "for i in range(2, 11):\n",
        "    kmeans = KMeans(n_clusters=i, random_state=0)\n",
        "    kmeans.fit(X)\n",
        "    erro.append( kmeans.inertia_ )\n",
        "\n",
        "plt.plot( range(2,11), erro)"
      ],
      "metadata": {
        "colab": {
          "base_uri": "https://localhost:8080/",
          "height": 375
        },
        "id": "_anq6U2_z9eC",
        "outputId": "ff7fa412-6f11-4320-9940-43e9623f2187"
      },
      "execution_count": null,
      "outputs": [
        {
          "output_type": "execute_result",
          "data": {
            "text/plain": [
              "[<matplotlib.lines.Line2D at 0x7f1fbd2cb450>]"
            ]
          },
          "metadata": {},
          "execution_count": 16
        },
        {
          "output_type": "display_data",
          "data": {
            "text/plain": [
              "<Figure size 576x396 with 1 Axes>"
            ],
            "image/png": "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\n"
          },
          "metadata": {}
        }
      ]
    },
    {
      "cell_type": "code",
      "source": [
        "fig, ax = plt.subplots(3, 2, figsize=(15,8))\n",
        "for i in [2, 3, 4, 5, 6, 7]:\n",
        "    '''\n",
        "    Create KMeans instance for different number of clusters\n",
        "    '''\n",
        "    km = KMeans(n_clusters=i, init='k-means++', n_init=10, max_iter=100, random_state=42)\n",
        "    q, mod = divmod(i, 2)\n",
        "    '''\n",
        "    Create SilhouetteVisualizer instance with KMeans instance\n",
        "    Fit the visualizer\n",
        "    '''\n",
        "    visualizer = SilhouetteVisualizer(km, colors='yellowbrick', ax=ax[q-1][mod])\n",
        "    visualizer.fit(X) "
      ],
      "metadata": {
        "colab": {
          "base_uri": "https://localhost:8080/",
          "height": 483
        },
        "id": "KUyJK59U0BdL",
        "outputId": "20a177a9-3ef9-4c8b-d9f3-da2e7710f793"
      },
      "execution_count": null,
      "outputs": [
        {
          "output_type": "display_data",
          "data": {
            "text/plain": [
              "<Figure size 1080x576 with 6 Axes>"
            ],
            "image/png": "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\n"
          },
          "metadata": {}
        }
      ]
    },
    {
      "cell_type": "code",
      "source": [
        "kmeans = KMeans(n_clusters=4, random_state=0) # Primeira tentativa foi com 6\n",
        "labels = kmeans.fit_predict(X)"
      ],
      "metadata": {
        "id": "7kaZRqwouBUD"
      },
      "execution_count": null,
      "outputs": []
    },
    {
      "cell_type": "code",
      "source": [
        "data1['cluster'] = labels"
      ],
      "metadata": {
        "id": "c2GC3ZvvuCms"
      },
      "execution_count": null,
      "outputs": []
    },
    {
      "cell_type": "code",
      "source": [
        "data1.head()"
      ],
      "metadata": {
        "colab": {
          "base_uri": "https://localhost:8080/",
          "height": 299
        },
        "id": "S25rAMd8ukBY",
        "outputId": "4afb7008-36b2-4309-b417-9679e4ce2ffa"
      },
      "execution_count": null,
      "outputs": [
        {
          "output_type": "execute_result",
          "data": {
            "text/plain": [
              "   target    var_0   var_1    var_2   var_3    var_4   var_5   var_6    var_7  \\\n",
              "0       0   8.9255 -6.7863  11.9081  5.0930  11.4607 -9.2834  5.1187  18.6266   \n",
              "1       0  11.5006 -4.1473  13.8588  5.3890  12.3622  7.0433  5.6208  16.5338   \n",
              "2       0   8.6093 -2.7457  12.0805  7.8928  10.5825 -9.0837  6.9427  14.6155   \n",
              "3       0  11.0604 -2.1518   8.9522  7.1957  12.5846 -1.8361  5.8428  14.9250   \n",
              "4       0   9.8369 -1.4834  12.8746  6.6375  12.2772  2.4486  5.9405  19.2514   \n",
              "\n",
              "    var_8  ...  var_191  var_192  var_193  var_194  var_195  var_196  var_197  \\\n",
              "0 -4.9200  ...   3.9642   3.1364   1.6910  18.5227  -2.3978   7.8784   8.5635   \n",
              "1  3.1468  ...   7.7214   2.5837  10.9516  15.4305   2.0339   8.1267   8.7889   \n",
              "2 -4.9193  ...   9.7905   1.6704   1.6858  21.6042   3.1417  -6.5213   8.2675   \n",
              "3 -5.8609  ...   4.7433   0.7178   1.4214  23.0347  -1.2706  -2.9275  10.2922   \n",
              "4  6.2654  ...   9.5214  -0.1508   9.1942  13.2876  -1.5121   3.9267   9.5031   \n",
              "\n",
              "   var_198  var_199  cluster  \n",
              "0  12.7803  -1.0914        0  \n",
              "1  18.3560   1.9518        1  \n",
              "2  14.7222   0.3965        1  \n",
              "3  17.9697  -8.9996        2  \n",
              "4  17.9974  -8.8104        2  \n",
              "\n",
              "[5 rows x 202 columns]"
            ],
            "text/html": [
              "\n",
              "  <div id=\"df-75c9ab72-e099-4a9f-9877-3a62f0cf46c4\">\n",
              "    <div class=\"colab-df-container\">\n",
              "      <div>\n",
              "<style scoped>\n",
              "    .dataframe tbody tr th:only-of-type {\n",
              "        vertical-align: middle;\n",
              "    }\n",
              "\n",
              "    .dataframe tbody tr th {\n",
              "        vertical-align: top;\n",
              "    }\n",
              "\n",
              "    .dataframe thead th {\n",
              "        text-align: right;\n",
              "    }\n",
              "</style>\n",
              "<table border=\"1\" class=\"dataframe\">\n",
              "  <thead>\n",
              "    <tr style=\"text-align: right;\">\n",
              "      <th></th>\n",
              "      <th>target</th>\n",
              "      <th>var_0</th>\n",
              "      <th>var_1</th>\n",
              "      <th>var_2</th>\n",
              "      <th>var_3</th>\n",
              "      <th>var_4</th>\n",
              "      <th>var_5</th>\n",
              "      <th>var_6</th>\n",
              "      <th>var_7</th>\n",
              "      <th>var_8</th>\n",
              "      <th>...</th>\n",
              "      <th>var_191</th>\n",
              "      <th>var_192</th>\n",
              "      <th>var_193</th>\n",
              "      <th>var_194</th>\n",
              "      <th>var_195</th>\n",
              "      <th>var_196</th>\n",
              "      <th>var_197</th>\n",
              "      <th>var_198</th>\n",
              "      <th>var_199</th>\n",
              "      <th>cluster</th>\n",
              "    </tr>\n",
              "  </thead>\n",
              "  <tbody>\n",
              "    <tr>\n",
              "      <th>0</th>\n",
              "      <td>0</td>\n",
              "      <td>8.9255</td>\n",
              "      <td>-6.7863</td>\n",
              "      <td>11.9081</td>\n",
              "      <td>5.0930</td>\n",
              "      <td>11.4607</td>\n",
              "      <td>-9.2834</td>\n",
              "      <td>5.1187</td>\n",
              "      <td>18.6266</td>\n",
              "      <td>-4.9200</td>\n",
              "      <td>...</td>\n",
              "      <td>3.9642</td>\n",
              "      <td>3.1364</td>\n",
              "      <td>1.6910</td>\n",
              "      <td>18.5227</td>\n",
              "      <td>-2.3978</td>\n",
              "      <td>7.8784</td>\n",
              "      <td>8.5635</td>\n",
              "      <td>12.7803</td>\n",
              "      <td>-1.0914</td>\n",
              "      <td>0</td>\n",
              "    </tr>\n",
              "    <tr>\n",
              "      <th>1</th>\n",
              "      <td>0</td>\n",
              "      <td>11.5006</td>\n",
              "      <td>-4.1473</td>\n",
              "      <td>13.8588</td>\n",
              "      <td>5.3890</td>\n",
              "      <td>12.3622</td>\n",
              "      <td>7.0433</td>\n",
              "      <td>5.6208</td>\n",
              "      <td>16.5338</td>\n",
              "      <td>3.1468</td>\n",
              "      <td>...</td>\n",
              "      <td>7.7214</td>\n",
              "      <td>2.5837</td>\n",
              "      <td>10.9516</td>\n",
              "      <td>15.4305</td>\n",
              "      <td>2.0339</td>\n",
              "      <td>8.1267</td>\n",
              "      <td>8.7889</td>\n",
              "      <td>18.3560</td>\n",
              "      <td>1.9518</td>\n",
              "      <td>1</td>\n",
              "    </tr>\n",
              "    <tr>\n",
              "      <th>2</th>\n",
              "      <td>0</td>\n",
              "      <td>8.6093</td>\n",
              "      <td>-2.7457</td>\n",
              "      <td>12.0805</td>\n",
              "      <td>7.8928</td>\n",
              "      <td>10.5825</td>\n",
              "      <td>-9.0837</td>\n",
              "      <td>6.9427</td>\n",
              "      <td>14.6155</td>\n",
              "      <td>-4.9193</td>\n",
              "      <td>...</td>\n",
              "      <td>9.7905</td>\n",
              "      <td>1.6704</td>\n",
              "      <td>1.6858</td>\n",
              "      <td>21.6042</td>\n",
              "      <td>3.1417</td>\n",
              "      <td>-6.5213</td>\n",
              "      <td>8.2675</td>\n",
              "      <td>14.7222</td>\n",
              "      <td>0.3965</td>\n",
              "      <td>1</td>\n",
              "    </tr>\n",
              "    <tr>\n",
              "      <th>3</th>\n",
              "      <td>0</td>\n",
              "      <td>11.0604</td>\n",
              "      <td>-2.1518</td>\n",
              "      <td>8.9522</td>\n",
              "      <td>7.1957</td>\n",
              "      <td>12.5846</td>\n",
              "      <td>-1.8361</td>\n",
              "      <td>5.8428</td>\n",
              "      <td>14.9250</td>\n",
              "      <td>-5.8609</td>\n",
              "      <td>...</td>\n",
              "      <td>4.7433</td>\n",
              "      <td>0.7178</td>\n",
              "      <td>1.4214</td>\n",
              "      <td>23.0347</td>\n",
              "      <td>-1.2706</td>\n",
              "      <td>-2.9275</td>\n",
              "      <td>10.2922</td>\n",
              "      <td>17.9697</td>\n",
              "      <td>-8.9996</td>\n",
              "      <td>2</td>\n",
              "    </tr>\n",
              "    <tr>\n",
              "      <th>4</th>\n",
              "      <td>0</td>\n",
              "      <td>9.8369</td>\n",
              "      <td>-1.4834</td>\n",
              "      <td>12.8746</td>\n",
              "      <td>6.6375</td>\n",
              "      <td>12.2772</td>\n",
              "      <td>2.4486</td>\n",
              "      <td>5.9405</td>\n",
              "      <td>19.2514</td>\n",
              "      <td>6.2654</td>\n",
              "      <td>...</td>\n",
              "      <td>9.5214</td>\n",
              "      <td>-0.1508</td>\n",
              "      <td>9.1942</td>\n",
              "      <td>13.2876</td>\n",
              "      <td>-1.5121</td>\n",
              "      <td>3.9267</td>\n",
              "      <td>9.5031</td>\n",
              "      <td>17.9974</td>\n",
              "      <td>-8.8104</td>\n",
              "      <td>2</td>\n",
              "    </tr>\n",
              "  </tbody>\n",
              "</table>\n",
              "<p>5 rows × 202 columns</p>\n",
              "</div>\n",
              "      <button class=\"colab-df-convert\" onclick=\"convertToInteractive('df-75c9ab72-e099-4a9f-9877-3a62f0cf46c4')\"\n",
              "              title=\"Convert this dataframe to an interactive table.\"\n",
              "              style=\"display:none;\">\n",
              "        \n",
              "  <svg xmlns=\"http://www.w3.org/2000/svg\" height=\"24px\"viewBox=\"0 0 24 24\"\n",
              "       width=\"24px\">\n",
              "    <path d=\"M0 0h24v24H0V0z\" fill=\"none\"/>\n",
              "    <path d=\"M18.56 5.44l.94 2.06.94-2.06 2.06-.94-2.06-.94-.94-2.06-.94 2.06-2.06.94zm-11 1L8.5 8.5l.94-2.06 2.06-.94-2.06-.94L8.5 2.5l-.94 2.06-2.06.94zm10 10l.94 2.06.94-2.06 2.06-.94-2.06-.94-.94-2.06-.94 2.06-2.06.94z\"/><path d=\"M17.41 7.96l-1.37-1.37c-.4-.4-.92-.59-1.43-.59-.52 0-1.04.2-1.43.59L10.3 9.45l-7.72 7.72c-.78.78-.78 2.05 0 2.83L4 21.41c.39.39.9.59 1.41.59.51 0 1.02-.2 1.41-.59l7.78-7.78 2.81-2.81c.8-.78.8-2.07 0-2.86zM5.41 20L4 18.59l7.72-7.72 1.47 1.35L5.41 20z\"/>\n",
              "  </svg>\n",
              "      </button>\n",
              "      \n",
              "  <style>\n",
              "    .colab-df-container {\n",
              "      display:flex;\n",
              "      flex-wrap:wrap;\n",
              "      gap: 12px;\n",
              "    }\n",
              "\n",
              "    .colab-df-convert {\n",
              "      background-color: #E8F0FE;\n",
              "      border: none;\n",
              "      border-radius: 50%;\n",
              "      cursor: pointer;\n",
              "      display: none;\n",
              "      fill: #1967D2;\n",
              "      height: 32px;\n",
              "      padding: 0 0 0 0;\n",
              "      width: 32px;\n",
              "    }\n",
              "\n",
              "    .colab-df-convert:hover {\n",
              "      background-color: #E2EBFA;\n",
              "      box-shadow: 0px 1px 2px rgba(60, 64, 67, 0.3), 0px 1px 3px 1px rgba(60, 64, 67, 0.15);\n",
              "      fill: #174EA6;\n",
              "    }\n",
              "\n",
              "    [theme=dark] .colab-df-convert {\n",
              "      background-color: #3B4455;\n",
              "      fill: #D2E3FC;\n",
              "    }\n",
              "\n",
              "    [theme=dark] .colab-df-convert:hover {\n",
              "      background-color: #434B5C;\n",
              "      box-shadow: 0px 1px 3px 1px rgba(0, 0, 0, 0.15);\n",
              "      filter: drop-shadow(0px 1px 2px rgba(0, 0, 0, 0.3));\n",
              "      fill: #FFFFFF;\n",
              "    }\n",
              "  </style>\n",
              "\n",
              "      <script>\n",
              "        const buttonEl =\n",
              "          document.querySelector('#df-75c9ab72-e099-4a9f-9877-3a62f0cf46c4 button.colab-df-convert');\n",
              "        buttonEl.style.display =\n",
              "          google.colab.kernel.accessAllowed ? 'block' : 'none';\n",
              "\n",
              "        async function convertToInteractive(key) {\n",
              "          const element = document.querySelector('#df-75c9ab72-e099-4a9f-9877-3a62f0cf46c4');\n",
              "          const dataTable =\n",
              "            await google.colab.kernel.invokeFunction('convertToInteractive',\n",
              "                                                     [key], {});\n",
              "          if (!dataTable) return;\n",
              "\n",
              "          const docLinkHtml = 'Like what you see? Visit the ' +\n",
              "            '<a target=\"_blank\" href=https://colab.research.google.com/notebooks/data_table.ipynb>data table notebook</a>'\n",
              "            + ' to learn more about interactive tables.';\n",
              "          element.innerHTML = '';\n",
              "          dataTable['output_type'] = 'display_data';\n",
              "          await google.colab.output.renderOutput(dataTable, element);\n",
              "          const docLink = document.createElement('div');\n",
              "          docLink.innerHTML = docLinkHtml;\n",
              "          element.appendChild(docLink);\n",
              "        }\n",
              "      </script>\n",
              "    </div>\n",
              "  </div>\n",
              "  "
            ]
          },
          "metadata": {},
          "execution_count": 19
        }
      ]
    },
    {
      "cell_type": "code",
      "source": [
        "X = data1.drop(columns=['target'])\n",
        "y = data1['target']"
      ],
      "metadata": {
        "id": "iNDwCymVfsXg"
      },
      "execution_count": null,
      "outputs": []
    },
    {
      "cell_type": "markdown",
      "source": [
        "### Variando proporção treino/teste\n"
      ],
      "metadata": {
        "id": "ryBl5NfVr34I"
      }
    },
    {
      "cell_type": "code",
      "source": [
        "#Sem clusterização\n",
        "\n",
        "for i in [0.1, 0.2, 0.25, 0.3, 0.33, 0.5]:\n",
        "    X_train, X_test, y_train, y_test = train_test_split(X, y, random_state=42, test_size=i)\n",
        "    pipe_rfe_reglog = make_pipeline(StandardScaler(), RFECV(LogisticRegression(class_weight='balanced'), step=1, cv=5), LogisticRegression(class_weight='balanced') )\n",
        "    pipe_rfe_reglog.fit(X_train, y_train)\n",
        "    y_pred = pipe_rfe_reglog.predict(X_test)\n",
        "    print(i)\n",
        "    print('Roc', roc_auc_score(y_test, y_pred))\n",
        "    print('--------------------------')"
      ],
      "metadata": {
        "colab": {
          "base_uri": "https://localhost:8080/"
        },
        "id": "ATg4LUJfRuk_",
        "outputId": "aca3cc9e-e899-4455-fbe4-753b0538cd0e"
      },
      "execution_count": null,
      "outputs": [
        {
          "output_type": "stream",
          "name": "stdout",
          "text": [
            "0.1\n",
            "Roc 0.7739683352912049\n",
            "--------------------------\n",
            "0.2\n",
            "Roc 0.776714549619299\n",
            "--------------------------\n",
            "0.25\n",
            "Roc 0.7768361463903743\n",
            "--------------------------\n",
            "0.3\n",
            "Roc 0.7795311513573233\n",
            "--------------------------\n",
            "0.33\n",
            "Roc 0.7804075834199172\n",
            "--------------------------\n",
            "0.5\n",
            "Roc 0.7797296816518016\n",
            "--------------------------\n"
          ]
        }
      ]
    },
    {
      "cell_type": "code",
      "source": [
        "#Com Clusterização (4)\n",
        "for i in [0.1, 0.2, 0.25, 0.3, 0.33, 0.5]:\n",
        "    X_train, X_test, y_train, y_test = train_test_split(X, y, random_state=42, test_size=i)\n",
        "    pipe_rfe_reglog = make_pipeline(StandardScaler(), RFECV(LogisticRegression(class_weight='balanced'), step=1, cv=5), LogisticRegression(class_weight='balanced') )\n",
        "    pipe_rfe_reglog.fit(X_train, y_train)\n",
        "    y_pred = pipe_rfe_reglog.predict(X_test)\n",
        "    print(i)\n",
        "    print('Roc', roc_auc_score(y_test, y_pred))\n",
        "    print('--------------------------')"
      ],
      "metadata": {
        "colab": {
          "base_uri": "https://localhost:8080/"
        },
        "id": "WDbVLgdQRyki",
        "outputId": "34d117f9-9e14-4630-c984-4499608ed8c9"
      },
      "execution_count": null,
      "outputs": [
        {
          "output_type": "stream",
          "name": "stdout",
          "text": [
            "0.1\n",
            "Roc 0.999754058042302\n",
            "--------------------------\n",
            "0.2\n",
            "Roc 0.9996338784476446\n",
            "--------------------------\n",
            "0.25\n",
            "Roc 0.99970703125\n",
            "--------------------------\n",
            "0.3\n",
            "Roc 0.999755859375\n",
            "--------------------------\n",
            "0.33\n",
            "Roc 0.9997779093870299\n",
            "--------------------------\n",
            "0.5\n",
            "Roc 0.9997534030380746\n",
            "--------------------------\n"
          ]
        }
      ]
    },
    {
      "cell_type": "code",
      "source": [
        "#COm 6 clusters\n",
        "for i in [0.1, 0.2, 0.25, 0.3, 0.33, 0.5]:\n",
        "    X_train, X_test, y_train, y_test = train_test_split(X, y, random_state=42, test_size=i)\n",
        "    pipe_rfe_reglog = make_pipeline(StandardScaler(), RFECV(LogisticRegression(class_weight='balanced'), step=1, cv=5), LogisticRegression(class_weight='balanced') )\n",
        "    pipe_rfe_reglog.fit(X_train, y_train)\n",
        "    y_pred = pipe_rfe_reglog.predict(X_test)\n",
        "    print(i)\n",
        "    print('Roc', roc_auc_score(y_test, y_pred))\n",
        "    print('--------------------------')"
      ],
      "metadata": {
        "colab": {
          "base_uri": "https://localhost:8080/"
        },
        "id": "rsLuPFokkKBV",
        "outputId": "21fefc13-5c6e-4c84-da7c-4bf0597aa0a0"
      },
      "execution_count": null,
      "outputs": [
        {
          "output_type": "stream",
          "name": "stdout",
          "text": [
            "0.1\n",
            "Roc 0.999508116084604\n",
            "--------------------------\n",
            "0.2\n",
            "Roc 0.9997559189650964\n",
            "--------------------------\n",
            "0.25\n",
            "Roc 0.9998046875\n",
            "--------------------------\n",
            "0.3\n",
            "Roc 0.999755859375\n",
            "--------------------------\n",
            "0.33\n",
            "Roc 0.9997779093870299\n",
            "--------------------------\n",
            "0.5\n",
            "Roc 0.9997040836456894\n",
            "--------------------------\n"
          ]
        }
      ]
    },
    {
      "cell_type": "markdown",
      "metadata": {
        "id": "pxztnH4BSpxV"
      },
      "source": [
        "### Melhorando Hiperparametros com GridSearch"
      ]
    },
    {
      "cell_type": "code",
      "source": [
        "X_train, X_test, y_train, y_test = train_test_split(X, y, random_state=42, test_size=0.33)"
      ],
      "metadata": {
        "id": "4YBihpg4qiy3"
      },
      "execution_count": null,
      "outputs": []
    },
    {
      "cell_type": "code",
      "source": [
        "from sklearn.pipeline import Pipeline"
      ],
      "metadata": {
        "id": "jF9UWKdcrDdt"
      },
      "execution_count": null,
      "outputs": []
    },
    {
      "cell_type": "code",
      "source": [
        "pipe_rfe_reglog = Pipeline(\n",
        "    [\n",
        "        (\"std\", StandardScaler()), \n",
        "        (\"RFE\", RFECV(LogisticRegression(class_weight='balanced'), scoring='roc_auc')),\n",
        "        (\"class\", LogisticRegression(class_weight='balanced'))\n",
        "    ]\n",
        ")"
      ],
      "metadata": {
        "id": "duiR-OmalbVo"
      },
      "execution_count": null,
      "outputs": []
    },
    {
      "cell_type": "code",
      "source": [
        "params = {\n",
        "    'RFE__step' : [1, 2, 3, 4, 5],\n",
        "    'RFE__cv' : [3, 4, 5, 6, 7],\n",
        "    'RFE__min_features_to_select': [1, 2, 3],\n",
        "    'class__multi_class': ['auto', 'ovr', 'multinomial']\n",
        "}\n",
        "\n",
        "grid = GridSearchCV(pipe_rfe_reglog, \n",
        "                    params, \n",
        "                    #cv = 20, \n",
        "                    scoring = 'roc_auc')"
      ],
      "metadata": {
        "id": "t_R9j20SqlKG"
      },
      "execution_count": null,
      "outputs": []
    },
    {
      "cell_type": "code",
      "source": [
        "grid.best_params_"
      ],
      "metadata": {
        "colab": {
          "base_uri": "https://localhost:8080/",
          "height": 170
        },
        "id": "dbNpAHVKnB5J",
        "outputId": "e54b517f-a159-4b3f-bc7c-85b1fc653a8c"
      },
      "execution_count": null,
      "outputs": [
        {
          "output_type": "error",
          "ename": "AttributeError",
          "evalue": "ignored",
          "traceback": [
            "\u001b[0;31m---------------------------------------------------------------------------\u001b[0m",
            "\u001b[0;31mAttributeError\u001b[0m                            Traceback (most recent call last)",
            "\u001b[0;32m<ipython-input-50-28c2e4d7952c>\u001b[0m in \u001b[0;36m<module>\u001b[0;34m()\u001b[0m\n\u001b[0;32m----> 1\u001b[0;31m \u001b[0mgrid\u001b[0m\u001b[0;34m.\u001b[0m\u001b[0mbest_params_\u001b[0m\u001b[0;34m\u001b[0m\u001b[0;34m\u001b[0m\u001b[0m\n\u001b[0m",
            "\u001b[0;31mAttributeError\u001b[0m: 'GridSearchCV' object has no attribute 'best_params_'"
          ]
        }
      ]
    },
    {
      "cell_type": "code",
      "source": [
        "modelo = grid.best_estimator_\n",
        "y_pred = modelo.predict(X_test)"
      ],
      "metadata": {
        "colab": {
          "base_uri": "https://localhost:8080/",
          "height": 187
        },
        "id": "RYrYHlfYmD8l",
        "outputId": "a6eeacef-d69a-4a6f-d456-dc9d4ea740c0"
      },
      "execution_count": null,
      "outputs": [
        {
          "output_type": "error",
          "ename": "AttributeError",
          "evalue": "ignored",
          "traceback": [
            "\u001b[0;31m---------------------------------------------------------------------------\u001b[0m",
            "\u001b[0;31mAttributeError\u001b[0m                            Traceback (most recent call last)",
            "\u001b[0;32m<ipython-input-48-2149ca5ec6cb>\u001b[0m in \u001b[0;36m<module>\u001b[0;34m()\u001b[0m\n\u001b[0;32m----> 1\u001b[0;31m \u001b[0mmodelo\u001b[0m \u001b[0;34m=\u001b[0m \u001b[0mgrid\u001b[0m\u001b[0;34m.\u001b[0m\u001b[0mbest_estimator_\u001b[0m\u001b[0;34m\u001b[0m\u001b[0;34m\u001b[0m\u001b[0m\n\u001b[0m\u001b[1;32m      2\u001b[0m \u001b[0my_pred\u001b[0m \u001b[0;34m=\u001b[0m \u001b[0mmodelo\u001b[0m\u001b[0;34m.\u001b[0m\u001b[0mpredict\u001b[0m\u001b[0;34m(\u001b[0m\u001b[0mX_test\u001b[0m\u001b[0;34m)\u001b[0m\u001b[0;34m\u001b[0m\u001b[0;34m\u001b[0m\u001b[0m\n",
            "\u001b[0;31mAttributeError\u001b[0m: 'GridSearchCV' object has no attribute 'best_estimator_'"
          ]
        }
      ]
    },
    {
      "cell_type": "code",
      "source": [
        "pd.DataFrame(grid.cv_results_)"
      ],
      "metadata": {
        "id": "opQfjjL71UFR"
      },
      "execution_count": null,
      "outputs": []
    },
    {
      "cell_type": "code",
      "execution_count": null,
      "metadata": {
        "id": "0UMiPPS6jfuG"
      },
      "outputs": [],
      "source": [
        "ConfusionMatrixDisplay.from_predictions(y_test, y_pred);"
      ]
    },
    {
      "cell_type": "code",
      "execution_count": null,
      "metadata": {
        "id": "Gr8HVri0jfuH"
      },
      "outputs": [],
      "source": [
        "print('Precision', precision_score(y_test, y_pred))\n",
        "print('Acuracia', accuracy_score(y_test, y_pred))\n",
        "print('Recall', recall_score(y_test, y_pred))\n",
        "print('Roc', roc_auc_score(y_test, y_pred))\n",
        "print('f1', f1_score(y_test, y_pred))"
      ]
    },
    {
      "cell_type": "code",
      "source": [
        "msg = \"Terminou de calcular o modelo\"\n",
        "\n",
        "# enviar a mensagem\n",
        "send_message(token1, id1, msg)"
      ],
      "metadata": {
        "id": "ueYgens3qLde"
      },
      "execution_count": null,
      "outputs": []
    },
    {
      "cell_type": "markdown",
      "source": [
        "## Abordagem vencedora do desafio"
      ],
      "metadata": {
        "id": "OeFFm4Adr7ea"
      }
    },
    {
      "cell_type": "markdown",
      "source": [
        "### Interpretação do modelo SHAP\n"
      ],
      "metadata": {
        "id": "OsO11JaS8H81"
      }
    },
    {
      "cell_type": "code",
      "source": [
        ""
      ],
      "metadata": {
        "id": "xZDPwKxqr-Wl"
      },
      "execution_count": null,
      "outputs": []
    }
  ],
  "metadata": {
    "colab": {
      "name": "Desafio Kaggle - Santander Customer Transaction Prediction.ipynb",
      "provenance": [],
      "collapsed_sections": [
        "Dz3O2wvf_ViH",
        "BzM_rTVsD_Lo",
        "Nz07zRGKgobf",
        "O-oWoOomPWXH",
        "JHabZdRlZCcJ",
        "wKytYcb6Qq_K",
        "QuoMDvjMRcDV",
        "YRSJzqJIRdLR",
        "A74BDjWuH_ON",
        "1K6dHToQSBx6",
        "sYw1gbLxK1eP",
        "M2cnqIO6K3it",
        "gtZgOFdLAPzV",
        "LogmT89nSuYM",
        "ryBl5NfVr34I"
      ]
    },
    "kernelspec": {
      "display_name": "Python 3",
      "name": "python3"
    },
    "language_info": {
      "name": "python"
    }
  },
  "nbformat": 4,
  "nbformat_minor": 0
}